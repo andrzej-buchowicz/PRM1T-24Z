{
 "cells": [
  {
   "cell_type": "markdown",
   "id": "e66c2c00-4fcd-4c9f-a36d-8448e78de318",
   "metadata": {},
   "source": [
    "<div style=\"text-align: center; color: #7896cf; font-size: 32px; font-weight: bold; font-family: Arial, Helvetica, sans-serif; padding-bottom: 12px;\">PODSTAWY PROGRAMOWANIA 1</div>\n",
    "<div style=\"text-align: center; color: #3c3c4c; font-size: large; font-family:monospace; padding-bottom:18px;\"> andrzej.buchowicz@pw.edu.pl</div>\n",
    "<div style=\"text-align: center; font-size: 48px; font-family: Arial, Helvetica, sans-serif; padding-bottom: 24px; line-height: 1.25;\">Pomiar czasu wykonania algorytmu</div>"
   ]
  },
  {
   "cell_type": "code",
   "execution_count": null,
   "id": "39638b04-2945-47d4-822e-e73c929fcbba",
   "metadata": {},
   "outputs": [],
   "source": [
    "import time\n",
    "import random"
   ]
  },
  {
   "cell_type": "markdown",
   "id": "b732acc2-9810-421d-ac78-6db90e04dbde",
   "metadata": {},
   "source": [
    "## Funkcja [time.time()](https://docs.python.org/3/library/time.html#time.time)"
   ]
  },
  {
   "cell_type": "code",
   "execution_count": null,
   "id": "b0ee8772-b11f-40b9-814a-fea7ab7f6af8",
   "metadata": {},
   "outputs": [],
   "source": [
    "def bubble_sort(arr):\n",
    "    n = len(arr)\n",
    "\n",
    "    for i in range(n - 1):\n",
    "        for j in range(0, n - i - 1):\n",
    "            if arr[j] > arr[j + 1]:\n",
    "                arr[j], arr[j + 1] = arr[j + 1], arr[j]"
   ]
  },
  {
   "cell_type": "code",
   "execution_count": null,
   "id": "32504f27-5434-40c8-b663-1c1a7a6f9f0a",
   "metadata": {},
   "outputs": [],
   "source": [
    "print(\"    N     time [s]\")\n",
    "for N in [100, 200, 500, 1000, 2000, 5000, 10000]:\n",
    "    arr = [random.randint(1, 100) for n in range(N)]\n",
    "\n",
    "    start = time.time()\n",
    "    bubble_sort(arr)\n",
    "    end = time.time()\n",
    "    print(f'{N:6d}\\t{(end - start):10.6f}')"
   ]
  },
  {
   "cell_type": "markdown",
   "id": "2373cdda-74ad-4b73-8ec9-f5fd0abd5c08",
   "metadata": {},
   "source": [
    "## Funkcja [time.perf_counter()](https://docs.python.org/3/library/time.html#time.perf_counter)"
   ]
  },
  {
   "cell_type": "code",
   "execution_count": null,
   "id": "eec46655-f6a4-4d99-8c78-d28f161ca443",
   "metadata": {},
   "outputs": [],
   "source": [
    "print(\"    N     time [s]\")\n",
    "for N in [100, 200, 500, 1000, 2000, 5000, 10000]:\n",
    "    arr = [random.randint(1, 100) for n in range(N)]\n",
    "\n",
    "    start = time.perf_counter()\n",
    "    bubble_sort(arr)\n",
    "    end = time.perf_counter()\n",
    "    print(f'{N:6d}\\t{(end - start):10.6f}')"
   ]
  },
  {
   "cell_type": "markdown",
   "id": "aa6b5785-06d7-42e6-b696-52c201ee342e",
   "metadata": {},
   "source": [
    "## Funkcja [time.process_time()](https://docs.python.org/3/library/time.html#time.process_time)"
   ]
  },
  {
   "cell_type": "code",
   "execution_count": null,
   "id": "379a7521-76c0-4ad4-87c3-e9cf14a76188",
   "metadata": {},
   "outputs": [],
   "source": [
    "print(\"    N     time [s]\")\n",
    "for N in [100, 200, 500, 1000, 2000, 5000, 10000]:\n",
    "    arr = [random.randint(1, 100) for n in range(N)]\n",
    "\n",
    "    start = time.process_time()\n",
    "    bubble_sort(arr)\n",
    "    end = time.process_time()\n",
    "    print(f'{N:6d}\\t{(end - start):10.6f}')"
   ]
  },
  {
   "cell_type": "markdown",
   "id": "cfdf5495-b6c7-45c4-b47a-2afbf50321c5",
   "metadata": {},
   "source": [
    "## Funkcja [timeit.timeit()](https://docs.python.org/3/library/timeit.html#timeit.timeit)"
   ]
  },
  {
   "cell_type": "code",
   "execution_count": null,
   "id": "d203c3e7-b176-426f-b9c6-66c16785ebb6",
   "metadata": {},
   "outputs": [],
   "source": [
    "import timeit"
   ]
  },
  {
   "cell_type": "code",
   "execution_count": null,
   "id": "ecda9811-6504-49bc-b313-f7223e43d77d",
   "metadata": {},
   "outputs": [],
   "source": [
    "timeit_setup = \"\"\"\n",
    "def bubble_sort(arr):\n",
    "    n = len(arr)\n",
    "\n",
    "    for i in range(n - 1):\n",
    "        for j in range(0, n - i - 1):\n",
    "            if arr[j] > arr[j + 1]:\n",
    "                arr[j], arr[j + 1] = arr[j + 1], arr[j]\n",
    "\"\"\""
   ]
  },
  {
   "cell_type": "code",
   "execution_count": null,
   "id": "adcca233-260e-4cc2-a5e3-cf5f0cd72764",
   "metadata": {},
   "outputs": [],
   "source": [
    "timeit_code = \"\"\"\n",
    "arr = [random.randint(1, 100) for n in range(N)]\n",
    "bubble_sort(arr)\n",
    "\"\"\""
   ]
  },
  {
   "cell_type": "code",
   "execution_count": null,
   "id": "ce327c81-90ea-45ed-9f6a-4c028615b0b8",
   "metadata": {},
   "outputs": [],
   "source": [
    "print(\"    N     time [s]\")\n",
    "for N in [100, 200, 500, 1000, 2000, 5000, 10000]:\n",
    "    time = timeit.timeit(timeit_code, setup=timeit_setup, number=1, globals=globals())\n",
    "    print(f'{N:6d}\\t{time:10.6f}')"
   ]
  }
 ],
 "metadata": {
  "kernelspec": {
   "display_name": "Python 3 (ipykernel)",
   "language": "python",
   "name": "python3"
  },
  "language_info": {
   "codemirror_mode": {
    "name": "ipython",
    "version": 3
   },
   "file_extension": ".py",
   "mimetype": "text/x-python",
   "name": "python",
   "nbconvert_exporter": "python",
   "pygments_lexer": "ipython3",
   "version": "3.10.13"
  }
 },
 "nbformat": 4,
 "nbformat_minor": 5
}
