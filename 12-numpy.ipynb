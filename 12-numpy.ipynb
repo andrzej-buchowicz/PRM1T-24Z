{
 "cells": [
  {
   "cell_type": "markdown",
   "metadata": {
    "id": "HPjNoSgcZjo-",
    "slideshow": {
     "slide_type": "slide"
    }
   },
   "source": [
    "<div style=\"text-align: center; color: #7896cf; font-size: 32px; font-weight: bold; font-family: Arial, Helvetica, sans-serif; padding-bottom: 12px;\">PODSTAWY PROGRAMOWANIA 1</div>\n",
    "<div style=\"text-align: center; color: #3c3c4c; font-size: large; font-family:monospace; padding-bottom:18px;\"> andrzej.buchowicz@pw.edu.pl</div>\n",
    "<div style=\"text-align: center; font-size: 48px; font-family: Arial, Helvetica, sans-serif; padding-bottom: 24px; line-height: 1.25;\">Obliczenia numeryczne - pakiet numpy</div>"
   ]
  },
  {
   "cell_type": "markdown",
   "metadata": {
    "id": "DJpT-kbNduiz",
    "slideshow": {
     "slide_type": "slide"
    }
   },
   "source": [
    "## Wielowymiarowa tablica `np.ndarray`"
   ]
  },
  {
   "cell_type": "code",
   "execution_count": null,
   "metadata": {
    "executionInfo": {
     "elapsed": 31,
     "status": "ok",
     "timestamp": 1623479190132,
     "user": {
      "displayName": "Andrzej Buchowicz",
      "photoUrl": "",
      "userId": "01135068444767945835"
     },
     "user_tz": -120
    },
    "id": "0cP_LQ4xFdn8",
    "slideshow": {
     "slide_type": "fragment"
    }
   },
   "outputs": [],
   "source": [
    "import numpy as np"
   ]
  },
  {
   "cell_type": "code",
   "execution_count": null,
   "metadata": {
    "slideshow": {
     "slide_type": "fragment"
    }
   },
   "outputs": [],
   "source": [
    "x0 = np.array(1)\n",
    "print(x0)\n",
    "print(type(x0))\n",
    "print(x0.shape, x0.dtype)"
   ]
  },
  {
   "cell_type": "code",
   "execution_count": null,
   "metadata": {
    "colab": {
     "base_uri": "https://localhost:8080/"
    },
    "executionInfo": {
     "elapsed": 31,
     "status": "ok",
     "timestamp": 1623479190133,
     "user": {
      "displayName": "Andrzej Buchowicz",
      "photoUrl": "",
      "userId": "01135068444767945835"
     },
     "user_tz": -120
    },
    "id": "-4MhQEi8avBX",
    "outputId": "4497cd75-a027-41d0-e5b5-09a4f0b5f9ff",
    "slideshow": {
     "slide_type": "fragment"
    }
   },
   "outputs": [],
   "source": [
    "x1 = np.array([1, 2, 3, 4.])\n",
    "print(x1)\n",
    "print(x1.shape, x1.dtype)"
   ]
  },
  {
   "cell_type": "code",
   "execution_count": null,
   "metadata": {
    "colab": {
     "base_uri": "https://localhost:8080/"
    },
    "executionInfo": {
     "elapsed": 28,
     "status": "ok",
     "timestamp": 1623479190133,
     "user": {
      "displayName": "Andrzej Buchowicz",
      "photoUrl": "",
      "userId": "01135068444767945835"
     },
     "user_tz": -120
    },
    "id": "4ip2LLnva7Mk",
    "outputId": "234c4017-a371-4b37-a3a3-dbab8c5910a9",
    "slideshow": {
     "slide_type": "fragment"
    }
   },
   "outputs": [],
   "source": [
    "x2 = np.array([[1., 2, 3, 4],])\n",
    "print(x2)\n",
    "print(x2.shape, x2.dtype)"
   ]
  },
  {
   "cell_type": "code",
   "execution_count": null,
   "metadata": {
    "colab": {
     "base_uri": "https://localhost:8080/"
    },
    "executionInfo": {
     "elapsed": 26,
     "status": "ok",
     "timestamp": 1623479190134,
     "user": {
      "displayName": "Andrzej Buchowicz",
      "photoUrl": "",
      "userId": "01135068444767945835"
     },
     "user_tz": -120
    },
    "id": "_bATKzdlbdWD",
    "outputId": "e68ab442-5fb3-4f28-a888-bdae1a2dae48",
    "slideshow": {
     "slide_type": "subslide"
    }
   },
   "outputs": [],
   "source": [
    "x3 = np.array([[ 1,  2,  3,  4],\n",
    "               [11, 12, 13, 14]])\n",
    "print(x3)\n",
    "print(x3.shape, x3.dtype)"
   ]
  },
  {
   "cell_type": "markdown",
   "metadata": {},
   "source": [
    "### Inicjalizacja tablicy"
   ]
  },
  {
   "cell_type": "code",
   "execution_count": null,
   "metadata": {
    "colab": {
     "base_uri": "https://localhost:8080/"
    },
    "executionInfo": {
     "elapsed": 20,
     "status": "ok",
     "timestamp": 1623479190135,
     "user": {
      "displayName": "Andrzej Buchowicz",
      "photoUrl": "",
      "userId": "01135068444767945835"
     },
     "user_tz": -120
    },
    "id": "ghi1ViyJXI-Z",
    "outputId": "32dd26b1-3988-4f90-898f-7ecd6affadf7",
    "slideshow": {
     "slide_type": "subslide"
    }
   },
   "outputs": [],
   "source": [
    "np.zeros(5)"
   ]
  },
  {
   "cell_type": "code",
   "execution_count": null,
   "metadata": {
    "colab": {
     "base_uri": "https://localhost:8080/"
    },
    "executionInfo": {
     "elapsed": 17,
     "status": "ok",
     "timestamp": 1623479190135,
     "user": {
      "displayName": "Andrzej Buchowicz",
      "photoUrl": "",
      "userId": "01135068444767945835"
     },
     "user_tz": -120
    },
    "id": "P5awg0yQXNy7",
    "outputId": "11d6dc57-6b3e-41d4-fba7-376e7c0314eb",
    "slideshow": {
     "slide_type": "subslide"
    }
   },
   "outputs": [],
   "source": [
    "np.ones((5, 1), dtype=np.uint8)"
   ]
  },
  {
   "cell_type": "code",
   "execution_count": null,
   "metadata": {
    "colab": {
     "base_uri": "https://localhost:8080/"
    },
    "executionInfo": {
     "elapsed": 15,
     "status": "ok",
     "timestamp": 1623479190136,
     "user": {
      "displayName": "Andrzej Buchowicz",
      "photoUrl": "",
      "userId": "01135068444767945835"
     },
     "user_tz": -120
    },
    "id": "MuzWbQ8scpGN",
    "outputId": "e4e70bc0-1dfe-46c1-cb40-1f2b84a4a412",
    "slideshow": {
     "slide_type": "subslide"
    }
   },
   "outputs": [],
   "source": [
    "np.eye(5, dtype=np.int16)"
   ]
  },
  {
   "cell_type": "code",
   "execution_count": null,
   "metadata": {},
   "outputs": [],
   "source": [
    "np.arange(11)"
   ]
  },
  {
   "cell_type": "code",
   "execution_count": null,
   "metadata": {},
   "outputs": [],
   "source": [
    "np.linspace(0, 10, 11)"
   ]
  },
  {
   "cell_type": "markdown",
   "metadata": {},
   "source": [
    "### Indeksowanie"
   ]
  },
  {
   "cell_type": "code",
   "execution_count": null,
   "metadata": {},
   "outputs": [],
   "source": [
    "print(x3)\n",
    "x3[0, 0]"
   ]
  },
  {
   "cell_type": "code",
   "execution_count": null,
   "metadata": {},
   "outputs": [],
   "source": [
    "x3[1, 0]"
   ]
  },
  {
   "cell_type": "code",
   "execution_count": null,
   "metadata": {},
   "outputs": [],
   "source": [
    "x3[0, 1]"
   ]
  },
  {
   "cell_type": "code",
   "execution_count": null,
   "metadata": {
    "colab": {
     "base_uri": "https://localhost:8080/"
    },
    "executionInfo": {
     "elapsed": 24,
     "status": "ok",
     "timestamp": 1623479190134,
     "user": {
      "displayName": "Andrzej Buchowicz",
      "photoUrl": "",
      "userId": "01135068444767945835"
     },
     "user_tz": -120
    },
    "id": "FDAV26JSZRh0",
    "outputId": "8514b411-3820-427f-ae1c-ee9a82e0f8ef",
    "slideshow": {
     "slide_type": "fragment"
    }
   },
   "outputs": [],
   "source": [
    "x3[:, 0:1]"
   ]
  },
  {
   "cell_type": "code",
   "execution_count": null,
   "metadata": {
    "colab": {
     "base_uri": "https://localhost:8080/"
    },
    "executionInfo": {
     "elapsed": 21,
     "status": "ok",
     "timestamp": 1623479190134,
     "user": {
      "displayName": "Andrzej Buchowicz",
      "photoUrl": "",
      "userId": "01135068444767945835"
     },
     "user_tz": -120
    },
    "id": "61hHY8YHY_34",
    "outputId": "f9fe7948-9ebc-4905-8a6e-59b2df019dd4",
    "slideshow": {
     "slide_type": "fragment"
    }
   },
   "outputs": [],
   "source": [
    "x3[:, 0::2]"
   ]
  },
  {
   "cell_type": "code",
   "execution_count": null,
   "metadata": {},
   "outputs": [],
   "source": [
    "x4 = np.arange(11)\n",
    "x4"
   ]
  },
  {
   "cell_type": "code",
   "execution_count": null,
   "metadata": {},
   "outputs": [],
   "source": [
    "x4 > 5"
   ]
  },
  {
   "cell_type": "code",
   "execution_count": null,
   "metadata": {},
   "outputs": [],
   "source": [
    "x4 [ x4 > 5]"
   ]
  },
  {
   "cell_type": "code",
   "execution_count": null,
   "metadata": {},
   "outputs": [],
   "source": [
    "np.where(x4 <= 5, 0, 1)"
   ]
  },
  {
   "cell_type": "code",
   "execution_count": null,
   "metadata": {},
   "outputs": [],
   "source": [
    "np.where(x4 <= 5, -x4, x4)"
   ]
  },
  {
   "cell_type": "markdown",
   "metadata": {
    "id": "DIOWqcSLeDhe",
    "slideshow": {
     "slide_type": "slide"
    }
   },
   "source": [
    "### Transpozycja"
   ]
  },
  {
   "cell_type": "code",
   "execution_count": null,
   "metadata": {
    "colab": {
     "base_uri": "https://localhost:8080/"
    },
    "executionInfo": {
     "elapsed": 12,
     "status": "ok",
     "timestamp": 1623479190136,
     "user": {
      "displayName": "Andrzej Buchowicz",
      "photoUrl": "",
      "userId": "01135068444767945835"
     },
     "user_tz": -120
    },
    "id": "WyXP7JmVcUgV",
    "outputId": "d216138f-c17a-4e36-9777-70710691826b",
    "slideshow": {
     "slide_type": "fragment"
    }
   },
   "outputs": [],
   "source": [
    "print(x1)\n",
    "print(x1.shape)"
   ]
  },
  {
   "cell_type": "code",
   "execution_count": null,
   "metadata": {
    "colab": {
     "base_uri": "https://localhost:8080/"
    },
    "executionInfo": {
     "elapsed": 436,
     "status": "ok",
     "timestamp": 1623479190563,
     "user": {
      "displayName": "Andrzej Buchowicz",
      "photoUrl": "",
      "userId": "01135068444767945835"
     },
     "user_tz": -120
    },
    "id": "3EA9UUX6Ca8-",
    "outputId": "6e23bfbb-e14b-48b4-c54e-6d4fb161dde1",
    "slideshow": {
     "slide_type": "fragment"
    }
   },
   "outputs": [],
   "source": [
    "print(x1.T)\n",
    "print(x1.T.shape)"
   ]
  },
  {
   "cell_type": "code",
   "execution_count": null,
   "metadata": {
    "colab": {
     "base_uri": "https://localhost:8080/"
    },
    "executionInfo": {
     "elapsed": 84,
     "status": "ok",
     "timestamp": 1623479190564,
     "user": {
      "displayName": "Andrzej Buchowicz",
      "photoUrl": "",
      "userId": "01135068444767945835"
     },
     "user_tz": -120
    },
    "id": "SCZLW1uqOz3D",
    "outputId": "481c9b6e-54ca-421d-bac5-09c224d947f1",
    "slideshow": {
     "slide_type": "fragment"
    }
   },
   "outputs": [],
   "source": [
    "print(x2)\n",
    "print(x2.shape)"
   ]
  },
  {
   "cell_type": "code",
   "execution_count": null,
   "metadata": {
    "colab": {
     "base_uri": "https://localhost:8080/"
    },
    "executionInfo": {
     "elapsed": 79,
     "status": "ok",
     "timestamp": 1623479190564,
     "user": {
      "displayName": "Andrzej Buchowicz",
      "photoUrl": "",
      "userId": "01135068444767945835"
     },
     "user_tz": -120
    },
    "id": "iH9YWkvrCgHE",
    "outputId": "9ccd9de3-cb35-40a8-e502-b718e5542496",
    "slideshow": {
     "slide_type": "fragment"
    }
   },
   "outputs": [],
   "source": [
    "print(x2.T)\n",
    "print(x2.T.shape)"
   ]
  },
  {
   "cell_type": "code",
   "execution_count": null,
   "metadata": {
    "colab": {
     "base_uri": "https://localhost:8080/"
    },
    "executionInfo": {
     "elapsed": 73,
     "status": "ok",
     "timestamp": 1623479190565,
     "user": {
      "displayName": "Andrzej Buchowicz",
      "photoUrl": "",
      "userId": "01135068444767945835"
     },
     "user_tz": -120
    },
    "id": "kBhWFNlucRjB",
    "outputId": "504ca60e-f47c-4178-fa7b-fc031dfd9606",
    "slideshow": {
     "slide_type": "subslide"
    }
   },
   "outputs": [],
   "source": [
    "print(x3)\n",
    "print(x3.shape, x3.dtype)"
   ]
  },
  {
   "cell_type": "code",
   "execution_count": null,
   "metadata": {
    "colab": {
     "base_uri": "https://localhost:8080/"
    },
    "executionInfo": {
     "elapsed": 70,
     "status": "ok",
     "timestamp": 1623479190565,
     "user": {
      "displayName": "Andrzej Buchowicz",
      "photoUrl": "",
      "userId": "01135068444767945835"
     },
     "user_tz": -120
    },
    "id": "tXPJLrMqCrJY",
    "outputId": "838c7394-17f9-4696-e156-17210c0d374f",
    "slideshow": {
     "slide_type": "fragment"
    }
   },
   "outputs": [],
   "source": [
    "x4 = x3.T\n",
    "print(x4)\n",
    "print(x4.shape, x4.dtype)"
   ]
  },
  {
   "cell_type": "markdown",
   "metadata": {
    "id": "aJAzPU3Eexob",
    "slideshow": {
     "slide_type": "slide"
    }
   },
   "source": [
    "### Zmiana rozmiarów tablicy"
   ]
  },
  {
   "cell_type": "code",
   "execution_count": null,
   "metadata": {
    "slideshow": {
     "slide_type": "fragment"
    }
   },
   "outputs": [],
   "source": [
    "print(x3, x3.shape)"
   ]
  },
  {
   "cell_type": "code",
   "execution_count": null,
   "metadata": {
    "colab": {
     "base_uri": "https://localhost:8080/"
    },
    "executionInfo": {
     "elapsed": 68,
     "status": "ok",
     "timestamp": 1623479190566,
     "user": {
      "displayName": "Andrzej Buchowicz",
      "photoUrl": "",
      "userId": "01135068444767945835"
     },
     "user_tz": -120
    },
    "id": "xhcf4SKRByNl",
    "outputId": "7c9a4b1a-a520-4907-92a5-96c1832831c7",
    "slideshow": {
     "slide_type": "fragment"
    }
   },
   "outputs": [],
   "source": [
    "x3.reshape(4, 2)    # to nie jest transpozycja !!!"
   ]
  },
  {
   "cell_type": "code",
   "execution_count": null,
   "metadata": {
    "slideshow": {
     "slide_type": "fragment"
    }
   },
   "outputs": [],
   "source": [
    "print(x3.T, x3.T.shape)"
   ]
  },
  {
   "cell_type": "code",
   "execution_count": null,
   "metadata": {
    "colab": {
     "base_uri": "https://localhost:8080/"
    },
    "executionInfo": {
     "elapsed": 61,
     "status": "ok",
     "timestamp": 1623479190566,
     "user": {
      "displayName": "Andrzej Buchowicz",
      "photoUrl": "",
      "userId": "01135068444767945835"
     },
     "user_tz": -120
    },
    "id": "7BPkoPWxOW5W",
    "outputId": "5eed96e8-efa8-48b7-b0e4-f4510231d455",
    "slideshow": {
     "slide_type": "subslide"
    }
   },
   "outputs": [],
   "source": [
    "x5 = x3.reshape(-1, 8)\n",
    "print(x5)\n",
    "print(x5.shape, x5.dtype)"
   ]
  },
  {
   "cell_type": "code",
   "execution_count": null,
   "metadata": {
    "colab": {
     "base_uri": "https://localhost:8080/"
    },
    "executionInfo": {
     "elapsed": 59,
     "status": "ok",
     "timestamp": 1623479190567,
     "user": {
      "displayName": "Andrzej Buchowicz",
      "photoUrl": "",
      "userId": "01135068444767945835"
     },
     "user_tz": -120
    },
    "id": "FNSx1QcIPEKr",
    "outputId": "fce57caa-3711-4ac8-ea29-71829837a492",
    "slideshow": {
     "slide_type": "subslide"
    }
   },
   "outputs": [],
   "source": [
    "x5 = x3.reshape(4, 2)\n",
    "print(x5)\n",
    "print(x5.shape, x5.dtype)"
   ]
  },
  {
   "cell_type": "markdown",
   "metadata": {},
   "source": [
    "### Kopiowanie pamięci przy zmianie rozmiarów tablicy"
   ]
  },
  {
   "cell_type": "code",
   "execution_count": null,
   "metadata": {
    "slideshow": {
     "slide_type": "subslide"
    }
   },
   "outputs": [],
   "source": [
    "x3 = np.array([[ 1,  2,  3,  4],\n",
    "               [11, 12, 13, 14]])\n",
    "x5 = x3.reshape(8, -1)\n",
    "x5"
   ]
  },
  {
   "cell_type": "code",
   "execution_count": null,
   "metadata": {},
   "outputs": [],
   "source": [
    "x5[0, 0] = 123\n",
    "x5, x3"
   ]
  },
  {
   "cell_type": "code",
   "execution_count": null,
   "metadata": {
    "colab": {
     "base_uri": "https://localhost:8080/"
    },
    "executionInfo": {
     "elapsed": 57,
     "status": "ok",
     "timestamp": 1623479190568,
     "user": {
      "displayName": "Andrzej Buchowicz",
      "photoUrl": "",
      "userId": "01135068444767945835"
     },
     "user_tz": -120
    },
    "id": "47IbhyKvDGJ0",
    "outputId": "6d9b524b-b42d-48b5-e44f-85fb7fedd708",
    "slideshow": {
     "slide_type": "subslide"
    }
   },
   "outputs": [],
   "source": [
    "x3 = np.array([[ 1,  2,  3,  4],\n",
    "               [11, 12, 13, 14]])\n",
    "\n",
    "xc = x3.flatten()      # always returns a copy!\n",
    "xc"
   ]
  },
  {
   "cell_type": "code",
   "execution_count": null,
   "metadata": {
    "slideshow": {
     "slide_type": "fragment"
    }
   },
   "outputs": [],
   "source": [
    "xc[0] = 123\n",
    "xc, x3"
   ]
  },
  {
   "cell_type": "code",
   "execution_count": null,
   "metadata": {
    "colab": {
     "base_uri": "https://localhost:8080/"
    },
    "executionInfo": {
     "elapsed": 54,
     "status": "ok",
     "timestamp": 1623479190568,
     "user": {
      "displayName": "Andrzej Buchowicz",
      "photoUrl": "",
      "userId": "01135068444767945835"
     },
     "user_tz": -120
    },
    "id": "4P8RqI5xDKbm",
    "outputId": "cf926137-5829-4ae9-b1a9-07692ab1b236",
    "slideshow": {
     "slide_type": "subslide"
    }
   },
   "outputs": [],
   "source": [
    "xv = x3.ravel()        # returns a view of the original array whenever possible\n",
    "xv"
   ]
  },
  {
   "cell_type": "code",
   "execution_count": null,
   "metadata": {
    "slideshow": {
     "slide_type": "fragment"
    }
   },
   "outputs": [],
   "source": [
    "xv[0] = 123\n",
    "xv, x3"
   ]
  },
  {
   "cell_type": "markdown",
   "metadata": {},
   "source": [
    "### Zmiana typu elementów tablicy"
   ]
  },
  {
   "cell_type": "code",
   "execution_count": null,
   "metadata": {},
   "outputs": [],
   "source": [
    "x3 = np.array([[ 1,  2,  3,  4],\n",
    "               [11, 12, 13, 14]])\n",
    "x5 = x3.reshape(8, -1)\n",
    "x5, x5.dtype"
   ]
  },
  {
   "cell_type": "code",
   "execution_count": null,
   "metadata": {
    "colab": {
     "base_uri": "https://localhost:8080/"
    },
    "executionInfo": {
     "elapsed": 48,
     "status": "ok",
     "timestamp": 1623479190568,
     "user": {
      "displayName": "Andrzej Buchowicz",
      "photoUrl": "",
      "userId": "01135068444767945835"
     },
     "user_tz": -120
    },
    "id": "zKIeNNOCP3q9",
    "outputId": "668c9375-ff6f-4667-fec2-f97b7fc971a5",
    "slideshow": {
     "slide_type": "fragment"
    }
   },
   "outputs": [],
   "source": [
    "xf = x5.astype(np.float64)\n",
    "xf, xf.dtype"
   ]
  },
  {
   "cell_type": "markdown",
   "metadata": {
    "id": "Vy-_7UJ-xoST",
    "slideshow": {
     "slide_type": "slide"
    }
   },
   "source": [
    "### Dodawanie wierszy"
   ]
  },
  {
   "cell_type": "code",
   "execution_count": null,
   "metadata": {},
   "outputs": [],
   "source": [
    "x3 = np.array([[ 1,  2,  3,  4],\n",
    "               [11, 12, 13, 14]])\n",
    "x3"
   ]
  },
  {
   "cell_type": "code",
   "execution_count": null,
   "metadata": {
    "colab": {
     "base_uri": "https://localhost:8080/"
    },
    "executionInfo": {
     "elapsed": 46,
     "status": "ok",
     "timestamp": 1623479190569,
     "user": {
      "displayName": "Andrzej Buchowicz",
      "photoUrl": "",
      "userId": "01135068444767945835"
     },
     "user_tz": -120
    },
    "id": "nRHj3k7bEHss",
    "outputId": "7a724b12-4b8c-4f29-ed35-ed4f5e224527",
    "slideshow": {
     "slide_type": "fragment"
    }
   },
   "outputs": [],
   "source": [
    "np.vstack((x3, [21, 22, 23, 24]))"
   ]
  },
  {
   "cell_type": "code",
   "execution_count": null,
   "metadata": {},
   "outputs": [],
   "source": [
    "np.concatenate([x3, [[21, 22, 23, 24]]], axis=0)"
   ]
  },
  {
   "cell_type": "markdown",
   "metadata": {
    "id": "6tYAHdkaEEy_",
    "slideshow": {
     "slide_type": "slide"
    }
   },
   "source": [
    "### Dodawanie kolumn"
   ]
  },
  {
   "cell_type": "code",
   "execution_count": null,
   "metadata": {},
   "outputs": [],
   "source": [
    "x3 = np.array([[ 1,  2,  3,  4],\n",
    "               [11, 12, 13, 14]])\n",
    "x3"
   ]
  },
  {
   "cell_type": "code",
   "execution_count": null,
   "metadata": {
    "colab": {
     "base_uri": "https://localhost:8080/"
    },
    "executionInfo": {
     "elapsed": 42,
     "status": "ok",
     "timestamp": 1623479190569,
     "user": {
      "displayName": "Andrzej Buchowicz",
      "photoUrl": "",
      "userId": "01135068444767945835"
     },
     "user_tz": -120
    },
    "id": "L3K5Man2EdX5",
    "outputId": "f40ee8b3-5226-49ee-90d9-0ef1153e0f7a",
    "slideshow": {
     "slide_type": "fragment"
    }
   },
   "outputs": [],
   "source": [
    "np.hstack((x3, [[5, 6], [15, 16]]))"
   ]
  },
  {
   "cell_type": "code",
   "execution_count": null,
   "metadata": {},
   "outputs": [],
   "source": [
    "np.concatenate([x3, [[5, 6], [15, 16]]], axis=1)"
   ]
  },
  {
   "cell_type": "markdown",
   "metadata": {
    "id": "GMuQ_5MBBgp2",
    "slideshow": {
     "slide_type": "slide"
    }
   },
   "source": [
    "### Statystyki"
   ]
  },
  {
   "cell_type": "code",
   "execution_count": null,
   "metadata": {
    "colab": {
     "base_uri": "https://localhost:8080/"
    },
    "executionInfo": {
     "elapsed": 41,
     "status": "ok",
     "timestamp": 1623479190570,
     "user": {
      "displayName": "Andrzej Buchowicz",
      "photoUrl": "",
      "userId": "01135068444767945835"
     },
     "user_tz": -120
    },
    "id": "-O3mmPFBFtb_",
    "outputId": "b59f5fe4-3c8c-4386-9a05-7548523a7459",
    "slideshow": {
     "slide_type": "fragment"
    }
   },
   "outputs": [],
   "source": [
    "x3"
   ]
  },
  {
   "cell_type": "code",
   "execution_count": null,
   "metadata": {
    "colab": {
     "base_uri": "https://localhost:8080/"
    },
    "executionInfo": {
     "elapsed": 37,
     "status": "ok",
     "timestamp": 1623479190570,
     "user": {
      "displayName": "Andrzej Buchowicz",
      "photoUrl": "",
      "userId": "01135068444767945835"
     },
     "user_tz": -120
    },
    "id": "-F5JsD0wFxHg",
    "outputId": "dbf144bf-ab08-4018-9ee6-985d7c3ce0e7",
    "slideshow": {
     "slide_type": "fragment"
    }
   },
   "outputs": [],
   "source": [
    "np.min(x3)"
   ]
  },
  {
   "cell_type": "code",
   "execution_count": null,
   "metadata": {
    "colab": {
     "base_uri": "https://localhost:8080/"
    },
    "executionInfo": {
     "elapsed": 34,
     "status": "ok",
     "timestamp": 1623479190571,
     "user": {
      "displayName": "Andrzej Buchowicz",
      "photoUrl": "",
      "userId": "01135068444767945835"
     },
     "user_tz": -120
    },
    "id": "U6g7HtMMGF_4",
    "outputId": "a424d54a-a7fd-4435-fe03-5a1011158ee7",
    "slideshow": {
     "slide_type": "fragment"
    }
   },
   "outputs": [],
   "source": [
    "np.max(x3)"
   ]
  },
  {
   "cell_type": "code",
   "execution_count": null,
   "metadata": {
    "colab": {
     "base_uri": "https://localhost:8080/"
    },
    "executionInfo": {
     "elapsed": 30,
     "status": "ok",
     "timestamp": 1623479190571,
     "user": {
      "displayName": "Andrzej Buchowicz",
      "photoUrl": "",
      "userId": "01135068444767945835"
     },
     "user_tz": -120
    },
    "id": "R5ngAYIyF2CA",
    "outputId": "9e38d082-bfde-4d28-a9b4-abd6ad64ca4c",
    "slideshow": {
     "slide_type": "fragment"
    }
   },
   "outputs": [],
   "source": [
    "np.min(x3, axis=0)"
   ]
  },
  {
   "cell_type": "code",
   "execution_count": null,
   "metadata": {
    "colab": {
     "base_uri": "https://localhost:8080/"
    },
    "executionInfo": {
     "elapsed": 28,
     "status": "ok",
     "timestamp": 1623479190572,
     "user": {
      "displayName": "Andrzej Buchowicz",
      "photoUrl": "",
      "userId": "01135068444767945835"
     },
     "user_tz": -120
    },
    "id": "Us1Lq6C6GJYC",
    "outputId": "e2a1787c-1741-43fb-ae48-c10696ce41f5",
    "slideshow": {
     "slide_type": "fragment"
    }
   },
   "outputs": [],
   "source": [
    "np.max(x3, axis=0)"
   ]
  },
  {
   "cell_type": "code",
   "execution_count": null,
   "metadata": {
    "colab": {
     "base_uri": "https://localhost:8080/"
    },
    "executionInfo": {
     "elapsed": 26,
     "status": "ok",
     "timestamp": 1623479190572,
     "user": {
      "displayName": "Andrzej Buchowicz",
      "photoUrl": "",
      "userId": "01135068444767945835"
     },
     "user_tz": -120
    },
    "id": "cDab2lU4GPnH",
    "outputId": "ee31949a-26aa-4633-dab2-a18289e08f5b",
    "slideshow": {
     "slide_type": "fragment"
    }
   },
   "outputs": [],
   "source": [
    "np.min(x3, axis=1)"
   ]
  },
  {
   "cell_type": "code",
   "execution_count": null,
   "metadata": {
    "colab": {
     "base_uri": "https://localhost:8080/"
    },
    "executionInfo": {
     "elapsed": 23,
     "status": "ok",
     "timestamp": 1623479190573,
     "user": {
      "displayName": "Andrzej Buchowicz",
      "photoUrl": "",
      "userId": "01135068444767945835"
     },
     "user_tz": -120
    },
    "id": "X7TGLiteGUbk",
    "outputId": "4a3724dd-babc-49fe-bd28-8ce849ae2783",
    "slideshow": {
     "slide_type": "fragment"
    }
   },
   "outputs": [],
   "source": [
    "np.max(x3, axis=1)"
   ]
  },
  {
   "cell_type": "code",
   "execution_count": null,
   "metadata": {
    "colab": {
     "base_uri": "https://localhost:8080/"
    },
    "executionInfo": {
     "elapsed": 20,
     "status": "ok",
     "timestamp": 1623479190573,
     "user": {
      "displayName": "Andrzej Buchowicz",
      "photoUrl": "",
      "userId": "01135068444767945835"
     },
     "user_tz": -120
    },
    "id": "pUKRthZcGcJG",
    "outputId": "6cfcc5a0-0276-47b8-cfad-527d26daedb7",
    "slideshow": {
     "slide_type": "subslide"
    }
   },
   "outputs": [],
   "source": [
    "np.sum(x3)"
   ]
  },
  {
   "cell_type": "code",
   "execution_count": null,
   "metadata": {
    "colab": {
     "base_uri": "https://localhost:8080/"
    },
    "executionInfo": {
     "elapsed": 358,
     "status": "ok",
     "timestamp": 1623479190913,
     "user": {
      "displayName": "Andrzej Buchowicz",
      "photoUrl": "",
      "userId": "01135068444767945835"
     },
     "user_tz": -120
    },
    "id": "0MRDW6zlGe1S",
    "outputId": "6facc148-93e5-4606-8a92-5c09ba281584",
    "slideshow": {
     "slide_type": "subslide"
    }
   },
   "outputs": [],
   "source": [
    "np.mean(x3)"
   ]
  },
  {
   "cell_type": "code",
   "execution_count": null,
   "metadata": {
    "colab": {
     "base_uri": "https://localhost:8080/"
    },
    "executionInfo": {
     "elapsed": 62,
     "status": "ok",
     "timestamp": 1623479190914,
     "user": {
      "displayName": "Andrzej Buchowicz",
      "photoUrl": "",
      "userId": "01135068444767945835"
     },
     "user_tz": -120
    },
    "id": "4n_AFyW1GtPG",
    "outputId": "374a61d9-552f-43f4-87ae-e15b414f15a3",
    "slideshow": {
     "slide_type": "subslide"
    }
   },
   "outputs": [],
   "source": [
    "x6 = np.array([0, 1, 2, 3, 4, 5, 6, 7])\n",
    "print(x6)\n",
    "print(np.argmin(x6), np.argmax(x6))"
   ]
  },
  {
   "cell_type": "code",
   "execution_count": null,
   "metadata": {
    "slideshow": {
     "slide_type": "subslide"
    }
   },
   "outputs": [],
   "source": [
    "x7 = x6.reshape(4, 2)\n",
    "print(x7)\n",
    "print(np.argmin(x7), np.argmax(x7))"
   ]
  },
  {
   "cell_type": "code",
   "execution_count": null,
   "metadata": {
    "slideshow": {
     "slide_type": "fragment"
    }
   },
   "outputs": [],
   "source": [
    "print(np.unravel_index(np.argmin(x7), x7.shape),\n",
    "      np.unravel_index(np.argmax(x7), x7.shape))"
   ]
  },
  {
   "cell_type": "markdown",
   "metadata": {
    "id": "MWtr7C6VfJ6d",
    "slideshow": {
     "slide_type": "slide"
    }
   },
   "source": [
    "## Obliczenia z wykorzystaniem tablic\n",
    "\n",
    "### Dostosowanie wymiarów tablic - [broadcasting](https://numpy.org/devdocs/user/basics.broadcasting.html)"
   ]
  },
  {
   "cell_type": "code",
   "execution_count": null,
   "metadata": {
    "executionInfo": {
     "elapsed": 59,
     "status": "ok",
     "timestamp": 1623479190914,
     "user": {
      "displayName": "Andrzej Buchowicz",
      "photoUrl": "",
      "userId": "01135068444767945835"
     },
     "user_tz": -120
    },
    "id": "r8wpnnG_TWNy",
    "slideshow": {
     "slide_type": "fragment"
    }
   },
   "outputs": [],
   "source": [
    "A = np.array([[1, 2],\n",
    "              [3, 4]])\n",
    "B = np.array([[10, 20],\n",
    "              [30, 40]])\n",
    "C = np.array([[10, 20],\n",
    "              [30, 40],\n",
    "              [50, 60]])\n",
    "D = np.array([[10, 20]])"
   ]
  },
  {
   "cell_type": "code",
   "execution_count": null,
   "metadata": {
    "colab": {
     "base_uri": "https://localhost:8080/"
    },
    "executionInfo": {
     "elapsed": 58,
     "status": "ok",
     "timestamp": 1623479190914,
     "user": {
      "displayName": "Andrzej Buchowicz",
      "photoUrl": "",
      "userId": "01135068444767945835"
     },
     "user_tz": -120
    },
    "id": "kB4a3PjJSDlP",
    "outputId": "44dd6d00-b9b0-47c1-cf67-712f983bd83f",
    "slideshow": {
     "slide_type": "fragment"
    }
   },
   "outputs": [],
   "source": [
    "A + 10"
   ]
  },
  {
   "cell_type": "code",
   "execution_count": null,
   "metadata": {},
   "outputs": [],
   "source": [
    "A + B"
   ]
  },
  {
   "cell_type": "code",
   "execution_count": null,
   "metadata": {
    "executionInfo": {
     "elapsed": 57,
     "status": "ok",
     "timestamp": 1623479190915,
     "user": {
      "displayName": "Andrzej Buchowicz",
      "photoUrl": "",
      "userId": "01135068444767945835"
     },
     "user_tz": -120
    },
    "id": "FtvxqpWdSH9_",
    "slideshow": {
     "slide_type": "fragment"
    }
   },
   "outputs": [],
   "source": [
    "A + C\n"
   ]
  },
  {
   "cell_type": "code",
   "execution_count": null,
   "metadata": {
    "colab": {
     "base_uri": "https://localhost:8080/"
    },
    "executionInfo": {
     "elapsed": 57,
     "status": "ok",
     "timestamp": 1623479190916,
     "user": {
      "displayName": "Andrzej Buchowicz",
      "photoUrl": "",
      "userId": "01135068444767945835"
     },
     "user_tz": -120
    },
    "id": "j90XUhKVTy59",
    "outputId": "3414abe7-4d6f-43e4-c098-d3cfd7d25567",
    "slideshow": {
     "slide_type": "subslide"
    }
   },
   "outputs": [],
   "source": [
    "A, A.shape"
   ]
  },
  {
   "cell_type": "code",
   "execution_count": null,
   "metadata": {},
   "outputs": [],
   "source": [
    "D, D.shape"
   ]
  },
  {
   "cell_type": "code",
   "execution_count": null,
   "metadata": {},
   "outputs": [],
   "source": [
    "A + D"
   ]
  },
  {
   "cell_type": "code",
   "execution_count": null,
   "metadata": {
    "executionInfo": {
     "elapsed": 55,
     "status": "ok",
     "timestamp": 1623479190916,
     "user": {
      "displayName": "Andrzej Buchowicz",
      "photoUrl": "",
      "userId": "01135068444767945835"
     },
     "user_tz": -120
    },
    "id": "wTmybGTnR2xZ",
    "slideshow": {
     "slide_type": "fragment"
    }
   },
   "outputs": [],
   "source": [
    "x = np.array([[-1, 0, 1]])\n",
    "x.shape, x, x.T"
   ]
  },
  {
   "cell_type": "code",
   "execution_count": null,
   "metadata": {
    "executionInfo": {
     "elapsed": 56,
     "status": "ok",
     "timestamp": 1623479190917,
     "user": {
      "displayName": "Andrzej Buchowicz",
      "photoUrl": "",
      "userId": "01135068444767945835"
     },
     "user_tz": -120
    },
    "id": "AG8JYw18SU0r",
    "slideshow": {
     "slide_type": "fragment"
    }
   },
   "outputs": [],
   "source": [
    "y = np.zeros((3, 3), dtype=np.int32)\n",
    "y"
   ]
  },
  {
   "cell_type": "code",
   "execution_count": null,
   "metadata": {
    "colab": {
     "base_uri": "https://localhost:8080/"
    },
    "executionInfo": {
     "elapsed": 55,
     "status": "ok",
     "timestamp": 1623479190917,
     "user": {
      "displayName": "Andrzej Buchowicz",
      "photoUrl": "",
      "userId": "01135068444767945835"
     },
     "user_tz": -120
    },
    "id": "e2AqTo-OSYK-",
    "outputId": "6e8333a3-22a9-462c-9dce-e58541f8fde2",
    "slideshow": {
     "slide_type": "fragment"
    }
   },
   "outputs": [],
   "source": [
    "x + y"
   ]
  },
  {
   "cell_type": "code",
   "execution_count": null,
   "metadata": {},
   "outputs": [],
   "source": [
    "x.T + y"
   ]
  },
  {
   "cell_type": "markdown",
   "metadata": {
    "id": "kDkeaEdXWo0t",
    "slideshow": {
     "slide_type": "slide"
    }
   },
   "source": [
    "### Dodawanie wektorów i macierzy"
   ]
  },
  {
   "cell_type": "code",
   "execution_count": null,
   "metadata": {
    "slideshow": {
     "slide_type": "fragment"
    }
   },
   "outputs": [],
   "source": [
    "A"
   ]
  },
  {
   "cell_type": "code",
   "execution_count": null,
   "metadata": {
    "colab": {
     "base_uri": "https://localhost:8080/"
    },
    "executionInfo": {
     "elapsed": 52,
     "status": "ok",
     "timestamp": 1623479190917,
     "user": {
      "displayName": "Andrzej Buchowicz",
      "photoUrl": "",
      "userId": "01135068444767945835"
     },
     "user_tz": -120
    },
    "id": "G_uQ0cUWWoWe",
    "outputId": "16610ebd-8393-42e3-e7c7-a0d63e187a41",
    "slideshow": {
     "slide_type": "fragment"
    }
   },
   "outputs": [],
   "source": [
    "A + 2"
   ]
  },
  {
   "cell_type": "code",
   "execution_count": null,
   "metadata": {
    "colab": {
     "base_uri": "https://localhost:8080/"
    },
    "executionInfo": {
     "elapsed": 51,
     "status": "ok",
     "timestamp": 1623479190919,
     "user": {
      "displayName": "Andrzej Buchowicz",
      "photoUrl": "",
      "userId": "01135068444767945835"
     },
     "user_tz": -120
    },
    "id": "PjfODCgbW5us",
    "outputId": "f399813d-a240-4588-84f1-84a33a705baa",
    "slideshow": {
     "slide_type": "fragment"
    }
   },
   "outputs": [],
   "source": [
    "A + np.ones(2)"
   ]
  },
  {
   "cell_type": "code",
   "execution_count": null,
   "metadata": {},
   "outputs": [],
   "source": [
    "A + np.ones((1, 2))"
   ]
  },
  {
   "cell_type": "code",
   "execution_count": null,
   "metadata": {},
   "outputs": [],
   "source": [
    "A + np.ones((2, 1))"
   ]
  },
  {
   "cell_type": "code",
   "execution_count": null,
   "metadata": {
    "colab": {
     "base_uri": "https://localhost:8080/"
    },
    "executionInfo": {
     "elapsed": 49,
     "status": "ok",
     "timestamp": 1623479190919,
     "user": {
      "displayName": "Andrzej Buchowicz",
      "photoUrl": "",
      "userId": "01135068444767945835"
     },
     "user_tz": -120
    },
    "id": "pnomG8XsXCaJ",
    "outputId": "d1f06c77-d0c2-48e4-8212-df968f41a8db",
    "slideshow": {
     "slide_type": "fragment"
    }
   },
   "outputs": [],
   "source": [
    "A + np.ones((2, 2))"
   ]
  },
  {
   "cell_type": "code",
   "execution_count": null,
   "metadata": {},
   "outputs": [],
   "source": [
    "A + np.ones(3)"
   ]
  },
  {
   "cell_type": "markdown",
   "metadata": {},
   "source": [
    "### Zakres wartości liczb całkowitych"
   ]
  },
  {
   "cell_type": "code",
   "execution_count": null,
   "metadata": {
    "slideshow": {
     "slide_type": "subslide"
    }
   },
   "outputs": [],
   "source": [
    "C = np.arange(250, 256, dtype=np.uint8)\n",
    "C"
   ]
  },
  {
   "cell_type": "code",
   "execution_count": null,
   "metadata": {},
   "outputs": [],
   "source": [
    "C + 2"
   ]
  },
  {
   "cell_type": "code",
   "execution_count": null,
   "metadata": {},
   "outputs": [],
   "source": [
    "C = C.astype(np.int16) + 2\n",
    "C"
   ]
  },
  {
   "cell_type": "code",
   "execution_count": null,
   "metadata": {},
   "outputs": [],
   "source": [
    "np.clip(C, 0, 255).astype(np.uint8)"
   ]
  },
  {
   "cell_type": "markdown",
   "metadata": {
    "id": "GEqMvp8PeLly",
    "slideshow": {
     "slide_type": "slide"
    }
   },
   "source": [
    "### Mnożenie wektorów i macierzy"
   ]
  },
  {
   "cell_type": "code",
   "execution_count": null,
   "metadata": {
    "colab": {
     "base_uri": "https://localhost:8080/"
    },
    "executionInfo": {
     "elapsed": 46,
     "status": "ok",
     "timestamp": 1623479190919,
     "user": {
      "displayName": "Andrzej Buchowicz",
      "photoUrl": "",
      "userId": "01135068444767945835"
     },
     "user_tz": -120
    },
    "id": "-DEKmewpH-Mm",
    "outputId": "7fe6d186-0968-4271-e6f6-321dd391204b",
    "slideshow": {
     "slide_type": "fragment"
    }
   },
   "outputs": [],
   "source": [
    "D"
   ]
  },
  {
   "cell_type": "code",
   "execution_count": null,
   "metadata": {
    "colab": {
     "base_uri": "https://localhost:8080/"
    },
    "executionInfo": {
     "elapsed": 45,
     "status": "ok",
     "timestamp": 1623479190920,
     "user": {
      "displayName": "Andrzej Buchowicz",
      "photoUrl": "",
      "userId": "01135068444767945835"
     },
     "user_tz": -120
    },
    "id": "v1YuTYUNXli3",
    "outputId": "1e4bd1c4-9ded-4d1f-c314-e66ad1db3480",
    "slideshow": {
     "slide_type": "fragment"
    }
   },
   "outputs": [],
   "source": [
    "D * 2"
   ]
  },
  {
   "cell_type": "code",
   "execution_count": null,
   "metadata": {
    "colab": {
     "base_uri": "https://localhost:8080/"
    },
    "executionInfo": {
     "elapsed": 43,
     "status": "ok",
     "timestamp": 1623479190920,
     "user": {
      "displayName": "Andrzej Buchowicz",
      "photoUrl": "",
      "userId": "01135068444767945835"
     },
     "user_tz": -120
    },
    "id": "T390JLIoT5Ji",
    "outputId": "ed37e17a-16ea-4bef-edc7-668903875cd8",
    "slideshow": {
     "slide_type": "fragment"
    }
   },
   "outputs": [],
   "source": [
    "D * D"
   ]
  },
  {
   "cell_type": "markdown",
   "metadata": {
    "slideshow": {
     "slide_type": "fragment"
    }
   },
   "source": [
    "$$ \\left[\\begin{array}{l l}\n",
    "10 & 20\n",
    "\\end{array} \\right] \\circ \n",
    "\\left[\\begin{array}{l l}\n",
    "10 & 20\n",
    "\\end{array} \\right] = \n",
    "\\left[\\begin{array}{l l}\n",
    "100 & 400\n",
    "\\end{array} \\right]\n",
    "$$"
   ]
  },
  {
   "cell_type": "code",
   "execution_count": null,
   "metadata": {
    "colab": {
     "base_uri": "https://localhost:8080/"
    },
    "executionInfo": {
     "elapsed": 42,
     "status": "ok",
     "timestamp": 1623479190921,
     "user": {
      "displayName": "Andrzej Buchowicz",
      "photoUrl": "",
      "userId": "01135068444767945835"
     },
     "user_tz": -120
    },
    "id": "QxO3T93UUIj7",
    "outputId": "bbd90e38-3173-49dd-b6a3-55f194304802",
    "slideshow": {
     "slide_type": "subslide"
    }
   },
   "outputs": [],
   "source": [
    "D * D.T"
   ]
  },
  {
   "cell_type": "markdown",
   "metadata": {
    "slideshow": {
     "slide_type": "fragment"
    }
   },
   "source": [
    "$$\n",
    "\\left[\\begin{array}{l l}\n",
    "10 & 20\n",
    "\\end{array} \\right] \\circ \n",
    "\\left[\\begin{array}{l}\n",
    "10 \\\\\n",
    "20\n",
    "\\end{array} \\right] \\Longrightarrow\n",
    "\\left[\\begin{array}{l l}\n",
    "10 & 20 \\\\\n",
    "10 & 20\n",
    "\\end{array} \\right] \\circ \n",
    "\\left[\\begin{array}{l l}\n",
    "10 & 10\\\\\n",
    "20 & 20\n",
    "\\end{array} \\right] =\n",
    "\\left[\\begin{array}{l l}\n",
    "100 & 200\\\\\n",
    "200 & 400\n",
    "\\end{array} \\right]\n",
    "$$"
   ]
  },
  {
   "cell_type": "code",
   "execution_count": null,
   "metadata": {
    "colab": {
     "base_uri": "https://localhost:8080/"
    },
    "executionInfo": {
     "elapsed": 39,
     "status": "ok",
     "timestamp": 1623479190921,
     "user": {
      "displayName": "Andrzej Buchowicz",
      "photoUrl": "",
      "userId": "01135068444767945835"
     },
     "user_tz": -120
    },
    "id": "Dj-T6lw4ccmF",
    "outputId": "de055e8d-4c2f-4f1b-e643-8e256ac009fc",
    "slideshow": {
     "slide_type": "fragment"
    }
   },
   "outputs": [],
   "source": [
    "print(np.matmul(D, D.T))"
   ]
  },
  {
   "cell_type": "markdown",
   "metadata": {
    "slideshow": {
     "slide_type": "fragment"
    }
   },
   "source": [
    "$$\n",
    "\\left[\\begin{array}{l l}\n",
    "10 & 20\n",
    "\\end{array} \\right] \\cdot \n",
    "\\left[\\begin{array}{l}\n",
    "10 \\\\\n",
    "20\n",
    "\\end{array} \\right] = 500\n",
    "$$"
   ]
  },
  {
   "cell_type": "code",
   "execution_count": null,
   "metadata": {},
   "outputs": [],
   "source": [
    "print(D @ D.T)"
   ]
  },
  {
   "cell_type": "code",
   "execution_count": null,
   "metadata": {
    "slideshow": {
     "slide_type": "fragment"
    }
   },
   "outputs": [],
   "source": [
    "print(D.T @ D)"
   ]
  },
  {
   "cell_type": "markdown",
   "metadata": {
    "slideshow": {
     "slide_type": "fragment"
    }
   },
   "source": [
    "$$\n",
    "\\left[\\begin{array}{l}\n",
    "10 \\\\\n",
    "20\n",
    "\\end{array} \\right] \\cdot\n",
    "\\left[\\begin{array}{l l}\n",
    "10 & 20\n",
    "\\end{array} \\right] =\n",
    "\\left[\\begin{array}{l l}\n",
    "100 & 200\\\\\n",
    "200 & 400\n",
    "\\end{array} \\right]\n",
    "$$"
   ]
  },
  {
   "cell_type": "markdown",
   "metadata": {
    "id": "3exGH27cycFU",
    "slideshow": {
     "slide_type": "slide"
    }
   },
   "source": [
    "## Algebra liniowa"
   ]
  },
  {
   "cell_type": "markdown",
   "metadata": {},
   "source": [
    "### Iloczyn skalarny"
   ]
  },
  {
   "cell_type": "code",
   "execution_count": null,
   "metadata": {},
   "outputs": [],
   "source": [
    "a = np.array([1, 2, 3])\n",
    "b = np.array([4, 5, 6])"
   ]
  },
  {
   "cell_type": "code",
   "execution_count": null,
   "metadata": {},
   "outputs": [],
   "source": [
    "np.inner(a, b)"
   ]
  },
  {
   "cell_type": "code",
   "execution_count": null,
   "metadata": {},
   "outputs": [],
   "source": [
    "np.dot(a, b)"
   ]
  },
  {
   "cell_type": "code",
   "execution_count": null,
   "metadata": {},
   "outputs": [],
   "source": [
    "np.sum(a * b)"
   ]
  },
  {
   "cell_type": "markdown",
   "metadata": {},
   "source": [
    "### [Macierz odwrotna](https://numpy.org/doc/stable/reference/generated/numpy.linalg.inv.html)"
   ]
  },
  {
   "cell_type": "code",
   "execution_count": null,
   "metadata": {
    "slideshow": {
     "slide_type": "fragment"
    }
   },
   "outputs": [],
   "source": [
    "A"
   ]
  },
  {
   "cell_type": "code",
   "execution_count": null,
   "metadata": {
    "slideshow": {
     "slide_type": "fragment"
    }
   },
   "outputs": [],
   "source": [
    "A_inv = np.linalg.inv(A)\n",
    "A_inv"
   ]
  },
  {
   "cell_type": "code",
   "execution_count": null,
   "metadata": {},
   "outputs": [],
   "source": [
    "A_inv @ A"
   ]
  },
  {
   "cell_type": "code",
   "execution_count": null,
   "metadata": {},
   "outputs": [],
   "source": [
    "A_inv @ A == np.eye(2)"
   ]
  },
  {
   "cell_type": "code",
   "execution_count": null,
   "metadata": {
    "colab": {
     "base_uri": "https://localhost:8080/"
    },
    "executionInfo": {
     "elapsed": 32,
     "status": "ok",
     "timestamp": 1623479190922,
     "user": {
      "displayName": "Andrzej Buchowicz",
      "photoUrl": "",
      "userId": "01135068444767945835"
     },
     "user_tz": -120
    },
    "id": "lM6bTrDCdC4O",
    "outputId": "01de198a-6017-4009-a239-97ed119b4994",
    "slideshow": {
     "slide_type": "fragment"
    }
   },
   "outputs": [],
   "source": [
    "np.isclose(A_inv @ A, np.eye(2), atol=1e-20)"
   ]
  },
  {
   "cell_type": "markdown",
   "metadata": {
    "id": "z1lSLN7pei9a",
    "slideshow": {
     "slide_type": "subslide"
    }
   },
   "source": [
    "### [Wyznacznik macierzy](https://numpy.org/doc/stable/reference/generated/numpy.linalg.det.html)"
   ]
  },
  {
   "cell_type": "code",
   "execution_count": null,
   "metadata": {
    "slideshow": {
     "slide_type": "fragment"
    }
   },
   "outputs": [],
   "source": [
    "A"
   ]
  },
  {
   "cell_type": "code",
   "execution_count": null,
   "metadata": {
    "colab": {
     "base_uri": "https://localhost:8080/"
    },
    "executionInfo": {
     "elapsed": 30,
     "status": "ok",
     "timestamp": 1623479190922,
     "user": {
      "displayName": "Andrzej Buchowicz",
      "photoUrl": "",
      "userId": "01135068444767945835"
     },
     "user_tz": -120
    },
    "id": "dzFk2MVSfXPy",
    "outputId": "275135a0-23de-40b1-97cc-97f9ec7f2b34",
    "slideshow": {
     "slide_type": "fragment"
    }
   },
   "outputs": [],
   "source": [
    "np.linalg.det(A)"
   ]
  },
  {
   "cell_type": "markdown",
   "metadata": {
    "id": "P0FjHw8WemX5",
    "slideshow": {
     "slide_type": "slide"
    }
   },
   "source": [
    "### [Norma wektora i macierzy](https://numpy.org/doc/stable/reference/generated/numpy.linalg.norm.html)"
   ]
  },
  {
   "cell_type": "code",
   "execution_count": null,
   "metadata": {
    "colab": {
     "base_uri": "https://localhost:8080/"
    },
    "executionInfo": {
     "elapsed": 29,
     "status": "ok",
     "timestamp": 1623479190923,
     "user": {
      "displayName": "Andrzej Buchowicz",
      "photoUrl": "",
      "userId": "01135068444767945835"
     },
     "user_tz": -120
    },
    "id": "P8J0bd2SfeiP",
    "outputId": "fbb5ff6b-9d80-42e3-e20c-f21ab6dc145d",
    "slideshow": {
     "slide_type": "fragment"
    }
   },
   "outputs": [],
   "source": [
    "np.linalg.norm(np.ones((2, 1)))"
   ]
  },
  {
   "cell_type": "code",
   "execution_count": null,
   "metadata": {
    "colab": {
     "base_uri": "https://localhost:8080/"
    },
    "executionInfo": {
     "elapsed": 27,
     "status": "ok",
     "timestamp": 1623479190923,
     "user": {
      "displayName": "Andrzej Buchowicz",
      "photoUrl": "",
      "userId": "01135068444767945835"
     },
     "user_tz": -120
    },
    "id": "bPFjNj_Rfu5g",
    "outputId": "dd84e952-97ce-4f12-8383-295189621fd0",
    "slideshow": {
     "slide_type": "fragment"
    }
   },
   "outputs": [],
   "source": [
    "np.linalg.norm(np.eye(5))"
   ]
  },
  {
   "cell_type": "markdown",
   "metadata": {
    "id": "odeP56L-eS4_",
    "slideshow": {
     "slide_type": "slide"
    }
   },
   "source": [
    "## Obliczanie wartości funkcji\n",
    "\n",
    "$$ f(\\mathbf{x}) = f \\left( \\left[ \n",
    "\\begin{matrix}\n",
    "  x_0 \\\\\n",
    "  x_1 \\\\\n",
    "  \\vdots \\\\\n",
    "  x_n\n",
    "\\end{matrix} \\right] \\right) =\n",
    "\\left[ \\begin{matrix}\n",
    "  f(x_0) \\\\\n",
    "  f(x_1) \\\\\n",
    "  \\vdots \\\\\n",
    "  f(x_n)\n",
    "\\end{matrix} \\right] $$"
   ]
  },
  {
   "cell_type": "code",
   "execution_count": null,
   "metadata": {
    "slideshow": {
     "slide_type": "fragment"
    }
   },
   "outputs": [],
   "source": [
    "p = np.arange(1, 10)\n",
    "p"
   ]
  },
  {
   "cell_type": "code",
   "execution_count": null,
   "metadata": {
    "slideshow": {
     "slide_type": "fragment"
    }
   },
   "outputs": [],
   "source": [
    "q = p ** 2\n",
    "q"
   ]
  },
  {
   "cell_type": "code",
   "execution_count": null,
   "metadata": {
    "colab": {
     "base_uri": "https://localhost:8080/"
    },
    "executionInfo": {
     "elapsed": 24,
     "status": "ok",
     "timestamp": 1623479190923,
     "user": {
      "displayName": "Andrzej Buchowicz",
      "photoUrl": "",
      "userId": "01135068444767945835"
     },
     "user_tz": -120
    },
    "id": "MenJNugwctjm",
    "outputId": "619b990a-601f-4bee-9216-868fab8d9fbc",
    "slideshow": {
     "slide_type": "subslide"
    }
   },
   "outputs": [],
   "source": [
    "t = np.linspace(0., 1., num=9)\n",
    "print(t)"
   ]
  },
  {
   "cell_type": "code",
   "execution_count": null,
   "metadata": {
    "colab": {
     "base_uri": "https://localhost:8080/"
    },
    "executionInfo": {
     "elapsed": 22,
     "status": "ok",
     "timestamp": 1623479190924,
     "user": {
      "displayName": "Andrzej Buchowicz",
      "photoUrl": "",
      "userId": "01135068444767945835"
     },
     "user_tz": -120
    },
    "id": "UbeAOs5tdVuV",
    "outputId": "ac3c56de-ba1e-400a-cb59-bb5d8e66eccf",
    "slideshow": {
     "slide_type": "fragment"
    }
   },
   "outputs": [],
   "source": [
    "x = np.sin(2 * np.pi * t)\n",
    "print(x)"
   ]
  },
  {
   "cell_type": "markdown",
   "metadata": {},
   "source": [
    "### Porównanie czasu wykonywania obliczeń"
   ]
  },
  {
   "cell_type": "code",
   "execution_count": null,
   "metadata": {},
   "outputs": [],
   "source": [
    "import timeit\n",
    "\n",
    "N = [10, 100, 1000, 10000]"
   ]
  },
  {
   "cell_type": "code",
   "execution_count": null,
   "metadata": {},
   "outputs": [],
   "source": [
    "math_time = []\n",
    "for n in N:\n",
    "    math_time.append(timeit.timeit(stmt=\"math_data = [math.sin(2 * math.pi * i / n) for i in range(n)]\",\n",
    "                                   setup=\"import math\", number=1000, globals=globals()))\n",
    "print(math_time)"
   ]
  },
  {
   "cell_type": "code",
   "execution_count": null,
   "metadata": {},
   "outputs": [],
   "source": [
    "np_time = []\n",
    "for n in N:\n",
    "    np_time.append(timeit.timeit(stmt=\"t = np.arange(0, 1, 1 / n); np_data = np.sin(2 * np.pi * t)\",\n",
    "                                 setup=\"import numpy as np\", number=1000, globals=globals()))\n",
    "print(np_time)"
   ]
  },
  {
   "cell_type": "code",
   "execution_count": null,
   "metadata": {},
   "outputs": [],
   "source": [
    "import matplotlib.pylab as plt"
   ]
  },
  {
   "cell_type": "code",
   "execution_count": null,
   "metadata": {},
   "outputs": [],
   "source": [
    "_, ax = plt.subplots()\n",
    "ax.bar(np.arange(len(math_time)) - 0.2, math_time, width=0.4, label='math')\n",
    "ax.bar(np.arange(len(np_time)) + 0.2, np_time, width=0.4, label='numpy')\n",
    "ax.legend()\n",
    "ax.set_xticks(np.arange(len(N)), [str(n) for n in N])\n",
    "ax.set_xlabel('n')\n",
    "ax.set_ylabel('czas [s]');"
   ]
  },
  {
   "cell_type": "code",
   "execution_count": null,
   "metadata": {},
   "outputs": [],
   "source": [
    "_, ax = plt.subplots()\n",
    "ax.bar(np.arange(len(math_time)) - 0.2, math_time, width=0.4, label='math')\n",
    "ax.bar(np.arange(len(np_time)) + 0.2, np_time, width=0.4, label='numpy')\n",
    "ax.legend()\n",
    "ax.set_xticks(np.arange(len(N)), [str(n) for n in N])\n",
    "ax.set_xlabel('n')\n",
    "ax.set_ylabel('czas [s]')\n",
    "ax.set_yscale('log')"
   ]
  }
 ],
 "metadata": {
  "colab": {
   "authorship_tag": "ABX9TyN91NaiNr3S4cJV/knJHhTd",
   "collapsed_sections": [],
   "name": "10.1-numpy.ipynb",
   "provenance": []
  },
  "kernelspec": {
   "display_name": "Python 3 (ipykernel)",
   "language": "python",
   "name": "python3"
  },
  "language_info": {
   "codemirror_mode": {
    "name": "ipython",
    "version": 3
   },
   "file_extension": ".py",
   "mimetype": "text/x-python",
   "name": "python",
   "nbconvert_exporter": "python",
   "pygments_lexer": "ipython3",
   "version": "3.10.13"
  }
 },
 "nbformat": 4,
 "nbformat_minor": 4
}
