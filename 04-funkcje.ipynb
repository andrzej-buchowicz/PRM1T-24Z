{
 "cells": [
  {
   "cell_type": "markdown",
   "id": "11b5187e-348f-42ad-97fb-56e2b9af0fbf",
   "metadata": {},
   "source": [
    "<div style=\"text-align: center; color: #7896cf; font-size: 32px; font-weight: bold; font-family: Arial, Helvetica, sans-serif; padding-bottom: 12px;\">PODSTAWY PROGRAMOWANIA 1</div>\n",
    "<div style=\"text-align: center; color: #3c3c4c; font-size: large; font-family:monospace; padding-bottom:18px;\"> andrzej.buchowicz@pw.edu.pl</div>\n",
    "<div style=\"text-align: center; font-size: 48px; font-family: Arial, Helvetica, sans-serif; padding-bottom: 24px; line-height: 1.25;\">Funkcje</div>"
   ]
  },
  {
   "cell_type": "markdown",
   "id": "aa1d57ab",
   "metadata": {},
   "source": [
    "## Przykład: obliczanie pierwiastków równania kwadratowego\n",
    "<br>\n",
    "$$ a \\cdot x^2 + b \\cdot x + c = 0$$\n",
    "\n",
    "$$ \\Delta = b^2 - 4 \\cdot a \\cdot c $$\n",
    "<br>\n",
    "Jeśli $\\Delta > 0$ to równanie ma dwa pierwiastki:\n",
    "$$x_1 = \\frac{-b - \\sqrt{\\Delta}}{2 \\cdot a} \\qquad x_2 = \\frac{-b + \\sqrt{\\Delta}}{2 \\cdot a}$$\n",
    "<br><br>\n",
    "Jeśli $\\Delta == 0$ to równanie ma jeden pierwiastek:\n",
    "$$ x_0 = \\frac{-b}{2 \\cdot a} $$\n",
    "<br><br>\n",
    "Jeśli $\\Delta < 0$ to równanie nie ma pierwiastków"
   ]
  },
  {
   "cell_type": "code",
   "execution_count": null,
   "id": "4c27a16e-e755-4043-9062-7adc15214b9b",
   "metadata": {},
   "outputs": [],
   "source": [
    "import math"
   ]
  },
  {
   "cell_type": "code",
   "execution_count": null,
   "id": "86128136-078f-4538-ac80-4dff224bc1f2",
   "metadata": {},
   "outputs": [],
   "source": [
    "a = 1\n",
    "b = -3\n",
    "c = 2\n",
    "\n",
    "delta = b * b - 4 * a *c\n",
    "x1 = (-b - math.sqrt(delta)) / (2 * a)\n",
    "x2 = (-b + math.sqrt(delta)) / (2 * a)\n",
    "\n",
    "print(x1, x2)"
   ]
  },
  {
   "cell_type": "markdown",
   "id": "10b8358f-9506-434d-a069-9870eed209d2",
   "metadata": {},
   "source": [
    "## Funkcja:"
   ]
  },
  {
   "cell_type": "markdown",
   "id": "b705c4b3-2759-4919-b96d-54e9f95369e7",
   "metadata": {},
   "source": [
    "<table borgder=\"0\">\n",
    "    <tr>\n",
    "        <td style=\"vertical-align: top;\">\n",
    "            <ul>\n",
    "                <li>blok kodu wywoływany w innym fragmencie kodu programu</li>\n",
    "                <li>do funkcji mogą być przekazywane parametry wejściowe</li>\n",
    "                <li>wynik działania funkcji może być zwracany przy użyciu instrukcji <tt>return</tt></li>\n",
    "                <li>funkcje są obiektami</li>\n",
    "                <li>funkcje mogą wywoływać mogą wywoływać same siebie - funkcje rekurencyjne</li>\n",
    "            </ul>\n",
    "        </td>\n",
    "        <td><img src=\"img/funkcja.png\"></td>\n",
    "    </tr>\n",
    "</table>"
   ]
  },
  {
   "cell_type": "code",
   "execution_count": null,
   "id": "d8828b13",
   "metadata": {},
   "outputs": [],
   "source": [
    "def rozwiaz_rownanie(a, b, c):\n",
    "    delta = b * b - 4 * a *c\n",
    "\n",
    "    if delta > 0:\n",
    "        x1 = (-b - math.sqrt(delta)) / (2 * a)\n",
    "        x2 = (-b + math.sqrt(delta)) / (2 * a)\n",
    "        return (x1, x2) \n",
    "    elif delta == 0:\n",
    "        return -b / (2 * a),\n",
    "    else:\n",
    "        return ()        "
   ]
  },
  {
   "cell_type": "code",
   "execution_count": null,
   "id": "75610f2f-c3cd-407c-ad1e-f13689cb10b5",
   "metadata": {},
   "outputs": [],
   "source": [
    "print(rozwiaz_rownanie(1, -3, 2))"
   ]
  },
  {
   "cell_type": "code",
   "execution_count": null,
   "id": "07502840-9b37-42ab-b064-d23b1c1a149d",
   "metadata": {},
   "outputs": [],
   "source": [
    "print(rozwiaz_rownanie(1, -1, -6))"
   ]
  },
  {
   "cell_type": "code",
   "execution_count": null,
   "id": "4f79e97c-56b1-4404-9338-bc9d9de6c1c5",
   "metadata": {},
   "outputs": [],
   "source": [
    "print(rozwiaz_rownanie(1, -2, 1))"
   ]
  },
  {
   "cell_type": "code",
   "execution_count": null,
   "id": "726398d1",
   "metadata": {},
   "outputs": [],
   "source": [
    "print(rozwiaz_rownanie(1, 0, 1))"
   ]
  },
  {
   "cell_type": "markdown",
   "id": "62c9758e",
   "metadata": {},
   "source": [
    "## Parametry wejściowe funkcji \n",
    "* pozycyjne\n",
    "* słownikowe"
   ]
  },
  {
   "cell_type": "code",
   "execution_count": null,
   "id": "3c161f39",
   "metadata": {},
   "outputs": [],
   "source": [
    "# parametry pozycyjne\n",
    "def fun(a, b, c):\n",
    "    return 100 * a + 10 * b + c\n",
    "\n",
    "wynik = fun(1, 2, 3)\n",
    "print(\"wynik:\", wynik)"
   ]
  },
  {
   "cell_type": "code",
   "execution_count": null,
   "id": "60eb6479",
   "metadata": {},
   "outputs": [],
   "source": [
    "param = [1, 2, 3]\n",
    "fun(*param)"
   ]
  },
  {
   "cell_type": "code",
   "execution_count": null,
   "id": "e75580ed",
   "metadata": {},
   "outputs": [],
   "source": [
    "lista_param = [\n",
    "  [1, 2, 3],\n",
    "  [4, 5, 6],\n",
    "  [7, 8, 9]               \n",
    "]\n",
    "\n",
    "for param in lista_param:\n",
    "    print(fun(*param))"
   ]
  },
  {
   "cell_type": "code",
   "execution_count": null,
   "id": "21b9ea53",
   "metadata": {},
   "outputs": [],
   "source": [
    "# funkcja z dowolną liczbą parametrów\n",
    "def oblicz_sume(*liczby):\n",
    "    suma = 0\n",
    "    for liczba in liczby:\n",
    "        suma += liczba\n",
    "    return suma"
   ]
  },
  {
   "cell_type": "code",
   "execution_count": null,
   "id": "f949c2c3",
   "metadata": {},
   "outputs": [],
   "source": [
    "oblicz_sume()"
   ]
  },
  {
   "cell_type": "code",
   "execution_count": null,
   "id": "f6d825fe",
   "metadata": {},
   "outputs": [],
   "source": [
    "oblicz_sume(1)"
   ]
  },
  {
   "cell_type": "code",
   "execution_count": null,
   "id": "dd0be3a9",
   "metadata": {},
   "outputs": [],
   "source": [
    "oblicz_sume(1, 2, 3)"
   ]
  },
  {
   "cell_type": "markdown",
   "id": "fa852c93",
   "metadata": {},
   "source": [
    "### Parametry slownikowe - domyślne wartości parametrów"
   ]
  },
  {
   "cell_type": "code",
   "execution_count": null,
   "id": "42333330",
   "metadata": {},
   "outputs": [],
   "source": [
    "def fun2(a, b=2, c=3):\n",
    "    return 100 * a + 10 * b + c"
   ]
  },
  {
   "cell_type": "code",
   "execution_count": null,
   "id": "0319c84e",
   "metadata": {},
   "outputs": [],
   "source": [
    "fun2(4, 5, 6)"
   ]
  },
  {
   "cell_type": "code",
   "execution_count": null,
   "id": "57539849",
   "metadata": {},
   "outputs": [],
   "source": [
    "fun2(4, 5)"
   ]
  },
  {
   "cell_type": "code",
   "execution_count": null,
   "id": "968e0a97",
   "metadata": {},
   "outputs": [],
   "source": [
    "fun2(4)"
   ]
  },
  {
   "cell_type": "code",
   "execution_count": null,
   "id": "52a6adb4",
   "metadata": {},
   "outputs": [],
   "source": [
    "fun2()"
   ]
  },
  {
   "cell_type": "code",
   "execution_count": null,
   "id": "0c61e43e",
   "metadata": {},
   "outputs": [],
   "source": [
    "param_dict = {\"b\": 5, \"c\": 6}\n",
    "fun2(4, **param_dict)"
   ]
  },
  {
   "cell_type": "code",
   "execution_count": null,
   "id": "40043693",
   "metadata": {},
   "outputs": [],
   "source": [
    "def fun3(**params):\n",
    "    a = params.get(\"a\", 1)\n",
    "    b = params.get(\"b\", 2)\n",
    "    c = params.get(\"c\", 3)\n",
    "    return 100 * a + 10 * b + c"
   ]
  },
  {
   "cell_type": "code",
   "execution_count": null,
   "id": "96434188",
   "metadata": {},
   "outputs": [],
   "source": [
    "fun3()"
   ]
  },
  {
   "cell_type": "code",
   "execution_count": null,
   "id": "7e8e61b4",
   "metadata": {},
   "outputs": [],
   "source": [
    "fun3(a=5, c=7)"
   ]
  },
  {
   "cell_type": "markdown",
   "id": "cf15d48b",
   "metadata": {},
   "source": [
    "## Zakres widoczności zmiennych\n",
    "\n",
    "* zmienna lokalna - utworzona wewnątrz funkcji: zakres widoczności *funkcja*\n",
    "* zmienna globalna - utworzona poza jakąkolwiek funkcją: zakres widoczności *moduł*"
   ]
  },
  {
   "cell_type": "code",
   "execution_count": null,
   "id": "b6a05680",
   "metadata": {},
   "outputs": [],
   "source": [
    "zmienna_globalna = 123\n",
    "\n",
    "\n",
    "def fun1(param):\n",
    "    zmienna_lokalna = param  \n",
    "    return zmienna_lokalna + zmienna_globalna\n",
    "\n",
    "\n",
    "print('zmienna globalna=', zmienna_globalna)\n",
    "print('fun1(1)=', fun1(1))\n",
    "print('zmienna globalna=',  zmienna_globalna)\n",
    "print(zmienna_lokalna)"
   ]
  },
  {
   "cell_type": "code",
   "execution_count": null,
   "id": "82e19c48",
   "metadata": {},
   "outputs": [],
   "source": [
    "zmienna_globalna = 123\n",
    "\n",
    "\n",
    "def fun_local(param):\n",
    "    zmienna_globalna = param\n",
    "    return zmienna_globalna\n",
    "\n",
    "\n",
    "print(\"zmienna_globalna=\", zmienna_globalna)\n",
    "print(\"fun_local(1)=\", fun_local(1))\n",
    "print(\"zmienna_globalna=\", zmienna_globalna)"
   ]
  },
  {
   "cell_type": "code",
   "execution_count": null,
   "id": "4351e7bc",
   "metadata": {},
   "outputs": [],
   "source": [
    "zmienna_globalna = 123\n",
    "\n",
    "def fun_global(param):\n",
    "    global zmienna_globalna\n",
    "    zmienna_globalna = param     # efekt uboczny wywołania funkcji !!!\n",
    "    return param * 2\n",
    "\n",
    "print(\"zmienna_globalna=\", zmienna_globalna)\n",
    "print(\"fun_global(1)=\", fun_global(1))\n",
    "print(\"zmienna_globalna=\", zmienna_globalna)"
   ]
  },
  {
   "cell_type": "markdown",
   "id": "fca57a13",
   "metadata": {},
   "source": [
    "## Funkcje *nie zmieniają* wartości parametrów, których typ jest niemodyfikowalny (**immutable**), np. `int`, `float`, `bool`, `str`"
   ]
  },
  {
   "cell_type": "code",
   "execution_count": null,
   "id": "bd95ba40",
   "metadata": {},
   "outputs": [],
   "source": [
    "def fun4(param):\n",
    "    param += 2\n",
    "    return param\n",
    "\n",
    "zmienna1 = 1\n",
    "zmienna2 = fun4(zmienna1)\n",
    "print('zmienna1=', zmienna1, 'zmienna2=', zmienna2)"
   ]
  },
  {
   "cell_type": "markdown",
   "id": "c9dd6168",
   "metadata": {},
   "source": [
    "## Funkcje *zmieniają* wartości parametrów, których typ jest modyfikowalny (**mutable**), np. `list`, `dict`"
   ]
  },
  {
   "cell_type": "code",
   "execution_count": null,
   "id": "9184a8c6",
   "metadata": {},
   "outputs": [],
   "source": [
    "def fun5(param):\n",
    "    param[0] = 77\n",
    "    param.append(123)          # efekt uboczny wywołania funkcji !!!\n",
    "    return sum(param)\n",
    "\n",
    "lista = [1, 2, 3]\n",
    "print('lista=', lista)\n",
    "suma = fun5(lista)\n",
    "print('lista=', lista, 'suma=', suma)"
   ]
  },
  {
   "cell_type": "markdown",
   "id": "a978de21",
   "metadata": {},
   "source": [
    "## Funkcje rekurencyjne"
   ]
  },
  {
   "cell_type": "markdown",
   "id": "568a0805",
   "metadata": {},
   "source": [
    "Silnia - definicja/implementacja iteracyjna\n",
    "\n",
    "$$ n! = \\left\\{ \n",
    "  \\begin{array}{ll}\n",
    "    1  & n=1 \\\\\n",
    "    \\prod_{k=1}^n k & n>1\n",
    "  \\end{array}\n",
    "\\right. $$"
   ]
  },
  {
   "cell_type": "code",
   "execution_count": null,
   "id": "775d5d3a",
   "metadata": {},
   "outputs": [],
   "source": [
    "def silnia_iter(n):\n",
    "    silnia = 1\n",
    "    for k in range(1, n + 1):\n",
    "        silnia *= k\n",
    "    return silnia\n",
    "\n",
    "\n",
    "for n in range(10):\n",
    "    print(n, silnia_iter(n))"
   ]
  },
  {
   "cell_type": "markdown",
   "id": "5593e199",
   "metadata": {},
   "source": [
    "Silnia - definicja/implementacja rekurencyjna\n",
    "\n",
    "$$ n! = \\left\\{ \n",
    "  \\begin{array}{ll}\n",
    "    1  & n=1 \\\\\n",
    "    n \\cdot (n - 1)! & n>1\n",
    "  \\end{array}\n",
    "\\right. $$"
   ]
  },
  {
   "cell_type": "code",
   "execution_count": null,
   "id": "250f3913",
   "metadata": {},
   "outputs": [],
   "source": [
    "def silnia_rekur(n):\n",
    "    if n > 1:\n",
    "        return n * silnia_rekur(n - 1)\n",
    "    else:\n",
    "        return 1\n",
    "\n",
    "\n",
    "for n in range(10):\n",
    "    print(n, silnia_rekur(n))"
   ]
  },
  {
   "cell_type": "markdown",
   "id": "5dadd4fa",
   "metadata": {},
   "source": [
    "## Funkcje anonimowe"
   ]
  },
  {
   "cell_type": "code",
   "execution_count": null,
   "id": "e27d2df4",
   "metadata": {},
   "outputs": [],
   "source": [
    "def podziel_przez_dwa(x):\n",
    "    return x / 2"
   ]
  },
  {
   "cell_type": "code",
   "execution_count": null,
   "id": "0e32eb6c",
   "metadata": {},
   "outputs": [],
   "source": [
    "podziel_przez_dwa"
   ]
  },
  {
   "cell_type": "code",
   "execution_count": null,
   "id": "6caf9980",
   "metadata": {},
   "outputs": [],
   "source": [
    "lambda x: x/2"
   ]
  },
  {
   "cell_type": "code",
   "execution_count": null,
   "id": "c99ad3d7",
   "metadata": {},
   "outputs": [],
   "source": [
    "moja_funkcja = lambda x: x/2\n",
    "moja_funkcja(5)"
   ]
  },
  {
   "cell_type": "code",
   "execution_count": null,
   "id": "8da42493",
   "metadata": {},
   "outputs": [],
   "source": [
    "wyniki = [\n",
    "    ('Cezary', 'Abacki', 17),\n",
    "    ('Adam', 'Cabacki', 45),\n",
    "    ('Beata', 'Babacka', 25)\n",
    "]"
   ]
  },
  {
   "cell_type": "code",
   "execution_count": null,
   "id": "411fa901",
   "metadata": {},
   "outputs": [],
   "source": [
    "sorted(wyniki)"
   ]
  },
  {
   "cell_type": "code",
   "execution_count": null,
   "id": "aebf4d29",
   "metadata": {},
   "outputs": [],
   "source": [
    "sorted(wyniki, key=lambda x: x[1])"
   ]
  },
  {
   "cell_type": "code",
   "execution_count": null,
   "id": "2e7a9010",
   "metadata": {},
   "outputs": [],
   "source": [
    "sorted(wyniki, key=lambda x: x[2], reverse=True)"
   ]
  },
  {
   "cell_type": "markdown",
   "id": "64387580",
   "metadata": {},
   "source": [
    "## Weryfikacja poprawności parametrów przekazywanych do funkcji "
   ]
  },
  {
   "cell_type": "code",
   "execution_count": null,
   "id": "87b26c9d",
   "metadata": {},
   "outputs": [],
   "source": [
    "def fun10(a, b, c):\n",
    "    return 100 * a + 10 * b + c"
   ]
  },
  {
   "cell_type": "code",
   "execution_count": null,
   "id": "5d008f82",
   "metadata": {},
   "outputs": [],
   "source": [
    "print(fun10(1, 2, 3))"
   ]
  },
  {
   "cell_type": "code",
   "execution_count": null,
   "id": "5be66501",
   "metadata": {},
   "outputs": [],
   "source": [
    "print(fun10(1, 2, '3'))"
   ]
  },
  {
   "cell_type": "markdown",
   "id": "73b1880b",
   "metadata": {},
   "source": [
    "### Instrukcja [assert](https://docs.python.org/3/reference/simple_stmts.html#the-assert-statement)"
   ]
  },
  {
   "cell_type": "code",
   "execution_count": null,
   "id": "65ae561d",
   "metadata": {},
   "outputs": [],
   "source": [
    "def fun11(a, b, c):\n",
    "    assert type(a) is int or type(a) is float, 'niepoprawny typ parametru a'\n",
    "    assert type(b) is int or type(b) is float, 'niepoprawny typ parametru b'\n",
    "    assert type(c) is int or type(c) is float, 'niepoprawny typ parametru c'\n",
    "    \n",
    "    return 100 * a + 10 * b  + c"
   ]
  },
  {
   "cell_type": "code",
   "execution_count": null,
   "id": "731dd051",
   "metadata": {},
   "outputs": [],
   "source": [
    "fun11(1, 2, 3)"
   ]
  },
  {
   "cell_type": "code",
   "execution_count": null,
   "id": "8c9eb2d5",
   "metadata": {},
   "outputs": [],
   "source": [
    "fun11(1, 2, '3')"
   ]
  },
  {
   "cell_type": "markdown",
   "id": "fab321c0",
   "metadata": {},
   "source": [
    "### [Type hints](https://docs.python.org/3/library/typing.html)"
   ]
  },
  {
   "cell_type": "code",
   "execution_count": null,
   "id": "644d55ef",
   "metadata": {},
   "outputs": [],
   "source": [
    "def fun12(a: float, b: float, c: float) -> float:\n",
    "    return 100 * a + 10 * b + c"
   ]
  },
  {
   "cell_type": "code",
   "execution_count": null,
   "id": "25b077be",
   "metadata": {},
   "outputs": [],
   "source": [
    "fun12(1, 2, 3)"
   ]
  },
  {
   "cell_type": "code",
   "execution_count": null,
   "id": "8367d24a",
   "metadata": {},
   "outputs": [],
   "source": [
    "fun12(1, 2, '3')"
   ]
  },
  {
   "cell_type": "markdown",
   "id": "97083ccb",
   "metadata": {},
   "source": [
    "## Podział kodu programu na moduły i pakiety\n",
    "\n",
    "<div style=\"padding-top: 36px; padding-bottom: 36px;\"><img src=\"img/moduly_pakiety.png\"></div>\n",
    "\n",
    "### instrukcja `import`"
   ]
  },
  {
   "cell_type": "markdown",
   "id": "d4de706f",
   "metadata": {},
   "source": [
    "## Styl kodowania\n",
    "\n",
    "* [PEP 8 – Style Guide for Python Code](https://peps.python.org/pep-0008/)\n",
    "  * [Google Python Style Guide](https://google.github.io/styleguide/pyguide.html)\n",
    "  * ...\n",
    "* [PEP 257 – Docstring Conventions](https://peps.python.org/pep-0257/)"
   ]
  }
 ],
 "metadata": {
  "kernelspec": {
   "display_name": "Python 3 (ipykernel)",
   "language": "python",
   "name": "python3"
  },
  "language_info": {
   "codemirror_mode": {
    "name": "ipython",
    "version": 3
   },
   "file_extension": ".py",
   "mimetype": "text/x-python",
   "name": "python",
   "nbconvert_exporter": "python",
   "pygments_lexer": "ipython3",
   "version": "3.10.13"
  }
 },
 "nbformat": 4,
 "nbformat_minor": 5
}
