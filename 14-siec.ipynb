{
 "cells": [
  {
   "cell_type": "markdown",
   "metadata": {
    "id": "CM4_KIlBJQ0v",
    "slideshow": {
     "slide_type": "slide"
    }
   },
   "source": [
    "<div style=\"text-align: center; color: #7896cf; font-size: 32px; font-weight: bold; font-family: Arial, Helvetica, sans-serif; padding-bottom: 12px;\">PODSTAWY PROGRAMOWANIA 1</div>\n",
    "<div style=\"text-align: center; color: #3c3c4c; font-size: large; font-family:monospace; padding-bottom:18px;\"> andrzej.buchowicz@pw.edu.pl</div>\n",
    "<div style=\"text-align: center; font-size: 48px; font-family: Arial, Helvetica, sans-serif; padding-bottom: 24px; line-height: 1.25;\">Przesyłanie danych w sieciach komputerowych z wykorzystaniem pakietów <span style=\"color: #000080;\">urllib</span>, <span style=\"color: #000080;\">requests</span></div>"
   ]
  },
  {
   "cell_type": "markdown",
   "metadata": {
    "slideshow": {
     "slide_type": "slide"
    }
   },
   "source": [
    "## Pakiet [`urllib`](https://docs.python.org/3/library/urllib.html)\n",
    "\n",
    "* znajduje się w standardowej bibliotece języka Python - jest instalowany razem z interpeterem\n",
    "* zapewnia:\n",
    "  * pobieranie/wysyłanie danych przy użyciu protokołów sieciowych (przede wszystkim HTTP)\n",
    "  * parsowanie identyfikatorów URL (*Uniform Resource Locator*)"
   ]
  },
  {
   "cell_type": "code",
   "execution_count": null,
   "metadata": {
    "slideshow": {
     "slide_type": "fragment"
    }
   },
   "outputs": [],
   "source": [
    "import urllib\n",
    "\n",
    "url = urllib.parse.urlparse(\"https://gitlab-stud.elka.pw.edu.pl:443/users/sign_in\")\n",
    "\n",
    "print(url.scheme, '\\n', url.hostname, '\\n', url.port, '\\n', url.path)"
   ]
  },
  {
   "cell_type": "markdown",
   "metadata": {
    "id": "mfYGe8RrK8pS",
    "slideshow": {
     "slide_type": "slide"
    }
   },
   "source": [
    "## Pakiet `requests`\n",
    "\n",
    "\n",
    "\n",
    "*   pełna obsługa protokołu HTTP\n",
    "*   prosty interfejs programistyczny (API)\n"
   ]
  },
  {
   "cell_type": "markdown",
   "metadata": {
    "id": "ps5tR3iQLPiE",
    "slideshow": {
     "slide_type": "fragment"
    }
   },
   "source": [
    "### Instalacja\n",
    "\n",
    "* standardowo instalowany w dystrybucji Anaconda\n",
    "* w pozostałych dystrybucjach moze być zainstalowany poleceniem:\n",
    "```\n",
    "pip install requests\n",
    "```\n",
    "\n"
   ]
  },
  {
   "cell_type": "markdown",
   "metadata": {
    "id": "3lVw8AbeRJcz",
    "slideshow": {
     "slide_type": "slide"
    }
   },
   "source": [
    "### Pobieranie danych tekstowych z serwisu sieciowego - metoda GET\n",
    "\n",
    "[requests API](https://docs.python-requests.org/en/latest/api/)\n"
   ]
  },
  {
   "cell_type": "code",
   "execution_count": null,
   "metadata": {
    "executionInfo": {
     "elapsed": 784,
     "status": "ok",
     "timestamp": 1620916601437,
     "user": {
      "displayName": "Andrzej Buchowicz",
      "photoUrl": "",
      "userId": "01135068444767945835"
     },
     "user_tz": -120
    },
    "id": "-Fw4CBgHI7LI",
    "slideshow": {
     "slide_type": "fragment"
    }
   },
   "outputs": [],
   "source": [
    "import requests\n",
    "\n",
    "response = requests.get(\"https://jsonplaceholder.typicode.com/posts/1\")    # https://jsonplaceholder.typicode.com/\n",
    "response"
   ]
  },
  {
   "cell_type": "markdown",
   "metadata": {
    "id": "o1JKjUjDRroj",
    "slideshow": {
     "slide_type": "fragment"
    }
   },
   "source": [
    "#### klasa [requests.Response](https://docs.python-requests.org/en/latest/api/#requests.Response)"
   ]
  },
  {
   "cell_type": "markdown",
   "metadata": {
    "id": "veFcS7ZoxR0e",
    "slideshow": {
     "slide_type": "slide"
    }
   },
   "source": [
    "##### Status"
   ]
  },
  {
   "cell_type": "code",
   "execution_count": null,
   "metadata": {
    "colab": {
     "base_uri": "https://localhost:8080/"
    },
    "executionInfo": {
     "elapsed": 971,
     "status": "ok",
     "timestamp": 1620916603786,
     "user": {
      "displayName": "Andrzej Buchowicz",
      "photoUrl": "",
      "userId": "01135068444767945835"
     },
     "user_tz": -120
    },
    "id": "fdjg-709RwDS",
    "outputId": "13c41dfc-ce31-4a01-b5e0-d6a78bec7137",
    "slideshow": {
     "slide_type": "fragment"
    }
   },
   "outputs": [],
   "source": [
    "if response:\n",
    "  print(\"OK\")\n",
    "else:\n",
    "  print(\"Error\")"
   ]
  },
  {
   "cell_type": "code",
   "execution_count": null,
   "metadata": {
    "colab": {
     "base_uri": "https://localhost:8080/"
    },
    "executionInfo": {
     "elapsed": 884,
     "status": "ok",
     "timestamp": 1620916605743,
     "user": {
      "displayName": "Andrzej Buchowicz",
      "photoUrl": "",
      "userId": "01135068444767945835"
     },
     "user_tz": -120
    },
    "id": "4TcN5x5BRRk2",
    "outputId": "30f9d625-ba9e-491a-cbcc-22aa3a1f27b7",
    "slideshow": {
     "slide_type": "fragment"
    }
   },
   "outputs": [],
   "source": [
    "response.status_code"
   ]
  },
  {
   "cell_type": "markdown",
   "metadata": {
    "id": "qMkEGqmAS8gv",
    "slideshow": {
     "slide_type": "slide"
    }
   },
   "source": [
    "##### Nagłówki"
   ]
  },
  {
   "cell_type": "code",
   "execution_count": null,
   "metadata": {
    "colab": {
     "base_uri": "https://localhost:8080/"
    },
    "executionInfo": {
     "elapsed": 944,
     "status": "ok",
     "timestamp": 1620916619143,
     "user": {
      "displayName": "Andrzej Buchowicz",
      "photoUrl": "",
      "userId": "01135068444767945835"
     },
     "user_tz": -120
    },
    "id": "oEjTTYXrSvDU",
    "outputId": "355da12b-d189-42c0-e63c-b63630c92c72",
    "slideshow": {
     "slide_type": "fragment"
    }
   },
   "outputs": [],
   "source": [
    "response.headers"
   ]
  },
  {
   "cell_type": "code",
   "execution_count": null,
   "metadata": {
    "colab": {
     "base_uri": "https://localhost:8080/",
     "height": 36
    },
    "executionInfo": {
     "elapsed": 822,
     "status": "ok",
     "timestamp": 1620916659147,
     "user": {
      "displayName": "Andrzej Buchowicz",
      "photoUrl": "",
      "userId": "01135068444767945835"
     },
     "user_tz": -120
    },
    "id": "cwKesWuXTBNR",
    "outputId": "5d9026c7-58d5-4d74-9cf0-6d39634c341f",
    "slideshow": {
     "slide_type": "fragment"
    }
   },
   "outputs": [],
   "source": [
    "response.headers['Content-Type']"
   ]
  },
  {
   "cell_type": "markdown",
   "metadata": {
    "id": "6ggdrr3OSVbM",
    "slideshow": {
     "slide_type": "slide"
    }
   },
   "source": [
    "##### Zawartość"
   ]
  },
  {
   "cell_type": "code",
   "execution_count": null,
   "metadata": {
    "colab": {
     "base_uri": "https://localhost:8080/"
    },
    "executionInfo": {
     "elapsed": 800,
     "status": "ok",
     "timestamp": 1620916678210,
     "user": {
      "displayName": "Andrzej Buchowicz",
      "photoUrl": "",
      "userId": "01135068444767945835"
     },
     "user_tz": -120
    },
    "id": "6tqdOH8VSC7z",
    "outputId": "e571bc97-42e6-460e-ee2b-34f6f63ee4e1",
    "slideshow": {
     "slide_type": "fragment"
    }
   },
   "outputs": [],
   "source": [
    "response.content"
   ]
  },
  {
   "cell_type": "code",
   "execution_count": null,
   "metadata": {
    "colab": {
     "base_uri": "https://localhost:8080/"
    },
    "executionInfo": {
     "elapsed": 793,
     "status": "ok",
     "timestamp": 1620916703478,
     "user": {
      "displayName": "Andrzej Buchowicz",
      "photoUrl": "",
      "userId": "01135068444767945835"
     },
     "user_tz": -120
    },
    "id": "rdnifKD3SZ8y",
    "outputId": "669e200b-1589-4ba2-e329-6692286b51cf",
    "slideshow": {
     "slide_type": "fragment"
    }
   },
   "outputs": [],
   "source": [
    "type(response.content)"
   ]
  },
  {
   "cell_type": "code",
   "execution_count": null,
   "metadata": {},
   "outputs": [],
   "source": [
    "text = response.content.decode(\"utf-8\")\n",
    "text"
   ]
  },
  {
   "cell_type": "code",
   "execution_count": null,
   "metadata": {},
   "outputs": [],
   "source": [
    "import json\n",
    "\n",
    "data = json.loads(text)\n",
    "data"
   ]
  },
  {
   "cell_type": "code",
   "execution_count": null,
   "metadata": {},
   "outputs": [],
   "source": [
    "data['id']"
   ]
  },
  {
   "cell_type": "markdown",
   "metadata": {
    "id": "2aHRZuZ7mctL",
    "slideshow": {
     "slide_type": "slide"
    }
   },
   "source": [
    "### Pobieranie danych binarnych - metoda GET"
   ]
  },
  {
   "cell_type": "code",
   "execution_count": null,
   "metadata": {
    "colab": {
     "base_uri": "https://localhost:8080/"
    },
    "executionInfo": {
     "elapsed": 831,
     "status": "ok",
     "timestamp": 1620917078726,
     "user": {
      "displayName": "Andrzej Buchowicz",
      "photoUrl": "",
      "userId": "01135068444767945835"
     },
     "user_tz": -120
    },
    "id": "EAUmU0RBoHIY",
    "outputId": "f7b62892-1329-415e-b25d-c0c370d558e2",
    "slideshow": {
     "slide_type": "fragment"
    }
   },
   "outputs": [],
   "source": [
    "url = \"https://zim.ire.pw.edu.pl/wp-content/uploads/2020/11/kwao_img1.png\"\n",
    "response = requests.get(url)\n",
    "\n",
    "response.headers"
   ]
  },
  {
   "cell_type": "code",
   "execution_count": null,
   "metadata": {
    "colab": {
     "base_uri": "https://localhost:8080/"
    },
    "executionInfo": {
     "elapsed": 831,
     "status": "ok",
     "timestamp": 1620917100075,
     "user": {
      "displayName": "Andrzej Buchowicz",
      "photoUrl": "",
      "userId": "01135068444767945835"
     },
     "user_tz": -120
    },
    "id": "-oBOtGZboi6W",
    "outputId": "f6611fe9-89f0-4707-e941-9668ac1a3251",
    "slideshow": {
     "slide_type": "fragment"
    }
   },
   "outputs": [],
   "source": [
    "response.content[:500]"
   ]
  },
  {
   "cell_type": "code",
   "execution_count": null,
   "metadata": {
    "colab": {
     "base_uri": "https://localhost:8080/",
     "height": 17
    },
    "executionInfo": {
     "elapsed": 777,
     "status": "ok",
     "timestamp": 1620917227041,
     "user": {
      "displayName": "Andrzej Buchowicz",
      "photoUrl": "",
      "userId": "01135068444767945835"
     },
     "user_tz": -120
    },
    "id": "uV1tBSPIpFjF",
    "outputId": "1af74241-5c16-4ebe-aea5-e4e681bc0e34",
    "slideshow": {
     "slide_type": "fragment"
    }
   },
   "outputs": [],
   "source": [
    "import os\n",
    "\n",
    "filename = os.path.basename(urllib.parse.urlparse(url).path)\n",
    "print(filename)"
   ]
  },
  {
   "cell_type": "code",
   "execution_count": null,
   "metadata": {},
   "outputs": [],
   "source": [
    "with open(os.path.join('data', filename), 'wb') as file:\n",
    "    file.write(response.content)"
   ]
  },
  {
   "cell_type": "markdown",
   "metadata": {
    "id": "aMohHzZfrMsI",
    "slideshow": {
     "slide_type": "slide"
    }
   },
   "source": [
    "## Python - wyświetlanie obrazów\n",
    "\n",
    "* pakiet `matplotlib`\n",
    "  * [imread()](https://matplotlib.org/stable/api/_as_gen/matplotlib.pyplot.imread.html)\n",
    "  * [imshow()](https://matplotlib.org/stable/api/_as_gen/matplotlib.pyplot.imshow.html)\n",
    "* biblioteka [OpenCV](https://opencv.org/)\n",
    "* biblioteka [Pillow](https://pillow.readthedocs.io/en/stable/)\n",
    "* ..."
   ]
  },
  {
   "cell_type": "code",
   "execution_count": null,
   "metadata": {
    "colab": {
     "base_uri": "https://localhost:8080/",
     "height": 264
    },
    "executionInfo": {
     "elapsed": 956,
     "status": "ok",
     "timestamp": 1620917468263,
     "user": {
      "displayName": "Andrzej Buchowicz",
      "photoUrl": "",
      "userId": "01135068444767945835"
     },
     "user_tz": -120
    },
    "id": "OhyLu6zToozv",
    "outputId": "6a11db45-9441-43a3-97b3-fdc1a3d7335d",
    "slideshow": {
     "slide_type": "fragment"
    }
   },
   "outputs": [],
   "source": [
    "import matplotlib.pyplot as plt\n",
    "\n",
    "img = plt.imread(os.path.join('data', filename))\n",
    "print(type(img), img.shape)\n",
    "\n",
    "_, ax = plt.subplots(figsize=(12, 9))\n",
    "ax.imshow(img)\n",
    "ax.set_axis_off()\n",
    "ax.set_title(filename);"
   ]
  },
  {
   "cell_type": "markdown",
   "metadata": {
    "id": "YYje2HxFtpB_",
    "slideshow": {
     "slide_type": "slide"
    }
   },
   "source": [
    "##### [io.BytesIO](https://docs.python.org/3/library/io.html#io.BytesIO)"
   ]
  },
  {
   "cell_type": "code",
   "execution_count": null,
   "metadata": {
    "colab": {
     "base_uri": "https://localhost:8080/",
     "height": 264
    },
    "executionInfo": {
     "elapsed": 1383,
     "status": "ok",
     "timestamp": 1620917608920,
     "user": {
      "displayName": "Andrzej Buchowicz",
      "photoUrl": "",
      "userId": "01135068444767945835"
     },
     "user_tz": -120
    },
    "id": "tq5yQct-qjw1",
    "outputId": "d2e61d60-8721-40a2-f1da-4684b0aca5d7",
    "slideshow": {
     "slide_type": "fragment"
    }
   },
   "outputs": [],
   "source": [
    "import io\n",
    "\n",
    "buffer = io.BytesIO(response.content)\n",
    "img = plt.imread(buffer)\n",
    "\n",
    "_, ax = plt.subplots(figsize=(12, 9))\n",
    "ax.imshow(img)\n",
    "ax.set_axis_off()\n",
    "ax.set_title(filename);"
   ]
  },
  {
   "cell_type": "markdown",
   "metadata": {
    "id": "ixjGUIEolnnQ",
    "slideshow": {
     "slide_type": "slide"
    }
   },
   "source": [
    "### Wysylanie danych do serwisu sieciowego - metoda POST"
   ]
  },
  {
   "cell_type": "code",
   "execution_count": null,
   "metadata": {
    "executionInfo": {
     "elapsed": 1779,
     "status": "ok",
     "timestamp": 1620917843186,
     "user": {
      "displayName": "Andrzej Buchowicz",
      "photoUrl": "",
      "userId": "01135068444767945835"
     },
     "user_tz": -120
    },
    "id": "xdf4fAOBTWKn",
    "slideshow": {
     "slide_type": "fragment"
    }
   },
   "outputs": [],
   "source": [
    "import json\n",
    "\n",
    "data = {\n",
    "  \"userId\": 1,\n",
    "  \"id\": 1,\n",
    "  \"title\": \"PRM1T 20Z: wyklad 11\",\n",
    "  \"body\": \"Python, requests\"\n",
    "}\n",
    "\n",
    "response = requests.post(\"https://jsonplaceholder.typicode.com/posts\", json=data)"
   ]
  },
  {
   "cell_type": "code",
   "execution_count": null,
   "metadata": {
    "colab": {
     "base_uri": "https://localhost:8080/"
    },
    "executionInfo": {
     "elapsed": 1942,
     "status": "ok",
     "timestamp": 1620917850597,
     "user": {
      "displayName": "Andrzej Buchowicz",
      "photoUrl": "",
      "userId": "01135068444767945835"
     },
     "user_tz": -120
    },
    "id": "5jvxyUvhlzvw",
    "outputId": "beec8366-8381-40c1-e779-a63a8b499c57",
    "slideshow": {
     "slide_type": "fragment"
    }
   },
   "outputs": [],
   "source": [
    "response.status_code"
   ]
  },
  {
   "cell_type": "code",
   "execution_count": null,
   "metadata": {
    "colab": {
     "base_uri": "https://localhost:8080/"
    },
    "executionInfo": {
     "elapsed": 954,
     "status": "ok",
     "timestamp": 1620917846155,
     "user": {
      "displayName": "Andrzej Buchowicz",
      "photoUrl": "",
      "userId": "01135068444767945835"
     },
     "user_tz": -120
    },
    "id": "g6FlxBsSmdNs",
    "outputId": "6d4aabb7-91af-4847-9072-fa3fea63f7f0",
    "slideshow": {
     "slide_type": "fragment"
    }
   },
   "outputs": [],
   "source": [
    "response.request.headers"
   ]
  },
  {
   "cell_type": "code",
   "execution_count": null,
   "metadata": {
    "colab": {
     "base_uri": "https://localhost:8080/"
    },
    "executionInfo": {
     "elapsed": 871,
     "status": "ok",
     "timestamp": 1620917889942,
     "user": {
      "displayName": "Andrzej Buchowicz",
      "photoUrl": "",
      "userId": "01135068444767945835"
     },
     "user_tz": -120
    },
    "id": "5Dx1NZh9mh_k",
    "outputId": "75a5f343-7c76-433f-b1e8-625b18db1be0",
    "slideshow": {
     "slide_type": "subslide"
    }
   },
   "outputs": [],
   "source": [
    "response.headers"
   ]
  },
  {
   "cell_type": "code",
   "execution_count": null,
   "metadata": {
    "colab": {
     "base_uri": "https://localhost:8080/"
    },
    "executionInfo": {
     "elapsed": 1205,
     "status": "ok",
     "timestamp": 1620917899476,
     "user": {
      "displayName": "Andrzej Buchowicz",
      "photoUrl": "",
      "userId": "01135068444767945835"
     },
     "user_tz": -120
    },
    "id": "UwbtUycPmrQY",
    "outputId": "f9f35bd8-3e11-4ff3-dd2d-f97c0c6001e1",
    "slideshow": {
     "slide_type": "fragment"
    }
   },
   "outputs": [],
   "source": [
    "response.content"
   ]
  },
  {
   "cell_type": "code",
   "execution_count": null,
   "metadata": {
    "colab": {
     "base_uri": "https://localhost:8080/"
    },
    "executionInfo": {
     "elapsed": 908,
     "status": "ok",
     "timestamp": 1620917911805,
     "user": {
      "displayName": "Andrzej Buchowicz",
      "photoUrl": "",
      "userId": "01135068444767945835"
     },
     "user_tz": -120
    },
    "id": "2JrXqYnAmty4",
    "outputId": "f077a9ae-1d9c-4a3e-a1b5-f3f630f33c86",
    "slideshow": {
     "slide_type": "fragment"
    }
   },
   "outputs": [],
   "source": [
    "response.json()"
   ]
  },
  {
   "cell_type": "code",
   "execution_count": null,
   "metadata": {},
   "outputs": [],
   "source": []
  }
 ],
 "metadata": {
  "colab": {
   "authorship_tag": "ABX9TyOzxF5xwnXMHTORKiGd2a2W",
   "collapsed_sections": [],
   "name": "12.1-requests.ipynb",
   "provenance": []
  },
  "kernelspec": {
   "display_name": "Python 3 (ipykernel)",
   "language": "python",
   "name": "python3"
  },
  "language_info": {
   "codemirror_mode": {
    "name": "ipython",
    "version": 3
   },
   "file_extension": ".py",
   "mimetype": "text/x-python",
   "name": "python",
   "nbconvert_exporter": "python",
   "pygments_lexer": "ipython3",
   "version": "3.10.13"
  }
 },
 "nbformat": 4,
 "nbformat_minor": 4
}
