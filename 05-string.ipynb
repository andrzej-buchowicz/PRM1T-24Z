{
 "cells": [
  {
   "cell_type": "markdown",
   "metadata": {
    "slideshow": {
     "slide_type": "slide"
    }
   },
   "source": [
    "<div style=\"text-align: center; color: #7896cf; font-size: 32px; font-weight: bold; font-family: Arial, Helvetica, sans-serif; padding-bottom: 12px;\">PODSTAWY PROGRAMOWANIA 1</div>\n",
    "<div style=\"text-align: center; color: #3c3c4c; font-size: large; font-family:monospace; padding-bottom:18px;\"> andrzej.buchowicz@pw.edu.pl</div>\n",
    "<div style=\"text-align: center; font-size: 48px; font-family: Arial, Helvetica, sans-serif; padding-bottom: 24px; line-height: 1.25;\">Przetwarzanie tekstów, binarne typy danych</div>"
   ]
  },
  {
   "cell_type": "markdown",
   "metadata": {},
   "source": [
    "## Dane tekstowe - klasa [str](https://docs.python.org/3/library/stdtypes.html#text-sequence-type-str)\n",
    "* **niemodyfikolwana** sekwencja **znaków**"
   ]
  },
  {
   "cell_type": "code",
   "execution_count": null,
   "metadata": {
    "slideshow": {
     "slide_type": "fragment"
    }
   },
   "outputs": [],
   "source": [
    "tekst = \"Podstawy programowania 1 (PRM1T)\"\n",
    "type(tekst)"
   ]
  },
  {
   "cell_type": "code",
   "execution_count": null,
   "metadata": {
    "slideshow": {
     "slide_type": "fragment"
    }
   },
   "outputs": [],
   "source": [
    "len(tekst)"
   ]
  },
  {
   "cell_type": "code",
   "execution_count": null,
   "metadata": {
    "slideshow": {
     "slide_type": "fragment"
    }
   },
   "outputs": [],
   "source": [
    "tekst[0:9]"
   ]
  },
  {
   "cell_type": "code",
   "execution_count": null,
   "metadata": {
    "slideshow": {
     "slide_type": "fragment"
    }
   },
   "outputs": [],
   "source": [
    "tekst[9:]"
   ]
  },
  {
   "cell_type": "code",
   "execution_count": null,
   "metadata": {
    "slideshow": {
     "slide_type": "fragment"
    }
   },
   "outputs": [],
   "source": [
    "tekst[-7:]"
   ]
  },
  {
   "cell_type": "code",
   "execution_count": null,
   "metadata": {
    "slideshow": {
     "slide_type": "fragment"
    }
   },
   "outputs": [],
   "source": [
    "tekst[1:10:2]"
   ]
  },
  {
   "cell_type": "code",
   "execution_count": null,
   "metadata": {
    "slideshow": {
     "slide_type": "slide"
    }
   },
   "outputs": [],
   "source": [
    "tekst[::-1]"
   ]
  },
  {
   "cell_type": "code",
   "execution_count": null,
   "metadata": {
    "slideshow": {
     "slide_type": "fragment"
    }
   },
   "outputs": [],
   "source": [
    "tekst + \" semestr 24Z\""
   ]
  },
  {
   "cell_type": "code",
   "execution_count": null,
   "metadata": {},
   "outputs": [],
   "source": [
    "tekst"
   ]
  },
  {
   "cell_type": "code",
   "execution_count": null,
   "metadata": {},
   "outputs": [],
   "source": [
    "tekst[0] = 'p'"
   ]
  },
  {
   "cell_type": "code",
   "execution_count": null,
   "metadata": {
    "slideshow": {
     "slide_type": "fragment"
    }
   },
   "outputs": [],
   "source": [
    "for znak in tekst:\n",
    "  print(znak, end='_')"
   ]
  },
  {
   "cell_type": "markdown",
   "metadata": {},
   "source": [
    "### Testowanie"
   ]
  },
  {
   "cell_type": "code",
   "execution_count": null,
   "metadata": {
    "slideshow": {
     "slide_type": "slide"
    }
   },
   "outputs": [],
   "source": [
    "\"PRM1T\".islower()"
   ]
  },
  {
   "cell_type": "code",
   "execution_count": null,
   "metadata": {
    "slideshow": {
     "slide_type": "fragment"
    }
   },
   "outputs": [],
   "source": [
    "\"PRM1T\".isupper()"
   ]
  },
  {
   "cell_type": "code",
   "execution_count": null,
   "metadata": {
    "slideshow": {
     "slide_type": "fragment"
    }
   },
   "outputs": [],
   "source": [
    "\"1234\".isdecimal()"
   ]
  },
  {
   "cell_type": "code",
   "execution_count": null,
   "metadata": {
    "slideshow": {
     "slide_type": "fragment"
    }
   },
   "outputs": [],
   "source": [
    "\"12.34\".isdecimal()"
   ]
  },
  {
   "cell_type": "markdown",
   "metadata": {},
   "source": [
    "### Wyszukiwanie znaków, tekstów"
   ]
  },
  {
   "cell_type": "code",
   "execution_count": null,
   "metadata": {},
   "outputs": [],
   "source": [
    "tekst"
   ]
  },
  {
   "cell_type": "code",
   "execution_count": null,
   "metadata": {
    "slideshow": {
     "slide_type": "slide"
    }
   },
   "outputs": [],
   "source": [
    "\"prog\" in tekst"
   ]
  },
  {
   "cell_type": "code",
   "execution_count": null,
   "metadata": {
    "slideshow": {
     "slide_type": "fragment"
    }
   },
   "outputs": [],
   "source": [
    "tekst.find(\"prog\")"
   ]
  },
  {
   "cell_type": "code",
   "execution_count": null,
   "metadata": {
    "slideshow": {
     "slide_type": "fragment"
    }
   },
   "outputs": [],
   "source": [
    "tekst.find(\"PROG\")"
   ]
  },
  {
   "cell_type": "code",
   "execution_count": null,
   "metadata": {
    "slideshow": {
     "slide_type": "fragment"
    }
   },
   "outputs": [],
   "source": [
    "tekst.index(\"prog\")"
   ]
  },
  {
   "cell_type": "code",
   "execution_count": null,
   "metadata": {
    "slideshow": {
     "slide_type": "fragment"
    }
   },
   "outputs": [],
   "source": [
    "tekst.index(\"PROG\")"
   ]
  },
  {
   "cell_type": "code",
   "execution_count": null,
   "metadata": {},
   "outputs": [],
   "source": [
    "print(tekst)\n",
    "print(tekst.find('P'))\n",
    "print(tekst.rfind('P'))"
   ]
  },
  {
   "cell_type": "code",
   "execution_count": null,
   "metadata": {
    "slideshow": {
     "slide_type": "slide"
    }
   },
   "outputs": [],
   "source": [
    "tekst.startswith(\"Pod\")"
   ]
  },
  {
   "cell_type": "code",
   "execution_count": null,
   "metadata": {
    "slideshow": {
     "slide_type": "fragment"
    }
   },
   "outputs": [],
   "source": [
    "tekst.endswith(\")\")"
   ]
  },
  {
   "cell_type": "code",
   "execution_count": null,
   "metadata": {
    "slideshow": {
     "slide_type": "fragment"
    }
   },
   "outputs": [],
   "source": [
    "tekst.count('P')"
   ]
  },
  {
   "cell_type": "markdown",
   "metadata": {},
   "source": [
    "### Wyrażenia regularne\n",
    "\n",
    "* wyszukiwanie tekstów na podstawie dopasowania do wzorców\n",
    "* składnia wzorców zbliżona do stosowanej w języku Perl\n",
    "* implementacja w pakiecie [re](https://docs.python.org/3/library/re.html)"
   ]
  },
  {
   "cell_type": "markdown",
   "metadata": {},
   "source": [
    "### \"Modyfikacja\""
   ]
  },
  {
   "cell_type": "code",
   "execution_count": null,
   "metadata": {},
   "outputs": [],
   "source": [
    "tekst = \"Podstawy programowania 1 (PRM1T)\""
   ]
  },
  {
   "cell_type": "code",
   "execution_count": null,
   "metadata": {
    "slideshow": {
     "slide_type": "fragment"
    }
   },
   "outputs": [],
   "source": [
    "tekst.upper()"
   ]
  },
  {
   "cell_type": "code",
   "execution_count": null,
   "metadata": {},
   "outputs": [],
   "source": [
    "tekst"
   ]
  },
  {
   "cell_type": "code",
   "execution_count": null,
   "metadata": {
    "slideshow": {
     "slide_type": "fragment"
    }
   },
   "outputs": [],
   "source": [
    "tekst.lower()"
   ]
  },
  {
   "cell_type": "code",
   "execution_count": null,
   "metadata": {
    "slideshow": {
     "slide_type": "fragment"
    }
   },
   "outputs": [],
   "source": [
    "tekst.swapcase()"
   ]
  },
  {
   "cell_type": "code",
   "execution_count": null,
   "metadata": {
    "slideshow": {
     "slide_type": "fragment"
    }
   },
   "outputs": [],
   "source": [
    "tekst.replace(\"1\", \"1.0\", 1)"
   ]
  },
  {
   "cell_type": "markdown",
   "metadata": {},
   "source": [
    "#### Usuwanie początkowych lub końcowych znaków z tekstu"
   ]
  },
  {
   "cell_type": "code",
   "execution_count": null,
   "metadata": {},
   "outputs": [],
   "source": [
    "tekst = \"   Podstawy programowania 1 (PRM1T)   \"\n",
    "print('|', tekst.strip(), '|', sep='')\n",
    "print('|', tekst.lstrip(), '|', sep='')\n",
    "print('|', tekst.rstrip(), '|', sep='')"
   ]
  },
  {
   "cell_type": "code",
   "execution_count": null,
   "metadata": {},
   "outputs": [],
   "source": [
    "print('|', tekst.rstrip('(PRM1T) '), '|', sep='')   # spacja w parametrze rstrip() !!!"
   ]
  },
  {
   "cell_type": "markdown",
   "metadata": {
    "slideshow": {
     "slide_type": "slide"
    }
   },
   "source": [
    "### Podzial tekstu - metoda [split()](https://docs.python.org/3/library/stdtypes.html#str.split), lączenie tekstów - metoda [join()](https://docs.python.org/3/library/stdtypes.html#str.join)"
   ]
  },
  {
   "cell_type": "code",
   "execution_count": null,
   "metadata": {
    "slideshow": {
     "slide_type": "fragment"
    }
   },
   "outputs": [],
   "source": [
    "wyrazy = tekst.split()\n",
    "for wyraz in wyrazy:\n",
    "  print(wyraz)"
   ]
  },
  {
   "cell_type": "code",
   "execution_count": null,
   "metadata": {
    "slideshow": {
     "slide_type": "fragment"
    }
   },
   "outputs": [],
   "source": [
    "\"_\".join([\"Podstawy\", \"programowania\", \"1\", \"(PRM1T)\"])"
   ]
  },
  {
   "cell_type": "markdown",
   "metadata": {
    "id": "XpEDQfyS0R_D",
    "slideshow": {
     "slide_type": "slide"
    }
   },
   "source": [
    "### Formatowanie tekstów\n",
    "\n",
    "#### Napisy formatujące - [f-string](https://docs.python.org/3/reference/lexical_analysis.html#formatted-string-literals)"
   ]
  },
  {
   "cell_type": "code",
   "execution_count": null,
   "metadata": {
    "colab": {
     "base_uri": "https://localhost:8080/"
    },
    "executionInfo": {
     "elapsed": 533,
     "status": "ok",
     "timestamp": 1617286608721,
     "user": {
      "displayName": "Andrzej Buchowicz",
      "photoUrl": "",
      "userId": "01135068444767945835"
     },
     "user_tz": -120
    },
    "id": "4RUeKdXnb0Ku",
    "outputId": "097b7717-1414-463f-cce3-c107b1f62926",
    "slideshow": {
     "slide_type": "fragment"
    }
   },
   "outputs": [],
   "source": [
    "import math\n",
    "\n",
    "a = 15\n",
    "x = math.sqrt(2.)\n",
    "\n",
    "print(\"a=\", a, \" x=\", x)"
   ]
  },
  {
   "cell_type": "code",
   "execution_count": null,
   "metadata": {
    "colab": {
     "base_uri": "https://localhost:8080/"
    },
    "executionInfo": {
     "elapsed": 655,
     "status": "ok",
     "timestamp": 1617286759496,
     "user": {
      "displayName": "Andrzej Buchowicz",
      "photoUrl": "",
      "userId": "01135068444767945835"
     },
     "user_tz": -120
    },
    "id": "7b9-8gdfcFyW",
    "outputId": "a5352e17-da99-4cf5-b42d-7c1db7c20403",
    "slideshow": {
     "slide_type": "fragment"
    }
   },
   "outputs": [],
   "source": [
    "print(f\"a={a}         x={x}\")"
   ]
  },
  {
   "cell_type": "code",
   "execution_count": null,
   "metadata": {
    "colab": {
     "base_uri": "https://localhost:8080/"
    },
    "executionInfo": {
     "elapsed": 707,
     "status": "ok",
     "timestamp": 1617286832659,
     "user": {
      "displayName": "Andrzej Buchowicz",
      "photoUrl": "",
      "userId": "01135068444767945835"
     },
     "user_tz": -120
    },
    "id": "Pm2yL0fOdBK_",
    "outputId": "12bff462-d3a5-4072-a11e-5d816daa46db",
    "slideshow": {
     "slide_type": "fragment"
    }
   },
   "outputs": [],
   "source": [
    "print(f\"a={a:4d}  x={x}\")"
   ]
  },
  {
   "cell_type": "code",
   "execution_count": null,
   "metadata": {
    "slideshow": {
     "slide_type": "slide"
    }
   },
   "outputs": [],
   "source": [
    "print(f\"a={a:<4d}  x={x}\")"
   ]
  },
  {
   "cell_type": "code",
   "execution_count": null,
   "metadata": {
    "slideshow": {
     "slide_type": "fragment"
    }
   },
   "outputs": [],
   "source": [
    "print(f\"a={a:^4d}  x={x}\")"
   ]
  },
  {
   "cell_type": "code",
   "execution_count": null,
   "metadata": {
    "colab": {
     "base_uri": "https://localhost:8080/"
    },
    "executionInfo": {
     "elapsed": 614,
     "status": "ok",
     "timestamp": 1617286868382,
     "user": {
      "displayName": "Andrzej Buchowicz",
      "photoUrl": "",
      "userId": "01135068444767945835"
     },
     "user_tz": -120
    },
    "id": "Nxseh6HGdWY2",
    "outputId": "c863e2c6-f2ad-460a-dc64-cd2bbb30d0e9",
    "slideshow": {
     "slide_type": "fragment"
    }
   },
   "outputs": [],
   "source": [
    "print(f\"a=0x{a:04x}  x={x}\")"
   ]
  },
  {
   "cell_type": "code",
   "execution_count": null,
   "metadata": {
    "colab": {
     "base_uri": "https://localhost:8080/"
    },
    "executionInfo": {
     "elapsed": 976,
     "status": "ok",
     "timestamp": 1617284880228,
     "user": {
      "displayName": "Andrzej Buchowicz",
      "photoUrl": "",
      "userId": "01135068444767945835"
     },
     "user_tz": -120
    },
    "id": "1fRkAfbDcVfp",
    "outputId": "13f56f8d-07e2-48a7-e383-fb0ad0a26255",
    "slideshow": {
     "slide_type": "fragment"
    }
   },
   "outputs": [],
   "source": [
    "print(f\"a={a}  x={x:8.3f}\")"
   ]
  },
  {
   "cell_type": "code",
   "execution_count": null,
   "metadata": {
    "colab": {
     "base_uri": "https://localhost:8080/"
    },
    "executionInfo": {
     "elapsed": 972,
     "status": "ok",
     "timestamp": 1617284880229,
     "user": {
      "displayName": "Andrzej Buchowicz",
      "photoUrl": "",
      "userId": "01135068444767945835"
     },
     "user_tz": -120
    },
    "id": "zLUIjyTRehrV",
    "outputId": "af220a43-35f7-4118-dc51-1984c963e4ac",
    "slideshow": {
     "slide_type": "fragment"
    }
   },
   "outputs": [],
   "source": [
    "print(f\"a={a}  x={x:10.3e}\")"
   ]
  },
  {
   "cell_type": "markdown",
   "metadata": {
    "id": "_dG6K-LG0WN7",
    "slideshow": {
     "slide_type": "slide"
    }
   },
   "source": [
    "#### Metoda `format()`"
   ]
  },
  {
   "cell_type": "code",
   "execution_count": null,
   "metadata": {
    "colab": {
     "base_uri": "https://localhost:8080/",
     "height": 35
    },
    "executionInfo": {
     "elapsed": 521,
     "status": "ok",
     "timestamp": 1617287148281,
     "user": {
      "displayName": "Andrzej Buchowicz",
      "photoUrl": "",
      "userId": "01135068444767945835"
     },
     "user_tz": -120
    },
    "id": "HHvrDNWEe3lj",
    "outputId": "72b9d7ed-71a9-4f43-8ab4-3d70491aaa96",
    "slideshow": {
     "slide_type": "fragment"
    }
   },
   "outputs": [],
   "source": [
    "\"a={0:05d} x={1:8.3f} a={0:8d}\".format(a, x)"
   ]
  },
  {
   "cell_type": "markdown",
   "metadata": {
    "id": "C6PvCmGo0yhs",
    "slideshow": {
     "slide_type": "fragment"
    }
   },
   "source": [
    "#### Operator `%`"
   ]
  },
  {
   "cell_type": "code",
   "execution_count": null,
   "metadata": {
    "colab": {
     "base_uri": "https://localhost:8080/",
     "height": 35
    },
    "executionInfo": {
     "elapsed": 609,
     "status": "ok",
     "timestamp": 1617287272635,
     "user": {
      "displayName": "Andrzej Buchowicz",
      "photoUrl": "",
      "userId": "01135068444767945835"
     },
     "user_tz": -120
    },
    "id": "OkBXsgtk0450",
    "outputId": "3f8aac0c-dc0a-4611-c54f-e3f14f84180c",
    "slideshow": {
     "slide_type": "fragment"
    }
   },
   "outputs": [],
   "source": [
    "\"a=%d x=%f\" % (a, x)"
   ]
  },
  {
   "cell_type": "markdown",
   "metadata": {
    "id": "aiMCPIk85rBq",
    "slideshow": {
     "slide_type": "slide"
    }
   },
   "source": [
    "#### Metody [ljust()](https://docs.python.org/3/library/stdtypes.html#str.ljust), [rjust()](https://docs.python.org/3/library/stdtypes.html#str.rjust), [zfill()](https://docs.python.org/3/library/stdtypes.html#str.zfill)"
   ]
  },
  {
   "cell_type": "code",
   "execution_count": null,
   "metadata": {
    "colab": {
     "base_uri": "https://localhost:8080/",
     "height": 35
    },
    "executionInfo": {
     "elapsed": 515,
     "status": "ok",
     "timestamp": 1617287350106,
     "user": {
      "displayName": "Andrzej Buchowicz",
      "photoUrl": "",
      "userId": "01135068444767945835"
     },
     "user_tz": -120
    },
    "id": "tV-7uuOy8WqN",
    "outputId": "a5e6d026-7035-475c-a848-aec1bb705759",
    "slideshow": {
     "slide_type": "fragment"
    }
   },
   "outputs": [],
   "source": [
    "\"123\".ljust(5)"
   ]
  },
  {
   "cell_type": "code",
   "execution_count": null,
   "metadata": {
    "colab": {
     "base_uri": "https://localhost:8080/",
     "height": 35
    },
    "executionInfo": {
     "elapsed": 558,
     "status": "ok",
     "timestamp": 1617287363113,
     "user": {
      "displayName": "Andrzej Buchowicz",
      "photoUrl": "",
      "userId": "01135068444767945835"
     },
     "user_tz": -120
    },
    "id": "bwZxdeL28e0d",
    "outputId": "a4c0e5d3-4ed4-41af-8f41-b8f18048823b",
    "slideshow": {
     "slide_type": "fragment"
    }
   },
   "outputs": [],
   "source": [
    "\"123\".rjust(5, '_')"
   ]
  },
  {
   "cell_type": "code",
   "execution_count": null,
   "metadata": {
    "colab": {
     "base_uri": "https://localhost:8080/",
     "height": 35
    },
    "executionInfo": {
     "elapsed": 511,
     "status": "ok",
     "timestamp": 1617287381260,
     "user": {
      "displayName": "Andrzej Buchowicz",
      "photoUrl": "",
      "userId": "01135068444767945835"
     },
     "user_tz": -120
    },
    "id": "lcoS_B6Q8jEt",
    "outputId": "855c4af6-97e6-4859-80b0-875ac24f1df9",
    "slideshow": {
     "slide_type": "fragment"
    }
   },
   "outputs": [],
   "source": [
    "\"123\".zfill(5)"
   ]
  },
  {
   "cell_type": "markdown",
   "metadata": {},
   "source": [
    "## Binarne typy danych\n",
    "\n",
    "* klasa [bytes](https://docs.python.org/3/library/stdtypes.html#bytes-objects) - **niemodyfikowalna** sekwencja bajtów - liczb całkowitych bez znaku z przedziału $0\\ldots 255$\n",
    "* klasa [bytearray](https://docs.python.org/3/library/stdtypes.html#bytearray-objects) - **modyfikowalna** sekwencja bajtów - liczb całkowitych z przedziału $0 \\ldots 255$\n",
    "* klasa [memoryview](https://docs.python.org/3/library/stdtypes.html#memory-views)"
   ]
  },
  {
   "cell_type": "markdown",
   "metadata": {},
   "source": [
    "### `bytes`"
   ]
  },
  {
   "cell_type": "code",
   "execution_count": null,
   "metadata": {},
   "outputs": [],
   "source": [
    "b'ABC'"
   ]
  },
  {
   "cell_type": "code",
   "execution_count": null,
   "metadata": {},
   "outputs": [],
   "source": [
    "type(b'ABC')"
   ]
  },
  {
   "cell_type": "code",
   "execution_count": null,
   "metadata": {},
   "outputs": [],
   "source": [
    "b = b'\\x41\\x42\\x43\\x0d\\x0a\\x88'\n",
    "b"
   ]
  },
  {
   "cell_type": "code",
   "execution_count": null,
   "metadata": {},
   "outputs": [],
   "source": [
    "len(b)"
   ]
  },
  {
   "cell_type": "code",
   "execution_count": null,
   "metadata": {},
   "outputs": [],
   "source": [
    "b[0:3]"
   ]
  },
  {
   "cell_type": "code",
   "execution_count": null,
   "metadata": {},
   "outputs": [],
   "source": [
    "b[1] = 'b'"
   ]
  },
  {
   "cell_type": "code",
   "execution_count": null,
   "metadata": {},
   "outputs": [],
   "source": [
    "b2 = bytes.fromhex('f0 f1 f2')\n",
    "b2"
   ]
  },
  {
   "cell_type": "code",
   "execution_count": null,
   "metadata": {},
   "outputs": [],
   "source": [
    "b2.hex(\" \")"
   ]
  },
  {
   "cell_type": "code",
   "execution_count": null,
   "metadata": {},
   "outputs": [],
   "source": [
    "b2.hex('-')"
   ]
  },
  {
   "cell_type": "code",
   "execution_count": null,
   "metadata": {},
   "outputs": [],
   "source": [
    "en_text = 'abcde'\n",
    "en_text, len(en_text)"
   ]
  },
  {
   "cell_type": "code",
   "execution_count": null,
   "metadata": {},
   "outputs": [],
   "source": [
    "en_bytes = en_text.encode('utf-8')\n",
    "en_bytes, len(en_bytes)"
   ]
  },
  {
   "cell_type": "code",
   "execution_count": null,
   "metadata": {},
   "outputs": [],
   "source": [
    "en_bytes.decode('utf-8')"
   ]
  },
  {
   "cell_type": "code",
   "execution_count": null,
   "metadata": {},
   "outputs": [],
   "source": [
    "pl_text = 'ąćęłńóśźż'\n",
    "pl_text, len(pl_text)"
   ]
  },
  {
   "cell_type": "code",
   "execution_count": null,
   "metadata": {},
   "outputs": [],
   "source": [
    "pl_bytes = pl_text.encode('utf-8')\n",
    "pl_bytes, len(pl_bytes)"
   ]
  },
  {
   "cell_type": "code",
   "execution_count": null,
   "metadata": {},
   "outputs": [],
   "source": [
    "pl_bytes.decode('utf-8')"
   ]
  },
  {
   "cell_type": "markdown",
   "metadata": {},
   "source": [
    "### `bytearray`"
   ]
  },
  {
   "cell_type": "code",
   "execution_count": null,
   "metadata": {},
   "outputs": [],
   "source": [
    "ba = bytearray(b'ABC')\n",
    "ba"
   ]
  },
  {
   "cell_type": "code",
   "execution_count": null,
   "metadata": {},
   "outputs": [],
   "source": [
    "bytearray(10)"
   ]
  },
  {
   "cell_type": "code",
   "execution_count": null,
   "metadata": {},
   "outputs": [],
   "source": [
    "bytearray(range(10))"
   ]
  },
  {
   "cell_type": "code",
   "execution_count": null,
   "metadata": {},
   "outputs": [],
   "source": [
    "bytearray()"
   ]
  },
  {
   "cell_type": "code",
   "execution_count": null,
   "metadata": {},
   "outputs": [],
   "source": [
    "ba[1] = ord('@')\n",
    "ba"
   ]
  },
  {
   "cell_type": "markdown",
   "metadata": {},
   "source": [
    "### Przetwarzanie danych bitowych\n",
    "\n",
    "* [bitstring](https://bitstring.readthedocs.io/en/stable/index.html)\n",
    "* [bitarray](https://pypi.org/project/bitarray/)"
   ]
  }
 ],
 "metadata": {
  "colab": {
   "authorship_tag": "ABX9TyPBG6PW42vuh2v+UEtbhKLP",
   "collapsed_sections": [
    "XpEDQfyS0R_D",
    "_dG6K-LG0WN7",
    "C6PvCmGo0yhs",
    "aiMCPIk85rBq",
    "W2I62aJt2Wpf"
   ],
   "name": "06.1-fstring.ipynb",
   "provenance": [],
   "toc_visible": true
  },
  "kernelspec": {
   "display_name": "Python 3 (ipykernel)",
   "language": "python",
   "name": "python3"
  },
  "language_info": {
   "codemirror_mode": {
    "name": "ipython",
    "version": 3
   },
   "file_extension": ".py",
   "mimetype": "text/x-python",
   "name": "python",
   "nbconvert_exporter": "python",
   "pygments_lexer": "ipython3",
   "version": "3.10.13"
  }
 },
 "nbformat": 4,
 "nbformat_minor": 4
}
