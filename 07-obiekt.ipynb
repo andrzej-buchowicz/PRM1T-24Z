{
 "cells": [
  {
   "cell_type": "markdown",
   "id": "11b5187e-348f-42ad-97fb-56e2b9af0fbf",
   "metadata": {},
   "source": [
    "<div style=\"text-align: center; color: #7896cf; font-size: 32px; font-weight: bold; font-family: Arial, Helvetica, sans-serif; padding-bottom: 12px;\">PODSTAWY PROGRAMOWANIA 1</div>\n",
    "<div style=\"text-align: center; color: #3c3c4c; font-size: large; font-family:monospace; padding-bottom:18px;\"> andrzej.buchowicz@pw.edu.pl</div>\n",
    "<div style=\"text-align: center; font-size: 48px; font-family: Arial, Helvetica, sans-serif; padding-bottom: 24px; line-height: 1.25;\">Programowanie obiektowe</div>"
   ]
  },
  {
   "cell_type": "markdown",
   "id": "0711dab0",
   "metadata": {},
   "source": [
    "##  [Paradygmaty programowania](https://pl.wikipedia.org/wiki/Paradygmat_programowania)\n",
    "* [...]\n",
    "* programowanie funkcyjne\n",
    "* programowanie strukturalne\n",
    "* programowanie obiektowe\n",
    "* [...]"
   ]
  },
  {
   "cell_type": "markdown",
   "id": "9f8eb280",
   "metadata": {},
   "source": [
    "## Programowanie funkcyjne\n",
    "* zamiast przypisań i pętli stosuje definicje funkcji oraz ich rekurencyjne wywołania\n",
    "* funkcje są 'obywatelami pierwszej kategorii' - mogą być wykorzystywane wszędzie tam gdzie są stosowane stałe i zmienne, np. jako argumenty funkcji\n",
    "* podstawą teroretyczną programowania funkcyjnego jest [rachunek lambda](https://pl.wikipedia.org/wiki/Rachunek_lambda)\n",
    "* język Python umożliwa programowanie funkcyjne - m.in. funkcje [filter()](https://docs.python.org/3/library/functions.html#filter), [map()](https://docs.python.org/3/library/functions.html#map), [functools.reduce()](https://docs.python.org/3/library/functools.html#functools.reduce)"
   ]
  },
  {
   "cell_type": "markdown",
   "id": "b64b90d9",
   "metadata": {},
   "source": [
    "## Programowanie strukturalne\n",
    "* podział kodu źródłowego programu na hierarchiczne bloki\n",
    "* sterowanie programem w trakcie wykonania za pomocą instrukcji warunkowych i pętli\n",
    "* stosowanie zmiennych globalnych w ograniczonym zakresie i tylko w uzasadnionych przypadkach"
   ]
  },
  {
   "cell_type": "code",
   "execution_count": null,
   "id": "795309ff",
   "metadata": {},
   "outputs": [],
   "source": [
    "import json\n",
    "\n",
    "\n",
    "def wczytaj_przedmioty(nazwa_pliku):\n",
    "    przedmioty = {}\n",
    "    with open(nazwa_pliku, 'r', encoding='utf-8') as file:\n",
    "        for line in file:\n",
    "            nazwa_przedmiotu = line.strip()\n",
    "            przedmioty[nazwa_przedmiotu] = {}\n",
    "    return przedmioty\n",
    "\n",
    "\n",
    "def dodaj_ects(przedmioty):\n",
    "    for nazwa_przedmiotu in przedmioty.keys():\n",
    "        if nazwa_przedmiotu.startswith('Analiza'):\n",
    "            przedmioty[nazwa_przedmiotu] = {'ects': 5}\n",
    "        else:\n",
    "            przedmioty[nazwa_przedmiotu] = {'ects': 4}\n",
    "    return przedmioty\n",
    "\n",
    "# \\todo dodaj_liczba_godzin(), dodaj_konspekt(), ...\n",
    "\n",
    "def zapisz_przedmioty(przedmioty, nazwa_pliku):\n",
    "    with open(nazwa_pliku, 'w') as file:\n",
    "        json.dump(przedmioty, file, indent=\"  \")"
   ]
  },
  {
   "cell_type": "code",
   "execution_count": null,
   "id": "daa41202",
   "metadata": {},
   "outputs": [],
   "source": [
    "przedmioty = wczytaj_przedmioty('data/przedmioty.txt')\n",
    "print(przedmioty)"
   ]
  },
  {
   "cell_type": "code",
   "execution_count": null,
   "id": "35f2cf87",
   "metadata": {},
   "outputs": [],
   "source": [
    "przedmioty = dodaj_ects(przedmioty)\n",
    "print(przedmioty)"
   ]
  },
  {
   "cell_type": "code",
   "execution_count": null,
   "id": "1b589747",
   "metadata": {},
   "outputs": [],
   "source": [
    "zapisz_przedmioty(przedmioty, 'data/przedmioty.json')"
   ]
  },
  {
   "cell_type": "markdown",
   "id": "4ded938a",
   "metadata": {},
   "source": [
    "## Programowanie obiektowe\n",
    "* **Abstrakcja** - rzeczywiste obiekty są reprezentowane w programie przez ich uproszczony model, który odzwierciedla wybrane, najwazniejsze w danym przypadku, cechy rzeczywistego obiektu.\n",
    "* **Hermetyzacja** - wewnętrza struktura obiektu jest niewidoczna dla innych obiektów. Zmiana stanu obiektu, tzn. zmiana wartości jego wewnętrznych zmiennych, moze nastąpić tylko w wyniku wywołania odpowiednich metod zdefiniowanych dla tego obiektu\n",
    "* **Dziedziczenie** - obiekty w programie komputerowym mogą tworzyć hierarchiczną strukturę. Obiekt powiązany w tej strukturze z innym obiektem, może przejąć - dziedziczyć - właściwości powiązanego obiektu\n",
    "* **Polimorfizm** - w hierarchicznej strukturze obiektów powiązanych relacją dziedziczenia metoda moze być zdefiniowana dla wielu obiektów. W zależności od kontekstu jest wywoływana dla odpowiedniego obiektu w hierarchii"
   ]
  },
  {
   "cell_type": "code",
   "execution_count": null,
   "id": "af4c1f79",
   "metadata": {},
   "outputs": [],
   "source": [
    "class Przedmioty:\n",
    "    def __init__(self):\n",
    "        self.__przedmioty = {}\n",
    "\n",
    "    def wczytaj(self, nazwa_pliku):\n",
    "        with open(nazwa_pliku, 'r', encoding='utf-8') as file:\n",
    "            for line in file:\n",
    "                nazwa_przedmiotu = line.strip()\n",
    "                self.__przedmioty[nazwa_przedmiotu] = {}\n",
    "\n",
    "    def dodaj_ects(self):\n",
    "        for nazwa_przedmiotu in self.__przedmioty.keys():\n",
    "            if nazwa_przedmiotu.startswith('Analiza'):\n",
    "                self.__przedmioty[nazwa_przedmiotu] = {'ects': 5}\n",
    "            else:\n",
    "                self.__przedmioty[nazwa_przedmiotu] = {'ects': 4}\n",
    "\n",
    "    def zapisz(self, nazwa_pliku):\n",
    "        with open(nazwa_pliku, 'w') as file:\n",
    "            json.dump(self.__przedmioty, file, indent=\"  \")\n",
    "            \n",
    "    def drukuj(self):\n",
    "        print(self.__przedmioty)"
   ]
  },
  {
   "cell_type": "code",
   "execution_count": null,
   "id": "7ff2dfcd",
   "metadata": {},
   "outputs": [],
   "source": [
    "przedmioty = Przedmioty()\n",
    "przedmioty.wczytaj('data/przedmioty.txt')\n",
    "przedmioty.drukuj()"
   ]
  },
  {
   "cell_type": "markdown",
   "id": "3676b77b",
   "metadata": {},
   "source": [
    "### Zmiene prywatne"
   ]
  },
  {
   "cell_type": "code",
   "execution_count": null,
   "id": "3cfabd07",
   "metadata": {},
   "outputs": [],
   "source": [
    "przedmioty.__przedmioty"
   ]
  },
  {
   "cell_type": "code",
   "execution_count": null,
   "id": "5b7e064e",
   "metadata": {},
   "outputs": [],
   "source": [
    "dir(przedmioty)"
   ]
  },
  {
   "cell_type": "code",
   "execution_count": null,
   "id": "f86ebf5e",
   "metadata": {},
   "outputs": [],
   "source": [
    "przedmioty._Przedmioty__przedmioty"
   ]
  },
  {
   "cell_type": "markdown",
   "id": "c2b0cbd2",
   "metadata": {},
   "source": [
    "### Dziedziczenie\n",
    "\n",
    "<div style=\"padding-top: 24pt; padding-bottom: 24pt;\"><img src=\"img/wielokat.png\"></div>"
   ]
  },
  {
   "cell_type": "code",
   "execution_count": null,
   "id": "e21c6c84",
   "metadata": {},
   "outputs": [],
   "source": [
    "import math\n",
    "\n",
    "\n",
    "class Wielokat:\n",
    "    def __init__(self, punkty):\n",
    "        self.punkty = punkty\n",
    "\n",
    "    def oblicz_odleglosc(self, punkt1, punkt2):\n",
    "        return math.sqrt((punkt1[0] - punkt2[0])**2 + (punkt1[1] - punkt2[1])**2)\n",
    "\n",
    "    def oblicz_obwod(self):\n",
    "        obwod = 0\n",
    "        for i in range(len(self.punkty) - 1):\n",
    "            obwod += self.oblicz_odleglosc(self.punkty[i], self.punkty[i + 1])\n",
    "        obwod += self.oblicz_odleglosc(self.punkty[-1], self.punkty[0])\n",
    "        return obwod\n",
    "\n",
    "    def oblicz_pole(self):\n",
    "        return None"
   ]
  },
  {
   "cell_type": "code",
   "execution_count": null,
   "id": "cc1ebe51",
   "metadata": {},
   "outputs": [],
   "source": [
    "wielokat = Wielokat([(0, 0), (1, 1)])\n",
    "print(wielokat.oblicz_pole())\n",
    "print(wielokat.oblicz_obwod())"
   ]
  },
  {
   "cell_type": "code",
   "execution_count": null,
   "id": "3b64081b",
   "metadata": {},
   "outputs": [],
   "source": [
    "class Trojkat(Wielokat):\n",
    "    def __init__(self, punkty):\n",
    "        # \\todo sprawdzic poprawnosc danych !!!\n",
    "        Wielokat.__init__(self, punkty)\n",
    "\n",
    "    def oblicz_pole(self):\n",
    "        a = self.oblicz_odleglosc(self.punkty[0], self.punkty[1])\n",
    "        b = self.oblicz_odleglosc(self.punkty[1], self.punkty[2])\n",
    "        c = self.oblicz_odleglosc(self.punkty[2], self.punkty[0])\n",
    "        p = (a + b + c) / 2\n",
    "        return math.sqrt(p * (p - a) * (p - b) * (p - c))"
   ]
  },
  {
   "cell_type": "markdown",
   "id": "57a754ac",
   "metadata": {},
   "source": [
    "#### Pole trójkąta - [wzór Herona](https://pl.wikipedia.org/wiki/Wz%C3%B3r_Herona)\n",
    "\n",
    "$$p = \\frac{1}{2}\\left( a + b + c \\right)$$\n",
    "\n",
    "$$S = \\sqrt{ p (p - a) (p - b) (p -c) }$$ "
   ]
  },
  {
   "cell_type": "code",
   "execution_count": null,
   "id": "d4922b35",
   "metadata": {},
   "outputs": [],
   "source": [
    "trojkat = Trojkat([(0, 0), (1, 0), (0, 1)])"
   ]
  },
  {
   "cell_type": "markdown",
   "id": "785ca32f",
   "metadata": {},
   "source": [
    "![trojkat.png](img/trojkat.png)"
   ]
  },
  {
   "cell_type": "code",
   "execution_count": null,
   "id": "ab2b77ae",
   "metadata": {},
   "outputs": [],
   "source": [
    "print(f\"obwod={trojkat.oblicz_obwod():6.3f}  pole={trojkat.oblicz_pole():6.3f}\")"
   ]
  },
  {
   "cell_type": "code",
   "execution_count": null,
   "id": "51f21cb9",
   "metadata": {},
   "outputs": [],
   "source": [
    "class Prostokat(Wielokat):\n",
    "    def __init__(self, wierzcholki):\n",
    "        # \\todo sprawdzic poprawnosc danych !!!\n",
    "        super().__init__(wierzcholki)\n",
    "\n",
    "    def oblicz_pole(self):\n",
    "        a = self.oblicz_odleglosc(self.punkty[0], self.punkty[1])\n",
    "        b = self.oblicz_odleglosc(self.punkty[1], self.punkty[2])\n",
    "        return a * b\n",
    "    \n",
    "    def __str__(self):\n",
    "        return \"Prostokat: \" + str(self.punkty)\n",
    "    \n",
    "    def __repr__(self):\n",
    "        return self.__str__()\n",
    "    \n",
    "    def __eq__(self, other):\n",
    "        assert isinstance(other, Prostokat)\n",
    "        return self.oblicz_pole() == other.oblicz_pole()"
   ]
  },
  {
   "cell_type": "code",
   "execution_count": null,
   "id": "ac6373f4",
   "metadata": {},
   "outputs": [],
   "source": [
    "prostokat = Prostokat([(0, 0), (1, 0), (1, 1), (0, 1)])"
   ]
  },
  {
   "cell_type": "markdown",
   "id": "cee909df",
   "metadata": {},
   "source": [
    "![kwadrat.png](img/kwadrat.png)"
   ]
  },
  {
   "cell_type": "code",
   "execution_count": null,
   "id": "9f9762da",
   "metadata": {},
   "outputs": [],
   "source": [
    "print(f\"obwod={prostokat.oblicz_obwod():6.3f}  pole={prostokat.oblicz_pole():6.3f}\")"
   ]
  },
  {
   "cell_type": "markdown",
   "id": "35fb700e",
   "metadata": {},
   "source": [
    "#### Klasy abstrakcyjne - modul [abc](https://docs.python.org/3/library/abc.html)\n",
    "\n",
    "#### [Dziedziczenie wielokrotne](https://docs.python.org/3/tutorial/classes.html)"
   ]
  },
  {
   "cell_type": "markdown",
   "id": "eb84ef35",
   "metadata": {},
   "source": [
    "### Polimorfizm"
   ]
  },
  {
   "cell_type": "code",
   "execution_count": null,
   "id": "8f8300e2",
   "metadata": {},
   "outputs": [],
   "source": [
    "type(trojkat)"
   ]
  },
  {
   "cell_type": "code",
   "execution_count": null,
   "id": "7d038948",
   "metadata": {},
   "outputs": [],
   "source": [
    "type(prostokat)"
   ]
  },
  {
   "cell_type": "code",
   "execution_count": null,
   "id": "0b9a39de",
   "metadata": {},
   "outputs": [],
   "source": [
    "isinstance(trojkat, Wielokat)"
   ]
  },
  {
   "cell_type": "code",
   "execution_count": null,
   "id": "42f661b9",
   "metadata": {},
   "outputs": [],
   "source": [
    "isinstance(prostokat, Wielokat)"
   ]
  },
  {
   "cell_type": "markdown",
   "id": "391fd4b7",
   "metadata": {},
   "source": [
    "### Metody 'specjalne'\n",
    "\n",
    "#### Reprezentacja obiektu w postaci tekstu - metody `__str__`, `__repr__`"
   ]
  },
  {
   "cell_type": "code",
   "execution_count": null,
   "id": "527490bb",
   "metadata": {},
   "outputs": [],
   "source": [
    "prostokat"
   ]
  },
  {
   "cell_type": "code",
   "execution_count": null,
   "id": "ab7959ac",
   "metadata": {},
   "outputs": [],
   "source": [
    "print(prostokat)"
   ]
  },
  {
   "cell_type": "markdown",
   "id": "665f3ef4",
   "metadata": {},
   "source": [
    "#### Porównywanie obiektów - metody `__eq__`, `__lt__`, ..."
   ]
  },
  {
   "cell_type": "code",
   "execution_count": null,
   "id": "f4b63bc4",
   "metadata": {},
   "outputs": [],
   "source": [
    "prostokat1 = Prostokat([(0, 0), (0, 1), (1, 1), (1, 0)])\n",
    "prostokat2 = Prostokat([(0, 0), (0, 1), (1, 1), (1, 0)])\n",
    "print(prostokat1, prostokat2)"
   ]
  },
  {
   "cell_type": "code",
   "execution_count": null,
   "id": "c99ab951",
   "metadata": {},
   "outputs": [],
   "source": [
    "prostokat1 == prostokat2"
   ]
  },
  {
   "cell_type": "code",
   "execution_count": null,
   "id": "a5f97a34",
   "metadata": {},
   "outputs": [],
   "source": [
    "id(prostokat1), id(prostokat2)"
   ]
  },
  {
   "cell_type": "markdown",
   "id": "8314008c",
   "metadata": {},
   "source": [
    "### Pola statyczne (klasy)"
   ]
  },
  {
   "cell_type": "code",
   "execution_count": null,
   "id": "67b3b4e9",
   "metadata": {},
   "outputs": [],
   "source": [
    "class Pojazd:\n",
    "    licznik = 0\n",
    "\n",
    "    def __init__(self, liczba_kol):\n",
    "        self.liczba_kol = liczba_kol\n",
    "        Pojazd.licznik += 1"
   ]
  },
  {
   "cell_type": "code",
   "execution_count": null,
   "id": "41a907dd",
   "metadata": {},
   "outputs": [],
   "source": [
    "rower = Pojazd(2)\n",
    "print(f'rower: liczba kol={rower.liczba_kol} liczba pojazdow={Pojazd.licznik}')"
   ]
  },
  {
   "cell_type": "code",
   "execution_count": null,
   "id": "8728e31a",
   "metadata": {},
   "outputs": [],
   "source": [
    "samochod_osobowy = Pojazd(4)\n",
    "print(f'samochod osobowy: liczba kol={samochod_osobowy.liczba_kol}  liczba pojazdow={Pojazd.licznik}')"
   ]
  },
  {
   "cell_type": "code",
   "execution_count": null,
   "id": "b16aa018",
   "metadata": {},
   "outputs": [],
   "source": [
    "samochod_ciezarowy = Pojazd(6)\n",
    "print(f'samochod ciezarowy: liczba kol={samochod_ciezarowy.liczba_kol}  liczba pojazdow={Pojazd.licznik}')"
   ]
  },
  {
   "cell_type": "markdown",
   "id": "1cf53c0a",
   "metadata": {},
   "source": [
    "### Metody statyczne\n",
    "\n",
    "* [funkcja staticmethod()](https://docs.python.org/3/library/functions.html#staticmethod)\n",
    "* [dekorator @staticmethod](https://www.digitalocean.com/community/tutorials/python-static-method)"
   ]
  }
 ],
 "metadata": {
  "kernelspec": {
   "display_name": "Python 3 (ipykernel)",
   "language": "python",
   "name": "python3"
  },
  "language_info": {
   "codemirror_mode": {
    "name": "ipython",
    "version": 3
   },
   "file_extension": ".py",
   "mimetype": "text/x-python",
   "name": "python",
   "nbconvert_exporter": "python",
   "pygments_lexer": "ipython3",
   "version": "3.10.13"
  }
 },
 "nbformat": 4,
 "nbformat_minor": 5
}
