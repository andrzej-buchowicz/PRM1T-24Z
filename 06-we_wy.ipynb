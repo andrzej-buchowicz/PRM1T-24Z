{
 "cells": [
  {
   "cell_type": "markdown",
   "id": "11b5187e-348f-42ad-97fb-56e2b9af0fbf",
   "metadata": {},
   "source": [
    "<div style=\"text-align: center; color: #7896cf; font-size: 32px; font-weight: bold; font-family: Arial, Helvetica, sans-serif; padding-bottom: 12px;\">PODSTAWY PROGRAMOWANIA 1</div>\n",
    "<div style=\"text-align: center; color: #3c3c4c; font-size: large; font-family:monospace; padding-bottom:18px;\"> andrzej.buchowicz@pw.edu.pl</div>\n",
    "<div style=\"text-align: center; font-size: 48px; font-family: Arial, Helvetica, sans-serif; padding-bottom: 24px; line-height: 1.25;\">Operacje wejścia-wyjścia, odczyt/zapis danych z/do plików</div>\n"
   ]
  },
  {
   "cell_type": "markdown",
   "id": "e7da6b21",
   "metadata": {},
   "source": [
    "## Strumienie standardowe\n",
    "\n",
    "<div style=\"margin: auto; width: 80%; padding-bottom: 36px; padding-top: 36px;\"><img src=\"img/std_stream.png\"></div>"
   ]
  },
  {
   "cell_type": "code",
   "execution_count": null,
   "id": "1f2b1362",
   "metadata": {},
   "outputs": [],
   "source": [
    "input(\"Wpisz coś:\")"
   ]
  },
  {
   "cell_type": "code",
   "execution_count": null,
   "id": "94c6012c",
   "metadata": {},
   "outputs": [],
   "source": [
    "print(\"stdout\")"
   ]
  },
  {
   "cell_type": "code",
   "execution_count": null,
   "id": "025f3b7d",
   "metadata": {},
   "outputs": [],
   "source": [
    "import sys\n",
    "print(\"stderr\", file=sys.stderr)"
   ]
  },
  {
   "cell_type": "markdown",
   "id": "cb4ee26a",
   "metadata": {},
   "source": [
    "## Parametry przekazywane przez linię poleceń\n",
    "\n",
    "<div style=\"margin: auto; width: 80%; padding-bottom: 36px; padding-top: 36px;\"><img src=\"img/std_stream_argv.png\"></div>\n",
    "\n",
    "* zmienna `sys.argv`\n",
    "* pakiet [argparse](https://docs.python.org/3/library/argparse.html)\n",
    "<br><br>"
   ]
  },
  {
   "cell_type": "markdown",
   "id": "91cffa10",
   "metadata": {},
   "source": [
    "## Parametry przekazywane przez zmienne systemowe\n",
    "\n",
    "* zmienna `os.environ`"
   ]
  },
  {
   "cell_type": "code",
   "execution_count": null,
   "id": "0cc8a418",
   "metadata": {},
   "outputs": [],
   "source": [
    "import os\n",
    "\n",
    "os.environ"
   ]
  },
  {
   "cell_type": "markdown",
   "id": "475aaae0",
   "metadata": {},
   "source": [
    "## Strumienie udostępniane przez system plików\n",
    "\n",
    "<div style=\"margin: auto; width: 80%; padding-bottom: 36px; padding-top: 36px;\"><img src=\"img/std_stream_argv_file.png\"></div>"
   ]
  },
  {
   "cell_type": "markdown",
   "id": "707590f7",
   "metadata": {},
   "source": [
    "### Odczyt danych z plików"
   ]
  },
  {
   "cell_type": "markdown",
   "id": "c88e8940",
   "metadata": {},
   "source": [
    "#### Tryb tekstowy"
   ]
  },
  {
   "cell_type": "code",
   "execution_count": null,
   "id": "a1d21c85",
   "metadata": {},
   "outputs": [],
   "source": [
    "file = open('data/weiti.txt')\n",
    "type(file)"
   ]
  },
  {
   "cell_type": "markdown",
   "id": "ca09b88a",
   "metadata": {},
   "source": [
    "##### Metoda [read()](https://docs.python.org/3/library/io.html#io.TextIOBase.read)"
   ]
  },
  {
   "cell_type": "code",
   "execution_count": null,
   "id": "7cac866a",
   "metadata": {},
   "outputs": [],
   "source": [
    "data = file.read()\n",
    "print(type(data))\n",
    "print(data)"
   ]
  },
  {
   "cell_type": "code",
   "execution_count": null,
   "id": "77af8126",
   "metadata": {},
   "outputs": [],
   "source": [
    "file.close()"
   ]
  },
  {
   "cell_type": "code",
   "execution_count": null,
   "id": "0910c362",
   "metadata": {},
   "outputs": [],
   "source": [
    "with open('data/weiti.txt') as file:\n",
    "    data = file.read()\n",
    "    print(data)"
   ]
  },
  {
   "cell_type": "markdown",
   "id": "7f1b49fc",
   "metadata": {},
   "source": [
    "##### Metoda [readline()](https://docs.python.org/3/library/io.html#io.TextIOBase.readline)"
   ]
  },
  {
   "cell_type": "code",
   "execution_count": null,
   "id": "300efb5e",
   "metadata": {},
   "outputs": [],
   "source": [
    "with open('data/weiti.txt') as file:\n",
    "    while True:\n",
    "        line = file.readline()\n",
    "        if not line:\n",
    "            break\n",
    "        print(line, end='')"
   ]
  },
  {
   "cell_type": "markdown",
   "id": "54a41d41",
   "metadata": {},
   "source": [
    "##### Pętla `for`"
   ]
  },
  {
   "cell_type": "code",
   "execution_count": null,
   "id": "32619d11",
   "metadata": {},
   "outputs": [],
   "source": [
    "with open('data/weiti.txt') as file:\n",
    "    for line in file:\n",
    "        print(line, end='')"
   ]
  },
  {
   "cell_type": "markdown",
   "id": "040a8cad",
   "metadata": {},
   "source": [
    "##### Metoda [readlines()](https://docs.python.org/3/library/io.html#io.IOBase.readlines)"
   ]
  },
  {
   "cell_type": "code",
   "execution_count": null,
   "id": "6c72d0dd",
   "metadata": {},
   "outputs": [],
   "source": [
    "with open('data/weiti.txt') as file:\n",
    "    lines = file.readlines()\n",
    "    for line in lines:\n",
    "        print(line, end='')"
   ]
  },
  {
   "cell_type": "markdown",
   "id": "fd6bffbc",
   "metadata": {},
   "source": [
    "#### Tryb binarny"
   ]
  },
  {
   "cell_type": "code",
   "execution_count": null,
   "id": "5591f87e",
   "metadata": {},
   "outputs": [],
   "source": [
    "with open(\"img/moduly_pakiety.png\", \"rb\") as file:\n",
    "    data = file.read()\n",
    "    print(type(file), type(data), len(data))"
   ]
  },
  {
   "cell_type": "code",
   "execution_count": null,
   "id": "8d52f8cd",
   "metadata": {},
   "outputs": [],
   "source": [
    "data[:100]"
   ]
  },
  {
   "cell_type": "code",
   "execution_count": null,
   "id": "6a6b81fc",
   "metadata": {},
   "outputs": [],
   "source": [
    "data.decode()"
   ]
  },
  {
   "cell_type": "markdown",
   "id": "9114c433",
   "metadata": {},
   "source": [
    "### Zapis danych do pliku"
   ]
  },
  {
   "cell_type": "markdown",
   "id": "d4f2622b",
   "metadata": {},
   "source": [
    "#### Tryb tekstowy"
   ]
  },
  {
   "cell_type": "code",
   "execution_count": null,
   "id": "352a7357",
   "metadata": {},
   "outputs": [],
   "source": [
    "przedmioty = [\"Algebra\", \n",
    "              \"Analiza 1\", \n",
    "              \"Analiza 2\", \n",
    "              \"Probabilistyka\", \n",
    "              \"Elementy elektroniczne\", \n",
    "              \"Podstawy elektroniki pomiarów 1\", \n",
    "              \"Podstawy elektroniki pomiarów 2\", \n",
    "              \"Układy elektroniczne\"]\n",
    "              \n",
    "with open('data/przedmioty.txt', \"w\", encoding='utf-8') as file:\n",
    "    for przedmiot in przedmioty:\n",
    "        file.write(przedmiot + '\\n')"
   ]
  },
  {
   "cell_type": "markdown",
   "id": "25bf5ff3",
   "metadata": {},
   "source": [
    "#### Tryb binarny"
   ]
  },
  {
   "cell_type": "code",
   "execution_count": null,
   "id": "9d0afccd",
   "metadata": {},
   "outputs": [],
   "source": [
    "ascii = bytes(range(32, 128))\n",
    "with open(\"data/ascii.bin\", \"wb\") as file:\n",
    "    file.write(ascii)"
   ]
  },
  {
   "cell_type": "markdown",
   "id": "0865bafa",
   "metadata": {},
   "source": [
    "### Przetwarzanie ścieżek w systemie plików\n",
    "\n",
    "#### Modul [os.path](https://docs.python.org/3/library/os.path.html)"
   ]
  },
  {
   "cell_type": "code",
   "execution_count": null,
   "id": "0a291a1f",
   "metadata": {},
   "outputs": [],
   "source": [
    "import os\n",
    "\n",
    "os.path.abspath('data/przedmioty.txt')"
   ]
  },
  {
   "cell_type": "code",
   "execution_count": null,
   "id": "314f3985",
   "metadata": {},
   "outputs": [],
   "source": [
    "os.path.basename('data/przedmioty.txt')"
   ]
  },
  {
   "cell_type": "code",
   "execution_count": null,
   "id": "83c0b57c",
   "metadata": {},
   "outputs": [],
   "source": [
    "os.path.splitext('przedmioty.txt')"
   ]
  },
  {
   "cell_type": "code",
   "execution_count": null,
   "id": "42fbec3d",
   "metadata": {},
   "outputs": [],
   "source": [
    "os.path.exists('data/przedmioty.txt')"
   ]
  },
  {
   "cell_type": "code",
   "execution_count": null,
   "id": "ce16ab89",
   "metadata": {},
   "outputs": [],
   "source": [
    "os.path.isfile('data/przedmioty.txt')"
   ]
  },
  {
   "cell_type": "code",
   "execution_count": null,
   "id": "3820d4f2",
   "metadata": {},
   "outputs": [],
   "source": [
    "os.path.isdir('data/przedmioty.txt')"
   ]
  },
  {
   "cell_type": "code",
   "execution_count": null,
   "id": "9141184a",
   "metadata": {},
   "outputs": [],
   "source": [
    "os.path.getsize('data/przedmioty.txt')"
   ]
  },
  {
   "cell_type": "markdown",
   "id": "885990bf-b67e-41e0-aa60-04c6ef068e4a",
   "metadata": {},
   "source": [
    "#### Modul [pathlib](https://docs.python.org/3/library/pathlib.html)"
   ]
  },
  {
   "cell_type": "code",
   "execution_count": null,
   "id": "20ee64ef-3207-4f2d-89b3-5753f5477f41",
   "metadata": {},
   "outputs": [],
   "source": [
    "from pathlib import Path\n",
    "\n",
    "p = Path('data/przedmioty.txt')"
   ]
  },
  {
   "cell_type": "code",
   "execution_count": null,
   "id": "163f7ec8-21a4-4e6d-96c3-dc5bb315086b",
   "metadata": {},
   "outputs": [],
   "source": [
    "p.absolute()"
   ]
  },
  {
   "cell_type": "code",
   "execution_count": null,
   "id": "792a92f9-8b9c-4bbc-a1f2-7b726125091b",
   "metadata": {},
   "outputs": [],
   "source": [
    "p.name"
   ]
  },
  {
   "cell_type": "code",
   "execution_count": null,
   "id": "1217d9ef-1eda-4c61-988d-985864c7b735",
   "metadata": {},
   "outputs": [],
   "source": [
    "p.suffix"
   ]
  },
  {
   "cell_type": "code",
   "execution_count": null,
   "id": "2a4cc1b1-80e2-423b-82d4-0282f8897aec",
   "metadata": {},
   "outputs": [],
   "source": [
    "p.exists()"
   ]
  },
  {
   "cell_type": "code",
   "execution_count": null,
   "id": "3c52c5f4-2b35-44df-abb8-5b9c593cece2",
   "metadata": {},
   "outputs": [],
   "source": [
    "p.is_file()"
   ]
  },
  {
   "cell_type": "code",
   "execution_count": null,
   "id": "042f09e5-0c3e-4105-b6b8-2fffd3dff538",
   "metadata": {},
   "outputs": [],
   "source": [
    "p.is_dir()"
   ]
  },
  {
   "cell_type": "code",
   "execution_count": null,
   "id": "730c6322-5986-46f6-a290-6a7619ebfa2a",
   "metadata": {},
   "outputs": [],
   "source": [
    "p.stat()"
   ]
  },
  {
   "cell_type": "markdown",
   "id": "db97a635",
   "metadata": {},
   "source": [
    "#### Lista plików w katalogu"
   ]
  },
  {
   "cell_type": "code",
   "execution_count": null,
   "id": "f8adf380",
   "metadata": {},
   "outputs": [],
   "source": [
    "files = os.listdir('data')\n",
    "for file in files:\n",
    "    print(file)"
   ]
  },
  {
   "cell_type": "markdown",
   "id": "feb3c0da",
   "metadata": {},
   "source": [
    "#### Lista plików w strukturze katalogowej - funkcja [os.walk()](walk)"
   ]
  },
  {
   "cell_type": "markdown",
   "id": "c2165662",
   "metadata": {},
   "source": [
    "#### Utworzenie ścieżki do pliku - metoda [os.path.join()](https://docs.python.org/3/library/os.path.html#os.path.join)"
   ]
  },
  {
   "cell_type": "code",
   "execution_count": null,
   "id": "888b507e",
   "metadata": {},
   "outputs": [],
   "source": [
    "os.path.join(os.getcwd(), 'data', files[1])"
   ]
  },
  {
   "cell_type": "markdown",
   "id": "64c303a6",
   "metadata": {},
   "source": [
    "## Odczyt, zmiana aktualnej pozycji pliku - metody [tell()](https://docs.python.org/3/library/io.html#io.IOBase.tell), [seek()](https://docs.python.org/3/library/io.html#io.IOBase.seek)"
   ]
  },
  {
   "cell_type": "code",
   "execution_count": null,
   "id": "a5dd5e14",
   "metadata": {},
   "outputs": [],
   "source": [
    "data = bytes(range(32))\n",
    "with open(\"data/range.bin\", \"wb\") as file:\n",
    "    file.write(data)"
   ]
  },
  {
   "cell_type": "code",
   "execution_count": null,
   "id": "cb829445",
   "metadata": {},
   "outputs": [],
   "source": [
    "file = open(\"data/range.bin\", \"rb\")\n",
    "file.tell()"
   ]
  },
  {
   "cell_type": "code",
   "execution_count": null,
   "id": "b691042d",
   "metadata": {},
   "outputs": [],
   "source": [
    "data = file.read()\n",
    "data, file.tell()"
   ]
  },
  {
   "cell_type": "code",
   "execution_count": null,
   "id": "bcdef718",
   "metadata": {},
   "outputs": [],
   "source": [
    "file.seek(0)\n",
    "file.tell()"
   ]
  },
  {
   "cell_type": "code",
   "execution_count": null,
   "id": "d0b196ce",
   "metadata": {},
   "outputs": [],
   "source": [
    "data = file.read(10)\n",
    "data, file.tell()"
   ]
  },
  {
   "cell_type": "code",
   "execution_count": null,
   "id": "736d31d2",
   "metadata": {},
   "outputs": [],
   "source": [
    "file.seek(5)\n",
    "data = file.read(10)\n",
    "data, file.tell()"
   ]
  },
  {
   "cell_type": "code",
   "execution_count": null,
   "id": "1ecf42de",
   "metadata": {},
   "outputs": [],
   "source": [
    "file.seek(-5, os.SEEK_CUR)\n",
    "file.tell()"
   ]
  },
  {
   "cell_type": "code",
   "execution_count": null,
   "id": "e12c4385",
   "metadata": {},
   "outputs": [],
   "source": [
    "file.seek(0, os.SEEK_END)\n",
    "file.tell()"
   ]
  },
  {
   "cell_type": "code",
   "execution_count": null,
   "id": "aac644d9",
   "metadata": {},
   "outputs": [],
   "source": [
    "file.close()"
   ]
  },
  {
   "cell_type": "code",
   "execution_count": null,
   "id": "38491b1c-5d43-48cb-8fc0-a2083098208f",
   "metadata": {},
   "outputs": [],
   "source": []
  }
 ],
 "metadata": {
  "kernelspec": {
   "display_name": "Python 3 (ipykernel)",
   "language": "python",
   "name": "python3"
  },
  "language_info": {
   "codemirror_mode": {
    "name": "ipython",
    "version": 3
   },
   "file_extension": ".py",
   "mimetype": "text/x-python",
   "name": "python",
   "nbconvert_exporter": "python",
   "pygments_lexer": "ipython3",
   "version": "3.10.13"
  }
 },
 "nbformat": 4,
 "nbformat_minor": 5
}
