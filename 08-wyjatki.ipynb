{
 "cells": [
  {
   "cell_type": "markdown",
   "id": "11b5187e-348f-42ad-97fb-56e2b9af0fbf",
   "metadata": {},
   "source": [
    "<div style=\"text-align: center; color: #7896cf; font-size: 32px; font-weight: bold; font-family: Arial, Helvetica, sans-serif; padding-bottom: 12px;\">PODSTAWY PROGRAMOWANIA 1</div>\n",
    "<div style=\"text-align: center; color: #3c3c4c; font-size: large; font-family:monospace; padding-bottom:18px;\"> andrzej.buchowicz@pw.edu.pl</div>\n",
    "<div style=\"text-align: center; font-size: 48px; font-family: Arial, Helvetica, sans-serif; padding-bottom: 24px; line-height: 1.25;\">Obsługa błędów - wyjątki</div>"
   ]
  },
  {
   "cell_type": "code",
   "execution_count": null,
   "id": "2dddb6d8",
   "metadata": {},
   "outputs": [],
   "source": [
    "with open('nieistniejacy.plik', 'r') as file:\n",
    "    data = file.read()"
   ]
  },
  {
   "cell_type": "code",
   "execution_count": null,
   "id": "846a8ca9",
   "metadata": {},
   "outputs": [],
   "source": [
    "try:\n",
    "    with open('nieistniejacy.plik', 'r') as file:\n",
    "        data = file.read()\n",
    "except FileNotFoundError as err:\n",
    "    print(err)"
   ]
  },
  {
   "cell_type": "code",
   "execution_count": null,
   "id": "c21bb2fe",
   "metadata": {},
   "outputs": [],
   "source": [
    "kod = {'A': 0, 'B': 1, 'C': 5}\n",
    "print(kod['D'])"
   ]
  },
  {
   "cell_type": "code",
   "execution_count": null,
   "id": "17b5cc48",
   "metadata": {},
   "outputs": [],
   "source": [
    "kod = {'A': 0, 'B': 1, 'C': 5}\n",
    "try:\n",
    "    print(f\"kod['D']={kod['D']}\")\n",
    "except KeyError as err:\n",
    "    print(type(err), err)"
   ]
  },
  {
   "cell_type": "code",
   "execution_count": null,
   "id": "65220194-9fcb-4489-82ff-feba0d952c89",
   "metadata": {},
   "outputs": [],
   "source": [
    "kod = {'A': 0, 'B': 1, 'C': 5}\n",
    "try:\n",
    "    print(f\"kod['D']={kod['D']}\")\n",
    "except KeyError as err:\n",
    "    print(type(err), err)\n",
    "else:\n",
    "    kod['D'] = 77\n",
    "print(kod)"
   ]
  },
  {
   "cell_type": "code",
   "execution_count": null,
   "id": "4a89ce33",
   "metadata": {},
   "outputs": [],
   "source": [
    "kod = {'A': 0, 'B': 1, 'C': 5, 'D': 1}\n",
    "try:\n",
    "    print(f\"kod['D']={kod['D']}\")\n",
    "except KeyError as err:\n",
    "    print(type(err), err)\n",
    "else:\n",
    "    kod['D'] = 77\n",
    "print(kod)"
   ]
  },
  {
   "cell_type": "code",
   "execution_count": null,
   "id": "5f4d4b98-4b06-4fad-8050-b3de616f8039",
   "metadata": {},
   "outputs": [],
   "source": [
    "kod = {'A': 0, 'B': 1, 'C': 5}\n",
    "try:\n",
    "    print(f\"kod['D']={kod['D']}\")\n",
    "except KeyError as err:\n",
    "    print(type(err), err)\n",
    "finally:\n",
    "    kod['D'] = 7777\n",
    "print(kod)"
   ]
  },
  {
   "cell_type": "code",
   "execution_count": null,
   "id": "d6843aa5",
   "metadata": {},
   "outputs": [],
   "source": [
    "kod = {'A': 0, 'B': 1, 'C': 5, 'D': 7}\n",
    "try:\n",
    "    print(f\"kod['D']={kod['D']}\")\n",
    "except KeyError as err:\n",
    "    print(type(err), err)\n",
    "finally:\n",
    "    kod['D'] = 7777\n",
    "print(kod)"
   ]
  },
  {
   "cell_type": "code",
   "execution_count": null,
   "id": "f98958a2",
   "metadata": {},
   "outputs": [],
   "source": [
    "import math\n",
    "\n",
    "kod = {'A': 0, 'B': 1, 'C': 5}\n",
    "try:\n",
    "    print(math.sqrt(kod['D']))\n",
    "except KeyError as err:\n",
    "    print(type(err), err)\n",
    "except ValueError as err:\n",
    "    print(type(err), err)\n",
    "print(kod)"
   ]
  },
  {
   "cell_type": "code",
   "execution_count": null,
   "id": "52d40531",
   "metadata": {},
   "outputs": [],
   "source": [
    "kod = {'A': 0, 'B': 1, 'C': 5, 'D': -1}\n",
    "try:\n",
    "    print(math.sqrt(kod['D']))\n",
    "except (KeyError, ValueError) as err:\n",
    "    print(err)\n",
    "print(kod)"
   ]
  },
  {
   "cell_type": "code",
   "execution_count": null,
   "id": "230554e5",
   "metadata": {},
   "outputs": [],
   "source": [
    "if True:\n",
    "    raise RuntimeError(\"Błąd w programie!\")"
   ]
  },
  {
   "cell_type": "markdown",
   "id": "aaedbacf",
   "metadata": {},
   "source": [
    "### [Standardowe wyjątki](https://docs.python.org/3/library/exceptions.html#exception-hierarchy)"
   ]
  }
 ],
 "metadata": {
  "kernelspec": {
   "display_name": "Python 3 (ipykernel)",
   "language": "python",
   "name": "python3"
  },
  "language_info": {
   "codemirror_mode": {
    "name": "ipython",
    "version": 3
   },
   "file_extension": ".py",
   "mimetype": "text/x-python",
   "name": "python",
   "nbconvert_exporter": "python",
   "pygments_lexer": "ipython3",
   "version": "3.10.12"
  }
 },
 "nbformat": 4,
 "nbformat_minor": 5
}
