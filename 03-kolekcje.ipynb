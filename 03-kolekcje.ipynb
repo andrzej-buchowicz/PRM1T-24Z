{
 "cells": [
  {
   "cell_type": "markdown",
   "id": "11b5187e-348f-42ad-97fb-56e2b9af0fbf",
   "metadata": {},
   "source": [
    "<div style=\"text-align: center; color: #7896cf; font-size: 32px; font-weight: bold; font-family: Arial, Helvetica, sans-serif; padding-bottom: 12px;\">PODSTAWY PROGRAMOWANIA 1</div>\n",
    "<div style=\"text-align: center; color: #3c3c4c; font-size: large; font-family:monospace; padding-bottom:18px;\"> andrzej.buchowicz@pw.edu.pl</div>\n",
    "<div style=\"text-align: center; font-size: 48px; font-family: Arial, Helvetica, sans-serif; padding-bottom: 24px; line-height: 1.25;\">Kolekcje: listy, krotki, słowniki, zbiory</div>\n",
    "\n",
    "* struktury danych składające się z elementów - innych struktur danych.\n",
    "* umożliwiają wykonywanie operacji na całej kolekcji i jej poszczególnych elementach."
   ]
  },
  {
   "cell_type": "markdown",
   "id": "9515693e",
   "metadata": {},
   "source": [
    "W Python'ie dostępne są dwa rodzaje kolekcji:\n",
    "* modyfikowalne ([mutables](https://docs.python.org/3/library/stdtypes.html#immutable-sequence-types)): umożliwiają m.in. dodawanie lub usuwanie elementów z kolekcji, np. listy, słowniki, zbiory\n",
    "* niemodyfikowalne ([immutables](https://docs.python.org/3/library/stdtypes.html#mutable-sequence-types) [docs.python]): po utworzeniu nie mogą być modyfikowane, np. krotki"
   ]
  },
  {
   "cell_type": "markdown",
   "id": "e57f4627",
   "metadata": {},
   "source": [
    "## Lista\n",
    "\n",
    "* przechowuje elementy w określonej kolejności\n",
    "* dostęp do elementów listy zapewniają ich indeksy\n",
    "* może być modyfikowana po utworzeniu\n",
    "* moze zawierać elementy dowolnego typu, w szczególności elementem listy może być lista\n",
    "* najczęściej używa się list z elementami tego samego typu np. `int`\n",
    "\n",
    "[docs.python](https://docs.python.org/3/tutorial/introduction.html#lists)"
   ]
  },
  {
   "cell_type": "code",
   "execution_count": null,
   "id": "92e8648c",
   "metadata": {},
   "outputs": [],
   "source": [
    "liczby = [1, 2, 3, 4, 5]\n",
    "liczby"
   ]
  },
  {
   "cell_type": "code",
   "execution_count": null,
   "id": "8de82c9d",
   "metadata": {},
   "outputs": [],
   "source": [
    "type(liczby)"
   ]
  },
  {
   "cell_type": "code",
   "execution_count": null,
   "id": "60178221",
   "metadata": {},
   "outputs": [],
   "source": [
    "len(liczby)"
   ]
  },
  {
   "cell_type": "code",
   "execution_count": null,
   "id": "8224a88d",
   "metadata": {},
   "outputs": [],
   "source": [
    "liczby[0]"
   ]
  },
  {
   "cell_type": "code",
   "execution_count": null,
   "id": "1c69fe16",
   "metadata": {},
   "outputs": [],
   "source": [
    "liczby[:]"
   ]
  },
  {
   "cell_type": "code",
   "execution_count": null,
   "id": "5e2fba3b",
   "metadata": {},
   "outputs": [],
   "source": [
    "liczby[0:2]"
   ]
  },
  {
   "cell_type": "code",
   "execution_count": null,
   "id": "9e1368c3",
   "metadata": {},
   "outputs": [],
   "source": [
    "liczby[0:5:2]"
   ]
  },
  {
   "cell_type": "code",
   "execution_count": null,
   "id": "52794a42",
   "metadata": {},
   "outputs": [],
   "source": [
    "liczby[5]"
   ]
  },
  {
   "cell_type": "code",
   "execution_count": null,
   "id": "d77c54bd",
   "metadata": {},
   "outputs": [],
   "source": [
    "liczby[-1]"
   ]
  },
  {
   "cell_type": "code",
   "execution_count": null,
   "id": "a5d172f8",
   "metadata": {},
   "outputs": [],
   "source": [
    "liczby[-1::-1]"
   ]
  },
  {
   "cell_type": "code",
   "execution_count": null,
   "id": "def014d2",
   "metadata": {},
   "outputs": [],
   "source": [
    "liczby[2] = 123\n",
    "liczby"
   ]
  },
  {
   "cell_type": "code",
   "execution_count": null,
   "id": "9d06fa49",
   "metadata": {},
   "outputs": [],
   "source": [
    "liczby[1] = 'abc'\n",
    "liczby"
   ]
  },
  {
   "cell_type": "code",
   "execution_count": null,
   "id": "79e68a13",
   "metadata": {},
   "outputs": [],
   "source": [
    "liczby[0] = [0.0, 0.1, 0.2]\n",
    "liczby"
   ]
  },
  {
   "cell_type": "code",
   "execution_count": null,
   "id": "eb7bd18c",
   "metadata": {},
   "outputs": [],
   "source": [
    "liczby[0][1]"
   ]
  },
  {
   "cell_type": "markdown",
   "id": "7c5382f9",
   "metadata": {},
   "source": [
    "#### Pusta lista"
   ]
  },
  {
   "cell_type": "code",
   "execution_count": null,
   "id": "e34d0108",
   "metadata": {},
   "outputs": [],
   "source": [
    "pusta_lista = []\n",
    "len(pusta_lista)"
   ]
  },
  {
   "cell_type": "code",
   "execution_count": null,
   "id": "4264181c",
   "metadata": {},
   "outputs": [],
   "source": [
    "liczby.clear()\n",
    "liczby"
   ]
  },
  {
   "cell_type": "markdown",
   "id": "9e1ae659",
   "metadata": {},
   "source": [
    "#### Dodawanie/usuwanie elementów do/z listy"
   ]
  },
  {
   "cell_type": "code",
   "execution_count": null,
   "id": "e0062c1e",
   "metadata": {},
   "outputs": [],
   "source": [
    "liczby.append(1)\n",
    "liczby"
   ]
  },
  {
   "cell_type": "code",
   "execution_count": null,
   "id": "b2b8137e",
   "metadata": {},
   "outputs": [],
   "source": [
    "liczby.append(\"abc\")\n",
    "liczby"
   ]
  },
  {
   "cell_type": "code",
   "execution_count": null,
   "id": "88ac3ca5",
   "metadata": {},
   "outputs": [],
   "source": [
    "liczby.append([1, 2, 3])\n",
    "liczby"
   ]
  },
  {
   "cell_type": "code",
   "execution_count": null,
   "id": "207e013b",
   "metadata": {},
   "outputs": [],
   "source": [
    "liczby.extend(['x', 'y', 'z'])\n",
    "liczby"
   ]
  },
  {
   "cell_type": "code",
   "execution_count": null,
   "id": "2653738f",
   "metadata": {},
   "outputs": [],
   "source": [
    "['a', 'b', 'c'] + ['d', 'e', 'f']"
   ]
  },
  {
   "cell_type": "code",
   "execution_count": null,
   "id": "0bed6eb5",
   "metadata": {},
   "outputs": [],
   "source": [
    "liczby.insert(0, 0)\n",
    "liczby"
   ]
  },
  {
   "cell_type": "code",
   "execution_count": null,
   "id": "cde6731d",
   "metadata": {},
   "outputs": [],
   "source": [
    "element = liczby.pop()\n",
    "element, liczby "
   ]
  },
  {
   "cell_type": "code",
   "execution_count": null,
   "id": "a7780ef6",
   "metadata": {},
   "outputs": [],
   "source": [
    "liczby = [1, 1, 1, 1, 1]\n",
    "liczby"
   ]
  },
  {
   "cell_type": "code",
   "execution_count": null,
   "id": "b4609f37",
   "metadata": {},
   "outputs": [],
   "source": [
    "liczby.remove(1)\n",
    "liczby"
   ]
  },
  {
   "cell_type": "markdown",
   "id": "5531e675",
   "metadata": {},
   "source": [
    "#### Testowanie zawartości listy"
   ]
  },
  {
   "cell_type": "code",
   "execution_count": null,
   "id": "3dcbba0c",
   "metadata": {},
   "outputs": [],
   "source": [
    "liczby = [1, 1, 1, 2, 3]"
   ]
  },
  {
   "cell_type": "code",
   "execution_count": null,
   "id": "856b9e3e",
   "metadata": {},
   "outputs": [],
   "source": [
    "1 in liczby"
   ]
  },
  {
   "cell_type": "code",
   "execution_count": null,
   "id": "4ed317f3",
   "metadata": {},
   "outputs": [],
   "source": [
    "liczby.count(1)"
   ]
  },
  {
   "cell_type": "markdown",
   "id": "d4f77e64",
   "metadata": {},
   "source": [
    "### Pętla `for`"
   ]
  },
  {
   "cell_type": "code",
   "execution_count": null,
   "id": "048213c1",
   "metadata": {},
   "outputs": [],
   "source": [
    "for i in [1, 2, 3]:\n",
    "    print(i)"
   ]
  },
  {
   "cell_type": "code",
   "execution_count": null,
   "id": "286fe2c2",
   "metadata": {},
   "outputs": [],
   "source": [
    "for i in [1, 2, 3]:\n",
    "    if i == 1:\n",
    "        continue\n",
    "    print(i)"
   ]
  },
  {
   "cell_type": "code",
   "execution_count": null,
   "id": "c76e03e6",
   "metadata": {},
   "outputs": [],
   "source": [
    "for i in [1, 2, 3]:\n",
    "    if i > 10:\n",
    "        break\n",
    "    print(i)"
   ]
  },
  {
   "cell_type": "code",
   "execution_count": null,
   "id": "710698cb",
   "metadata": {},
   "outputs": [],
   "source": [
    "for i in [1, 2, 3]:\n",
    "    if i > 12:\n",
    "        break\n",
    "    print(i)\n",
    "else:\n",
    "    print(\"petla zakonczona normalnie\")"
   ]
  },
  {
   "cell_type": "markdown",
   "id": "12d5a611",
   "metadata": {},
   "source": [
    "#### Funkcja [range()](https://docs.python.org/3/library/functions.html#func-range)"
   ]
  },
  {
   "cell_type": "code",
   "execution_count": null,
   "id": "92fd8aa3",
   "metadata": {},
   "outputs": [],
   "source": [
    "for i in range(1, 10, 2):\n",
    "    print(i)"
   ]
  },
  {
   "cell_type": "code",
   "execution_count": null,
   "id": "6f0750a4",
   "metadata": {},
   "outputs": [],
   "source": [
    "type(range(3))"
   ]
  },
  {
   "cell_type": "code",
   "execution_count": null,
   "id": "825425a3",
   "metadata": {},
   "outputs": [],
   "source": [
    "list(range(3))"
   ]
  },
  {
   "cell_type": "markdown",
   "id": "998f6802",
   "metadata": {},
   "source": [
    "#### Funkcja [sorted()](https://docs.python.org/3/library/functions.html#sorted)"
   ]
  },
  {
   "cell_type": "code",
   "execution_count": null,
   "id": "d9fe8921",
   "metadata": {},
   "outputs": [],
   "source": [
    "import random\n",
    "\n",
    "liczby_losowe = []\n",
    "for i in range(10):\n",
    "    liczby_losowe.append(random.randint(0, 100))\n",
    "liczby_losowe"
   ]
  },
  {
   "cell_type": "code",
   "execution_count": null,
   "id": "23e02366",
   "metadata": {},
   "outputs": [],
   "source": [
    "sorted(liczby_losowe)"
   ]
  },
  {
   "cell_type": "code",
   "execution_count": null,
   "id": "92d72771",
   "metadata": {},
   "outputs": [],
   "source": [
    "liczby_losowe"
   ]
  },
  {
   "cell_type": "markdown",
   "id": "f336bfd1",
   "metadata": {},
   "source": [
    "#### Funkcja [reversed()](https://docs.python.org/3/library/functions.html#reversed)"
   ]
  },
  {
   "cell_type": "code",
   "execution_count": null,
   "id": "9616b52e",
   "metadata": {},
   "outputs": [],
   "source": [
    "reversed(sorted(liczby_losowe))"
   ]
  },
  {
   "cell_type": "code",
   "execution_count": null,
   "id": "e005c423",
   "metadata": {},
   "outputs": [],
   "source": [
    "list(reversed(sorted(liczby_losowe)))"
   ]
  },
  {
   "cell_type": "code",
   "execution_count": null,
   "id": "cac63939",
   "metadata": {},
   "outputs": [],
   "source": [
    "liczby_losowe"
   ]
  },
  {
   "cell_type": "markdown",
   "id": "e84acb9d",
   "metadata": {},
   "source": [
    "#### Metody klasy `list`: [sort()](https://docs.python.org/3/library/functions.html#reversed), [reverse()](https://docs.python.org/3/tutorial/datastructures.html#more-on-lists)"
   ]
  },
  {
   "cell_type": "code",
   "execution_count": null,
   "id": "2f3b1771",
   "metadata": {},
   "outputs": [],
   "source": [
    "liczby_losowe.sort()\n",
    "liczby_losowe"
   ]
  },
  {
   "cell_type": "code",
   "execution_count": null,
   "id": "a4c48f41",
   "metadata": {},
   "outputs": [],
   "source": [
    "liczby_losowe.reverse()\n",
    "liczby_losowe"
   ]
  },
  {
   "cell_type": "markdown",
   "id": "db390d44",
   "metadata": {},
   "source": [
    "### Wyrażenia listowe (*list comprehension*)"
   ]
  },
  {
   "cell_type": "code",
   "execution_count": null,
   "id": "7c4867a4",
   "metadata": {},
   "outputs": [],
   "source": [
    "import random\n",
    "\n",
    "liczby_losowe = []\n",
    "for i in range(10):\n",
    "    liczby_losowe.append(random.randint(0, 100))\n",
    "liczby_losowe"
   ]
  },
  {
   "cell_type": "code",
   "execution_count": null,
   "id": "d6862852",
   "metadata": {},
   "outputs": [],
   "source": [
    "liczby_losowe = [random.randint(0, 100) for i in range(10)]\n",
    "liczby_losowe"
   ]
  },
  {
   "cell_type": "code",
   "execution_count": null,
   "id": "6063d9de",
   "metadata": {},
   "outputs": [],
   "source": [
    "kwadraty_liczb = [i**2 for i in range(10)]\n",
    "kwadraty_liczb"
   ]
  },
  {
   "cell_type": "markdown",
   "id": "abfa6ed9",
   "metadata": {},
   "source": [
    "## Krotka (*tuple*)\n",
    "\n",
    "* przechowuje elementy w określonej kolejności\n",
    "* dostęp do elementów krotki zapewniają ich indeksy\n",
    "* **nie może być modyfikowana po utworzeniu**\n",
    "\n",
    "[docs.python](https://docs.python.org/3/tutorial/datastructures.html#tuples-and-sequences)"
   ]
  },
  {
   "cell_type": "code",
   "execution_count": null,
   "id": "216668fd",
   "metadata": {},
   "outputs": [],
   "source": [
    "litery = ('a', 'b', 'c')\n",
    "print(type(litery))"
   ]
  },
  {
   "cell_type": "code",
   "execution_count": null,
   "id": "8ea40480",
   "metadata": {},
   "outputs": [],
   "source": [
    "len(litery)"
   ]
  },
  {
   "cell_type": "code",
   "execution_count": null,
   "id": "bf6c0d9c",
   "metadata": {},
   "outputs": [],
   "source": [
    "litery[:]"
   ]
  },
  {
   "cell_type": "code",
   "execution_count": null,
   "id": "0d412559",
   "metadata": {},
   "outputs": [],
   "source": [
    "litery[0] = 'x'"
   ]
  },
  {
   "cell_type": "code",
   "execution_count": null,
   "id": "234863c9",
   "metadata": {},
   "outputs": [],
   "source": [
    "litery.append('d')"
   ]
  },
  {
   "cell_type": "code",
   "execution_count": null,
   "id": "9fc74c05",
   "metadata": {},
   "outputs": [],
   "source": [
    "('a', 'b', 'c') + ('d', 'e', 'f')"
   ]
  },
  {
   "cell_type": "code",
   "execution_count": null,
   "id": "e8f766ed",
   "metadata": {},
   "outputs": [],
   "source": [
    "krotka_jednoelementowa = ('xyz', ) \n",
    "type(krotka_jednoelementowa), len(krotka_jednoelementowa)"
   ]
  },
  {
   "cell_type": "code",
   "execution_count": null,
   "id": "18922f83",
   "metadata": {},
   "outputs": [],
   "source": [
    "pusta_krotka = ()\n",
    "type(pusta_krotka), len(pusta_krotka)"
   ]
  },
  {
   "cell_type": "markdown",
   "id": "5a438ce2",
   "metadata": {},
   "source": [
    "### Zamiana zmiennych"
   ]
  },
  {
   "cell_type": "code",
   "execution_count": null,
   "id": "f5527d56",
   "metadata": {},
   "outputs": [],
   "source": [
    "a = 1\n",
    "b = 2\n",
    "print(\"a:\", a, \"  b:\", b)"
   ]
  },
  {
   "cell_type": "code",
   "execution_count": null,
   "id": "65a26431",
   "metadata": {},
   "outputs": [],
   "source": [
    "(a, b) = (b, a)\n",
    "print(\"a:\", a, \"  b:\", b)"
   ]
  },
  {
   "cell_type": "markdown",
   "id": "fbf2cc0b",
   "metadata": {},
   "source": [
    "### Funkcja [enumerate()](https://docs.python.org/3/library/functions.html#enumerate)"
   ]
  },
  {
   "cell_type": "code",
   "execution_count": null,
   "id": "53d4bc3e",
   "metadata": {},
   "outputs": [],
   "source": [
    "litery = [chr(i) for i in range(65, 70)]\n",
    "litery"
   ]
  },
  {
   "cell_type": "code",
   "execution_count": null,
   "id": "5c8e7141",
   "metadata": {},
   "outputs": [],
   "source": [
    "for index in range(len(litery)):\n",
    "    print(index, litery[index])"
   ]
  },
  {
   "cell_type": "code",
   "execution_count": null,
   "id": "0a936b42",
   "metadata": {},
   "outputs": [],
   "source": [
    "for (index, litera) in enumerate(litery):\n",
    "    print(index, litera)"
   ]
  },
  {
   "cell_type": "markdown",
   "id": "5627ed1e",
   "metadata": {},
   "source": [
    "### Funkcja [zip()](https://docs.python.org/3/library/functions.html#zip)"
   ]
  },
  {
   "cell_type": "code",
   "execution_count": null,
   "id": "a11f0998",
   "metadata": {},
   "outputs": [],
   "source": [
    "liczby = [10 * i + 1 for i in range(10)]\n",
    "liczby"
   ]
  },
  {
   "cell_type": "code",
   "execution_count": null,
   "id": "e9a590d8",
   "metadata": {},
   "outputs": [],
   "source": [
    "male_litery = [chr(i) for i in range(97, 102)]\n",
    "print(male_litery)"
   ]
  },
  {
   "cell_type": "code",
   "execution_count": null,
   "id": "b0a44f87",
   "metadata": {},
   "outputs": [],
   "source": [
    "list(zip(liczby, litery))"
   ]
  },
  {
   "cell_type": "markdown",
   "id": "1fc2c8e5",
   "metadata": {},
   "source": [
    "### Wyrażenia krotkowe (*tuple comprehension*)"
   ]
  },
  {
   "cell_type": "code",
   "execution_count": null,
   "id": "f4392023",
   "metadata": {},
   "outputs": [],
   "source": [
    "kwadraty_liczb = (i**2 for i in range(10))\n",
    "kwadraty_liczb"
   ]
  },
  {
   "cell_type": "code",
   "execution_count": null,
   "id": "9c944656",
   "metadata": {},
   "outputs": [],
   "source": [
    "list(kwadraty_liczb)"
   ]
  },
  {
   "cell_type": "markdown",
   "id": "b8830885",
   "metadata": {},
   "source": [
    "## Słownik\n",
    "\n",
    "* elementami słownika są pary: klucz - wartość\n",
    "* klucz może byc liczbą, napisem lub obiektem dowolnego typu o ustalonej wartości (hashable)\n",
    "* klucze są unikalne\n",
    "* wartość powiązana z kluczem może być dowolnego typu, np. listą, słownikiem\n",
    "* dostęp do elementów słownika zapewniaja ich klucze\n",
    "* Począwszy od wersji 3.7 języka Python słownik **gwarantuje przechowywanie elementów w ustalonej kolejności**. We wcześniejszych wersjach języka Python (3.6 i niższych) słownik nie gwarantował przechwywania elementów w ustalonej kolejności\n",
    "\n",
    "[docs.python](https://docs.python.org/3/tutorial/datastructures.html#dictionaries)"
   ]
  },
  {
   "cell_type": "code",
   "execution_count": null,
   "id": "39e19f43",
   "metadata": {},
   "outputs": [],
   "source": [
    "db_cfg = {\n",
    "    \"host\": \"127.0.0.1\",\n",
    "    \"port\": [3306, 3307, 3308],\n",
    "    \"dbname\": {\"db1\": \"test_db\", \"db2\": \"test_db2\"},\n",
    "    \"user\": \"test_user\",\n",
    "    \"passwd\": \"test_passwd\",\n",
    "}\n",
    "print(type(db_cfg))"
   ]
  },
  {
   "cell_type": "code",
   "execution_count": null,
   "id": "44d89543",
   "metadata": {},
   "outputs": [],
   "source": [
    "len(db_cfg)"
   ]
  },
  {
   "cell_type": "code",
   "execution_count": null,
   "id": "14b0a023",
   "metadata": {},
   "outputs": [],
   "source": [
    "db_cfg['host']"
   ]
  },
  {
   "cell_type": "code",
   "execution_count": null,
   "id": "854f407d",
   "metadata": {},
   "outputs": [],
   "source": [
    "db_cfg['host'] = 'localhost'\n",
    "db_cfg"
   ]
  },
  {
   "cell_type": "code",
   "execution_count": null,
   "id": "b8d75ba0",
   "metadata": {},
   "outputs": [],
   "source": [
    "db_cfg['abc']"
   ]
  },
  {
   "cell_type": "code",
   "execution_count": null,
   "id": "13b37ded",
   "metadata": {},
   "outputs": [],
   "source": [
    "'abc' in db_cfg"
   ]
  },
  {
   "cell_type": "code",
   "execution_count": null,
   "id": "f80d6e5a",
   "metadata": {},
   "outputs": [],
   "source": [
    "db_cfg.get('abc', 'default')"
   ]
  },
  {
   "cell_type": "code",
   "execution_count": null,
   "id": "adc83be1",
   "metadata": {},
   "outputs": [],
   "source": [
    "db_cfg"
   ]
  },
  {
   "cell_type": "code",
   "execution_count": null,
   "id": "29bcd454",
   "metadata": {},
   "outputs": [],
   "source": [
    "db_cfg['abc'] = 'default'\n",
    "db_cfg"
   ]
  },
  {
   "cell_type": "code",
   "execution_count": null,
   "id": "ba8782cf",
   "metadata": {},
   "outputs": [],
   "source": [
    "db_cfg.pop('abc')\n",
    "db_cfg"
   ]
  },
  {
   "cell_type": "code",
   "execution_count": null,
   "id": "9cb4a0c1",
   "metadata": {},
   "outputs": [],
   "source": [
    "pusty_slownik = {}\n",
    "pusty_slownik"
   ]
  },
  {
   "cell_type": "markdown",
   "id": "4228f378",
   "metadata": {},
   "source": [
    "#### Metody [keys()](https://docs.python.org/3/library/stdtypes.html#dict.keys), [values()](https://docs.python.org/3/library/stdtypes.html#dict.values), [items()](https://docs.python.org/3/library/stdtypes.html#dict.items)"
   ]
  },
  {
   "cell_type": "code",
   "execution_count": null,
   "id": "9d9fb3f9",
   "metadata": {},
   "outputs": [],
   "source": [
    "for key in sorted(db_cfg.keys()):\n",
    "    print(key)"
   ]
  },
  {
   "cell_type": "code",
   "execution_count": null,
   "id": "76c13167",
   "metadata": {},
   "outputs": [],
   "source": [
    "for value in db_cfg.values():\n",
    "    print(value)"
   ]
  },
  {
   "cell_type": "code",
   "execution_count": null,
   "id": "0d116a2b",
   "metadata": {},
   "outputs": [],
   "source": [
    "for key, value in db_cfg.items():\n",
    "    print(key, value)"
   ]
  },
  {
   "cell_type": "markdown",
   "id": "1dc346dc",
   "metadata": {},
   "source": [
    "### Wyrażenia słownikowe (*dictionary comprehension*)"
   ]
  },
  {
   "cell_type": "code",
   "execution_count": null,
   "id": "ae7b8f9e",
   "metadata": {},
   "outputs": [],
   "source": [
    "kody_ascii = {}\n",
    "for i in range(64, 76):\n",
    "    kody_ascii[chr(i)] = i\n",
    "print(kody_ascii)"
   ]
  },
  {
   "cell_type": "code",
   "execution_count": null,
   "id": "4c0f8e5d",
   "metadata": {},
   "outputs": [],
   "source": [
    "kody_ascii = {chr(i): i for i in range(64, 76)}\n",
    "print(kody_ascii)"
   ]
  },
  {
   "cell_type": "markdown",
   "id": "d2e08540",
   "metadata": {},
   "source": [
    "## Zbiór\n",
    "\n",
    "* przechowuje elementy dowolnego typu o ustalonej wartości (*hashable*)\n",
    "* zapewnia unikalność elementów\n",
    "* **nie gwarantuje przechowywania elementów w ustalonej kolejności**"
   ]
  },
  {
   "cell_type": "code",
   "execution_count": null,
   "id": "8aa2d58c",
   "metadata": {},
   "outputs": [],
   "source": [
    "kierunki_weiti = {\"AIR\", \"CS (EN)\", \"CYBER\", \"ELKA\", \"IBM\", \"INF\", \"IR\", \"TELE (EN)\", \"TELE\"}\n",
    "kierunki_weiti"
   ]
  },
  {
   "cell_type": "code",
   "execution_count": null,
   "id": "a5aa099c",
   "metadata": {},
   "outputs": [],
   "source": [
    " print(type(kierunki_weiti))"
   ]
  },
  {
   "cell_type": "code",
   "execution_count": null,
   "id": "6acfafdc",
   "metadata": {},
   "outputs": [],
   "source": [
    "len(kierunki_weiti)"
   ]
  },
  {
   "cell_type": "code",
   "execution_count": null,
   "id": "9935ab7b",
   "metadata": {},
   "outputs": [],
   "source": [
    "\"TELE\" in kierunki_weiti"
   ]
  },
  {
   "cell_type": "code",
   "execution_count": null,
   "id": "d052731f",
   "metadata": {},
   "outputs": [],
   "source": [
    "\"Telekomunikacja\" in kierunki_weiti"
   ]
  },
  {
   "cell_type": "code",
   "execution_count": null,
   "id": "7df24b36",
   "metadata": {},
   "outputs": [],
   "source": [
    "{\"TELE (EN)\", \"TELE\"}.issubset(kierunki_weiti)"
   ]
  },
  {
   "cell_type": "code",
   "execution_count": null,
   "id": "ec6ace26",
   "metadata": {},
   "outputs": [],
   "source": [
    "kierunki_weiti.issuperset({\"TELE (EN)\", \"TELE\"})"
   ]
  },
  {
   "cell_type": "code",
   "execution_count": null,
   "id": "c0170615",
   "metadata": {},
   "outputs": [],
   "source": [
    "kierunki_weiti.add(\"Matematyka\")\n",
    "kierunki_weiti"
   ]
  },
  {
   "cell_type": "code",
   "execution_count": null,
   "id": "abd3ed55",
   "metadata": {},
   "outputs": [],
   "source": [
    "kierunki_weiti.add(\"ELKA\")\n",
    "kierunki_weiti"
   ]
  },
  {
   "cell_type": "code",
   "execution_count": null,
   "id": "0669d637",
   "metadata": {},
   "outputs": [],
   "source": [
    "kierunki_weiti.remove(\"Matematyka\")\n",
    "kierunki_weiti"
   ]
  },
  {
   "cell_type": "code",
   "execution_count": null,
   "id": "06303ca1",
   "metadata": {},
   "outputs": [],
   "source": [
    "kierunki_mini = {\"Matematyka\", \n",
    "                 \"Matematyka i Analiza Danych\", \n",
    "                 \"Informatyka i Systemy Informacyjne\", \n",
    "                 \"Computer Science and Information Systems\", \n",
    "                 \"Inżynieria i Analiza Danych\"\n",
    "                }\n",
    "kierunki_mini"
   ]
  },
  {
   "cell_type": "code",
   "execution_count": null,
   "id": "2caf6dd6",
   "metadata": {},
   "outputs": [],
   "source": [
    "kierunki_mini.union(kierunki_weiti)"
   ]
  },
  {
   "cell_type": "code",
   "execution_count": null,
   "id": "87824276",
   "metadata": {},
   "outputs": [],
   "source": [
    "kierunki_mini.intersection(kierunki_weiti)"
   ]
  },
  {
   "cell_type": "code",
   "execution_count": null,
   "id": "6158bf21",
   "metadata": {},
   "outputs": [],
   "source": [
    "pusty_zbior = set()\n",
    "print(type(pusty_zbior))"
   ]
  },
  {
   "cell_type": "code",
   "execution_count": null,
   "id": "b5665e7e",
   "metadata": {},
   "outputs": [],
   "source": [
    "for kierunek in kierunki_weiti:\n",
    "    print(kierunek, type(kierunek))"
   ]
  },
  {
   "cell_type": "markdown",
   "id": "912db267",
   "metadata": {},
   "source": [
    "## Kolekcje - rozszerzenia: pakiet [collections](https://docs.python.org/3/library/collections.html)"
   ]
  }
 ],
 "metadata": {
  "kernelspec": {
   "display_name": "Python 3 (ipykernel)",
   "language": "python",
   "name": "python3"
  },
  "language_info": {
   "codemirror_mode": {
    "name": "ipython",
    "version": 3
   },
   "file_extension": ".py",
   "mimetype": "text/x-python",
   "name": "python",
   "nbconvert_exporter": "python",
   "pygments_lexer": "ipython3",
   "version": "3.10.13"
  }
 },
 "nbformat": 4,
 "nbformat_minor": 5
}
