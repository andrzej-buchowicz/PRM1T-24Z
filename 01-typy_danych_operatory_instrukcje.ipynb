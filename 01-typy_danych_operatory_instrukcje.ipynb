{
 "cells": [
  {
   "cell_type": "markdown",
   "id": "11b5187e-348f-42ad-97fb-56e2b9af0fbf",
   "metadata": {},
   "source": [
    "<div style=\"text-align: center; color: #7896cf; font-size: 32px; font-weight: bold; font-family: Arial, Helvetica, sans-serif; padding-bottom: 12px;\">PODSTAWY PROGRAMOWANIA 1</div>\n",
    "<div style=\"text-align: center; color: #3c3c4c; font-size: large; font-family:monospace; padding-bottom:18px;\"> andrzej.buchowicz@pw.edu.pl</div>\n",
    "<div style=\"text-align: center; font-size: 48px; font-family: Arial, Helvetica, sans-serif; padding-bottom: 24px; line-height: 1.25;\">Podstawowe typy danych, operatory, instrukcje</div>"
   ]
  },
  {
   "cell_type": "markdown",
   "id": "7591a75f-5949-4333-9df7-6fbd5b375a49",
   "metadata": {},
   "source": [
    "## Podstawowe typy danych"
   ]
  },
  {
   "cell_type": "markdown",
   "id": "afebb548-85bf-44ff-89e7-cc864d1eb86c",
   "metadata": {},
   "source": [
    "### Dane tekstowe"
   ]
  },
  {
   "cell_type": "code",
   "execution_count": 1,
   "id": "63d89f2b-a03c-4620-bb23-a61df3f5c9e9",
   "metadata": {},
   "outputs": [
    {
     "data": {
      "text/plain": [
       "str"
      ]
     },
     "execution_count": 1,
     "metadata": {},
     "output_type": "execute_result"
    }
   ],
   "source": [
    "type('ABC')"
   ]
  },
  {
   "cell_type": "code",
   "execution_count": 2,
   "id": "de164c6e",
   "metadata": {},
   "outputs": [
    {
     "data": {
      "text/plain": [
       "str"
      ]
     },
     "execution_count": 2,
     "metadata": {},
     "output_type": "execute_result"
    }
   ],
   "source": [
    "type(\"ABC\")"
   ]
  },
  {
   "cell_type": "code",
   "execution_count": 4,
   "id": "f2804db7",
   "metadata": {},
   "outputs": [
    {
     "data": {
      "text/plain": [
       "\"AB'C\""
      ]
     },
     "execution_count": 4,
     "metadata": {},
     "output_type": "execute_result"
    }
   ],
   "source": [
    "'AB\\'C'"
   ]
  },
  {
   "cell_type": "markdown",
   "id": "70fbd63f-7ffb-4d9b-af3b-89d2f57c76cc",
   "metadata": {},
   "source": [
    "### Liczby całkowite"
   ]
  },
  {
   "cell_type": "code",
   "execution_count": 9,
   "id": "43e570e4-3e1f-4591-a564-64f9dd06af5b",
   "metadata": {},
   "outputs": [
    {
     "data": {
      "text/plain": [
       "int"
      ]
     },
     "execution_count": 9,
     "metadata": {},
     "output_type": "execute_result"
    }
   ],
   "source": [
    "type(123)"
   ]
  },
  {
   "cell_type": "code",
   "execution_count": 1,
   "id": "880c6894-bc94-41cb-94b9-9adb7cccda49",
   "metadata": {},
   "outputs": [
    {
     "data": {
      "text/plain": [
       "255"
      ]
     },
     "execution_count": 1,
     "metadata": {},
     "output_type": "execute_result"
    }
   ],
   "source": [
    "0xff"
   ]
  },
  {
   "cell_type": "code",
   "execution_count": 2,
   "id": "b99cc867-961d-496b-9325-09129f45abd7",
   "metadata": {},
   "outputs": [
    {
     "data": {
      "text/plain": [
       "15"
      ]
     },
     "execution_count": 2,
     "metadata": {},
     "output_type": "execute_result"
    }
   ],
   "source": [
    "0b1111"
   ]
  },
  {
   "cell_type": "markdown",
   "id": "260e7f46-d7e2-4cb7-a4f0-436a4b6a7e47",
   "metadata": {},
   "source": [
    "### Liczby rzeczywiste"
   ]
  },
  {
   "cell_type": "code",
   "execution_count": 10,
   "id": "106be38d-d911-455b-915d-896f640f9c53",
   "metadata": {},
   "outputs": [
    {
     "data": {
      "text/plain": [
       "float"
      ]
     },
     "execution_count": 10,
     "metadata": {},
     "output_type": "execute_result"
    }
   ],
   "source": [
    "type(123.)"
   ]
  },
  {
   "cell_type": "code",
   "execution_count": 3,
   "id": "f765fec3-4fcb-41fd-8400-a73f013fdd68",
   "metadata": {},
   "outputs": [
    {
     "data": {
      "text/plain": [
       "123.0"
      ]
     },
     "execution_count": 3,
     "metadata": {},
     "output_type": "execute_result"
    }
   ],
   "source": [
    "1.23e+2"
   ]
  },
  {
   "cell_type": "markdown",
   "id": "fbf96a4c-fdae-49f3-99e0-5cf12e5e92f9",
   "metadata": {},
   "source": [
    "#### Dodatkowe typy danych liczbowych\n",
    "\n",
    "* [liczby ułamkowe](https://docs.python.org/3/library/fractions.html)\n",
    "* [liczby dziesiętne](https://docs.python.org/3/library/decimal.html)\n",
    "* [liczby zespolone](https://docs.python.org/3/library/functions.html#complex)"
   ]
  },
  {
   "cell_type": "markdown",
   "id": "9313e1bd-19ea-4a69-aa5f-11fdc99be038",
   "metadata": {},
   "source": [
    "### Wartości logiczne"
   ]
  },
  {
   "cell_type": "code",
   "execution_count": 14,
   "id": "bf187139-790a-411d-82d1-085667568ddb",
   "metadata": {},
   "outputs": [
    {
     "data": {
      "text/plain": [
       "bool"
      ]
     },
     "execution_count": 14,
     "metadata": {},
     "output_type": "execute_result"
    }
   ],
   "source": [
    "type(True)"
   ]
  },
  {
   "cell_type": "code",
   "execution_count": 15,
   "id": "f0e154c8-be6d-41c0-8422-9f58567bae91",
   "metadata": {},
   "outputs": [
    {
     "data": {
      "text/plain": [
       "bool"
      ]
     },
     "execution_count": 15,
     "metadata": {},
     "output_type": "execute_result"
    }
   ],
   "source": [
    "type(False)"
   ]
  },
  {
   "cell_type": "markdown",
   "id": "ed90b213-aa52-4ddd-a0c9-4c05be125b80",
   "metadata": {},
   "source": [
    "### Brak danych"
   ]
  },
  {
   "cell_type": "code",
   "execution_count": 16,
   "id": "829d1285-1e4d-445a-8ff5-c037eb9b6f0f",
   "metadata": {},
   "outputs": [
    {
     "data": {
      "text/plain": [
       "NoneType"
      ]
     },
     "execution_count": 16,
     "metadata": {},
     "output_type": "execute_result"
    }
   ],
   "source": [
    "type(None)"
   ]
  },
  {
   "cell_type": "markdown",
   "id": "94ba662f-3231-4c02-9cd4-0413196da5bb",
   "metadata": {},
   "source": [
    "### Dane binarne"
   ]
  },
  {
   "cell_type": "code",
   "execution_count": 17,
   "id": "1f2f2304-1d9f-4728-9499-a1ba2305e86f",
   "metadata": {},
   "outputs": [
    {
     "data": {
      "text/plain": [
       "bytes"
      ]
     },
     "execution_count": 17,
     "metadata": {},
     "output_type": "execute_result"
    }
   ],
   "source": [
    "type(b'10101')"
   ]
  },
  {
   "cell_type": "markdown",
   "id": "f48f26d2-a94f-4888-88ab-550ba066722d",
   "metadata": {},
   "source": [
    "### Konwersja typów danych\n",
    "\n",
    "Wbudowane funkcje:\n",
    "* [int()](https://docs.python.org/3/library/functions.html#int)\n",
    "* [float()](https://docs.python.org/3/library/functions.html#float)\n",
    "* [str()](https://docs.python.org/3/library/functions.html#func-str)\n",
    "* [...]"
   ]
  },
  {
   "cell_type": "code",
   "execution_count": 20,
   "id": "5d27f000",
   "metadata": {},
   "outputs": [
    {
     "data": {
      "text/plain": [
       "'12.3'"
      ]
     },
     "execution_count": 20,
     "metadata": {},
     "output_type": "execute_result"
    }
   ],
   "source": [
    "str(12.3)"
   ]
  },
  {
   "cell_type": "code",
   "execution_count": 27,
   "id": "8f372c5b",
   "metadata": {},
   "outputs": [
    {
     "data": {
      "text/plain": [
       "255"
      ]
     },
     "execution_count": 27,
     "metadata": {},
     "output_type": "execute_result"
    }
   ],
   "source": [
    "int('0xff', base=16)"
   ]
  },
  {
   "cell_type": "code",
   "execution_count": 28,
   "id": "a6ac87f9",
   "metadata": {},
   "outputs": [
    {
     "data": {
      "text/plain": [
       "1.23"
      ]
     },
     "execution_count": 28,
     "metadata": {},
     "output_type": "execute_result"
    }
   ],
   "source": [
    "float('1.23')"
   ]
  },
  {
   "cell_type": "markdown",
   "id": "462593de-466c-48aa-9db9-77484bad260f",
   "metadata": {},
   "source": [
    "## Operatory"
   ]
  },
  {
   "cell_type": "markdown",
   "id": "14cfa184-4ed0-46f6-9a6c-4b641c1b7870",
   "metadata": {},
   "source": [
    "### Arytmetyczne"
   ]
  },
  {
   "cell_type": "code",
   "execution_count": 29,
   "id": "3bb43b7c",
   "metadata": {},
   "outputs": [
    {
     "data": {
      "text/plain": [
       "5"
      ]
     },
     "execution_count": 29,
     "metadata": {},
     "output_type": "execute_result"
    }
   ],
   "source": [
    "2 + 3"
   ]
  },
  {
   "cell_type": "code",
   "execution_count": 30,
   "id": "4f6e9f48",
   "metadata": {},
   "outputs": [
    {
     "data": {
      "text/plain": [
       "6"
      ]
     },
     "execution_count": 30,
     "metadata": {},
     "output_type": "execute_result"
    }
   ],
   "source": [
    "2 * 3"
   ]
  },
  {
   "cell_type": "code",
   "execution_count": 33,
   "id": "195f407d",
   "metadata": {},
   "outputs": [
    {
     "data": {
      "text/plain": [
       "2"
      ]
     },
     "execution_count": 33,
     "metadata": {},
     "output_type": "execute_result"
    }
   ],
   "source": [
    "5 // 2"
   ]
  },
  {
   "cell_type": "code",
   "execution_count": 36,
   "id": "d8c8ff29",
   "metadata": {},
   "outputs": [
    {
     "data": {
      "text/plain": [
       "1"
      ]
     },
     "execution_count": 36,
     "metadata": {},
     "output_type": "execute_result"
    }
   ],
   "source": [
    "5 % 2"
   ]
  },
  {
   "cell_type": "code",
   "execution_count": 37,
   "id": "ee787b1c",
   "metadata": {},
   "outputs": [
    {
     "data": {
      "text/plain": [
       "256"
      ]
     },
     "execution_count": 37,
     "metadata": {},
     "output_type": "execute_result"
    }
   ],
   "source": [
    "2 ** 8"
   ]
  },
  {
   "cell_type": "code",
   "execution_count": 38,
   "id": "830b6b7c",
   "metadata": {},
   "outputs": [
    {
     "data": {
      "text/plain": [
       "179769313486231590772930519078902473361797697894230657273430081157732675805500963132708477322407536021120113879871393357658789768814416622492847430639474124377767893424865485276302219601246094119453082952085005768838150682342462881473913110540827237163350510684586298239947245938479716304835356329624224137216"
      ]
     },
     "execution_count": 38,
     "metadata": {},
     "output_type": "execute_result"
    }
   ],
   "source": [
    "2 ** 1024"
   ]
  },
  {
   "cell_type": "code",
   "execution_count": 54,
   "id": "9e3bb4c5",
   "metadata": {},
   "outputs": [
    {
     "data": {
      "text/plain": [
       "3.3000000000000003"
      ]
     },
     "execution_count": 54,
     "metadata": {},
     "output_type": "execute_result"
    }
   ],
   "source": [
    "1.1 + 2.2"
   ]
  },
  {
   "cell_type": "code",
   "execution_count": 39,
   "id": "5b855b80",
   "metadata": {},
   "outputs": [
    {
     "data": {
      "text/plain": [
       "'abcdef'"
      ]
     },
     "execution_count": 39,
     "metadata": {},
     "output_type": "execute_result"
    }
   ],
   "source": [
    "'abc' + 'def'"
   ]
  },
  {
   "cell_type": "code",
   "execution_count": 41,
   "id": "4f83684f",
   "metadata": {},
   "outputs": [
    {
     "data": {
      "text/plain": [
       "'abc123'"
      ]
     },
     "execution_count": 41,
     "metadata": {},
     "output_type": "execute_result"
    }
   ],
   "source": [
    "'abc' + str(123)"
   ]
  },
  {
   "cell_type": "code",
   "execution_count": 43,
   "id": "c0bb71d3",
   "metadata": {},
   "outputs": [
    {
     "data": {
      "text/plain": [
       "'abcabcabcabcabcabcabcabcabcabc'"
      ]
     },
     "execution_count": 43,
     "metadata": {},
     "output_type": "execute_result"
    }
   ],
   "source": [
    "10 * 'abc'"
   ]
  },
  {
   "cell_type": "markdown",
   "id": "2499b664-687b-45c5-a6de-8b4eba7d531c",
   "metadata": {},
   "source": [
    "### Logiczne"
   ]
  },
  {
   "cell_type": "code",
   "execution_count": 44,
   "id": "c145de20",
   "metadata": {},
   "outputs": [
    {
     "data": {
      "text/plain": [
       "True"
      ]
     },
     "execution_count": 44,
     "metadata": {},
     "output_type": "execute_result"
    }
   ],
   "source": [
    "True and True"
   ]
  },
  {
   "cell_type": "code",
   "execution_count": 46,
   "id": "33193818",
   "metadata": {},
   "outputs": [
    {
     "data": {
      "text/plain": [
       "True"
      ]
     },
     "execution_count": 46,
     "metadata": {},
     "output_type": "execute_result"
    }
   ],
   "source": [
    "True or False"
   ]
  },
  {
   "cell_type": "code",
   "execution_count": 48,
   "id": "58cdf6e7",
   "metadata": {},
   "outputs": [
    {
     "data": {
      "text/plain": [
       "1"
      ]
     },
     "execution_count": 48,
     "metadata": {},
     "output_type": "execute_result"
    }
   ],
   "source": [
    "False + 1"
   ]
  },
  {
   "cell_type": "markdown",
   "id": "e98d15b8-7fb4-4a58-9f73-1fe82aafd60f",
   "metadata": {},
   "source": [
    "### Porównania"
   ]
  },
  {
   "cell_type": "code",
   "execution_count": 49,
   "id": "fc1d3c45",
   "metadata": {},
   "outputs": [
    {
     "data": {
      "text/plain": [
       "False"
      ]
     },
     "execution_count": 49,
     "metadata": {},
     "output_type": "execute_result"
    }
   ],
   "source": [
    "1 > 2"
   ]
  },
  {
   "cell_type": "code",
   "execution_count": 51,
   "id": "4e821d58",
   "metadata": {},
   "outputs": [
    {
     "data": {
      "text/plain": [
       "True"
      ]
     },
     "execution_count": 51,
     "metadata": {},
     "output_type": "execute_result"
    }
   ],
   "source": [
    "2 >= 2"
   ]
  },
  {
   "cell_type": "code",
   "execution_count": 52,
   "id": "1eab3f81",
   "metadata": {},
   "outputs": [
    {
     "data": {
      "text/plain": [
       "True"
      ]
     },
     "execution_count": 52,
     "metadata": {},
     "output_type": "execute_result"
    }
   ],
   "source": [
    "1 == 1"
   ]
  },
  {
   "cell_type": "markdown",
   "id": "4735fa38-e4cc-4e38-9491-e1311e2c3b46",
   "metadata": {},
   "source": [
    "### Przypisania"
   ]
  },
  {
   "cell_type": "code",
   "execution_count": 57,
   "id": "567dd7f8",
   "metadata": {},
   "outputs": [
    {
     "data": {
      "text/plain": [
       "int"
      ]
     },
     "execution_count": 57,
     "metadata": {},
     "output_type": "execute_result"
    }
   ],
   "source": [
    "x = 123\n",
    "type(x)"
   ]
  },
  {
   "cell_type": "code",
   "execution_count": 58,
   "id": "0dd68251",
   "metadata": {},
   "outputs": [
    {
     "data": {
      "text/plain": [
       "float"
      ]
     },
     "execution_count": 58,
     "metadata": {},
     "output_type": "execute_result"
    }
   ],
   "source": [
    "x = 1.23\n",
    "type(x)"
   ]
  },
  {
   "cell_type": "code",
   "execution_count": 60,
   "id": "1e0181df",
   "metadata": {},
   "outputs": [
    {
     "data": {
      "text/plain": [
       "str"
      ]
     },
     "execution_count": 60,
     "metadata": {},
     "output_type": "execute_result"
    }
   ],
   "source": [
    "x ='abc'\n",
    "type(x)"
   ]
  },
  {
   "cell_type": "code",
   "execution_count": 63,
   "id": "be8c2276",
   "metadata": {},
   "outputs": [
    {
     "data": {
      "text/plain": [
       "556"
      ]
     },
     "execution_count": 63,
     "metadata": {},
     "output_type": "execute_result"
    }
   ],
   "source": [
    "x = 1\n",
    "x += 555\n",
    "x"
   ]
  },
  {
   "cell_type": "code",
   "execution_count": 68,
   "id": "8784b37b",
   "metadata": {},
   "outputs": [
    {
     "data": {
      "text/plain": [
       "5.0"
      ]
     },
     "execution_count": 68,
     "metadata": {},
     "output_type": "execute_result"
    }
   ],
   "source": [
    "x = 0.5\n",
    "x *= 10\n",
    "x"
   ]
  },
  {
   "cell_type": "markdown",
   "id": "7f6fdec2-daa5-4c6a-b660-ee3f4f8794ca",
   "metadata": {},
   "source": [
    "### [Priorytety operatorów](https://docs.python.org/3/reference/expressions.html#operator-precedence)"
   ]
  },
  {
   "cell_type": "code",
   "execution_count": 65,
   "id": "35a4d441",
   "metadata": {},
   "outputs": [
    {
     "data": {
      "text/plain": [
       "9"
      ]
     },
     "execution_count": 65,
     "metadata": {},
     "output_type": "execute_result"
    }
   ],
   "source": [
    "(1 + 2) * 3"
   ]
  },
  {
   "cell_type": "code",
   "execution_count": 67,
   "id": "a37d6ec2",
   "metadata": {},
   "outputs": [
    {
     "data": {
      "text/plain": [
       "True"
      ]
     },
     "execution_count": 67,
     "metadata": {},
     "output_type": "execute_result"
    }
   ],
   "source": [
    "(x > 1) and (x < 1000)"
   ]
  },
  {
   "cell_type": "markdown",
   "id": "ce96d707-b784-4f80-8407-7f95b06d0319",
   "metadata": {},
   "source": [
    "## Instrukcja warunkowa"
   ]
  },
  {
   "cell_type": "code",
   "execution_count": 2,
   "id": "f29cb265",
   "metadata": {},
   "outputs": [],
   "source": [
    "a = -123\n",
    "if a > 0:\n",
    "    print(\"liczba dodatnia\")"
   ]
  },
  {
   "cell_type": "code",
   "execution_count": 4,
   "id": "5f1246e1",
   "metadata": {},
   "outputs": [
    {
     "name": "stdout",
     "output_type": "stream",
     "text": [
      "liczba ujemna lub zero\n"
     ]
    }
   ],
   "source": [
    "a = -123\n",
    "if a > 0:\n",
    "    print(\"liczba dodatnia\")\n",
    "else:\n",
    "    print(\"liczba ujemna lub zero\")"
   ]
  },
  {
   "cell_type": "code",
   "execution_count": 6,
   "id": "f0b2411a",
   "metadata": {},
   "outputs": [
    {
     "name": "stdout",
     "output_type": "stream",
     "text": [
      "zero\n"
     ]
    }
   ],
   "source": [
    "a = 0\n",
    "if a > 0:\n",
    "    print(\"Liczba dodatnia\")\n",
    "elif a < 0:\n",
    "    print(\"Liczba ujemna\")\n",
    "else:\n",
    "    print('zero')\n",
    "    "
   ]
  },
  {
   "cell_type": "markdown",
   "id": "17071bac",
   "metadata": {},
   "source": [
    "## [Structural Pattern Matching](https://docs.python.org/3.10/reference/compound_stmts.html#the-match-statement)"
   ]
  },
  {
   "cell_type": "markdown",
   "id": "cad5cf79-a56a-4878-acdc-ec2b8d28631a",
   "metadata": {},
   "source": [
    "## Pętla `while`"
   ]
  },
  {
   "cell_type": "code",
   "execution_count": 7,
   "id": "03a947a5-587c-4ed7-a7af-dfe5073e5868",
   "metadata": {},
   "outputs": [
    {
     "name": "stdout",
     "output_type": "stream",
     "text": [
      "1\n",
      "2\n",
      "3\n",
      "4\n",
      "5\n",
      "6\n",
      "7\n",
      "8\n",
      "9\n",
      "10\n"
     ]
    }
   ],
   "source": [
    "a = 0\n",
    "while a < 10:\n",
    "    a += 1\n",
    "    print(a)"
   ]
  },
  {
   "cell_type": "code",
   "execution_count": null,
   "id": "21ad9268",
   "metadata": {},
   "outputs": [],
   "source": []
  }
 ],
 "metadata": {
  "kernelspec": {
   "display_name": "Python 3 (ipykernel)",
   "language": "python",
   "name": "python3"
  },
  "language_info": {
   "codemirror_mode": {
    "name": "ipython",
    "version": 3
   },
   "file_extension": ".py",
   "mimetype": "text/x-python",
   "name": "python",
   "nbconvert_exporter": "python",
   "pygments_lexer": "ipython3",
   "version": "3.10.13"
  }
 },
 "nbformat": 4,
 "nbformat_minor": 5
}
