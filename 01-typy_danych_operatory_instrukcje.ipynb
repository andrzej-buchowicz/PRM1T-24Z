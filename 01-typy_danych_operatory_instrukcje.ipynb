{
 "cells": [
  {
   "cell_type": "markdown",
   "id": "11b5187e-348f-42ad-97fb-56e2b9af0fbf",
   "metadata": {},
   "source": [
    "<div style=\"text-align: center; color: #7896cf; font-size: 32px; font-weight: bold; font-family: Arial, Helvetica, sans-serif; padding-bottom: 12px;\">PODSTAWY PROGRAMOWANIA 1</div>\n",
    "<div style=\"text-align: center; color: #3c3c4c; font-size: large; font-family:monospace; padding-bottom:18px;\"> andrzej.buchowicz@pw.edu.pl</div>\n",
    "<div style=\"text-align: center; font-size: 48px; font-family: Arial, Helvetica, sans-serif; padding-bottom: 24px; line-height: 1.25;\">Podstawowe typy danych, operatory, instrukcje</div>"
   ]
  },
  {
   "cell_type": "markdown",
   "id": "7591a75f-5949-4333-9df7-6fbd5b375a49",
   "metadata": {},
   "source": [
    "## Podstawowe typy danych"
   ]
  },
  {
   "cell_type": "markdown",
   "id": "afebb548-85bf-44ff-89e7-cc864d1eb86c",
   "metadata": {},
   "source": [
    "### Dane tekstowe"
   ]
  },
  {
   "cell_type": "code",
   "execution_count": null,
   "id": "63d89f2b-a03c-4620-bb23-a61df3f5c9e9",
   "metadata": {},
   "outputs": [],
   "source": [
    "type('AB\"C')"
   ]
  },
  {
   "cell_type": "code",
   "execution_count": null,
   "id": "de164c6e",
   "metadata": {},
   "outputs": [],
   "source": [
    "type(\"A'BC\")"
   ]
  },
  {
   "cell_type": "code",
   "execution_count": null,
   "id": "f2804db7",
   "metadata": {},
   "outputs": [],
   "source": [
    "'AB\\'C'"
   ]
  },
  {
   "cell_type": "markdown",
   "id": "70fbd63f-7ffb-4d9b-af3b-89d2f57c76cc",
   "metadata": {},
   "source": [
    "### Liczby całkowite"
   ]
  },
  {
   "cell_type": "code",
   "execution_count": null,
   "id": "43e570e4-3e1f-4591-a564-64f9dd06af5b",
   "metadata": {},
   "outputs": [],
   "source": [
    "type(123)"
   ]
  },
  {
   "cell_type": "code",
   "execution_count": null,
   "id": "880c6894-bc94-41cb-94b9-9adb7cccda49",
   "metadata": {},
   "outputs": [],
   "source": [
    "0xff"
   ]
  },
  {
   "cell_type": "code",
   "execution_count": null,
   "id": "b99cc867-961d-496b-9325-09129f45abd7",
   "metadata": {},
   "outputs": [],
   "source": [
    "0b1111"
   ]
  },
  {
   "cell_type": "code",
   "execution_count": null,
   "id": "fedaa755-7f3b-43d2-9f2f-649fe4a0067a",
   "metadata": {},
   "outputs": [],
   "source": [
    "0O10"
   ]
  },
  {
   "cell_type": "markdown",
   "id": "260e7f46-d7e2-4cb7-a4f0-436a4b6a7e47",
   "metadata": {},
   "source": [
    "### Liczby rzeczywiste"
   ]
  },
  {
   "cell_type": "code",
   "execution_count": null,
   "id": "106be38d-d911-455b-915d-896f640f9c53",
   "metadata": {},
   "outputs": [],
   "source": [
    "type(123.)"
   ]
  },
  {
   "cell_type": "code",
   "execution_count": null,
   "id": "f765fec3-4fcb-41fd-8400-a73f013fdd68",
   "metadata": {},
   "outputs": [],
   "source": [
    "1.23e+2"
   ]
  },
  {
   "cell_type": "markdown",
   "id": "fbf96a4c-fdae-49f3-99e0-5cf12e5e92f9",
   "metadata": {},
   "source": [
    "#### Dodatkowe typy danych liczbowych\n",
    "\n",
    "* [liczby ułamkowe](https://docs.python.org/3/library/fractions.html)\n",
    "* [liczby dziesiętne](https://docs.python.org/3/library/decimal.html)\n",
    "* [liczby zespolone](https://docs.python.org/3/library/functions.html#complex)"
   ]
  },
  {
   "cell_type": "markdown",
   "id": "9313e1bd-19ea-4a69-aa5f-11fdc99be038",
   "metadata": {},
   "source": [
    "### Wartości logiczne"
   ]
  },
  {
   "cell_type": "code",
   "execution_count": null,
   "id": "bf187139-790a-411d-82d1-085667568ddb",
   "metadata": {},
   "outputs": [],
   "source": [
    "type(True)"
   ]
  },
  {
   "cell_type": "code",
   "execution_count": null,
   "id": "f0e154c8-be6d-41c0-8422-9f58567bae91",
   "metadata": {},
   "outputs": [],
   "source": [
    "type(False)"
   ]
  },
  {
   "cell_type": "markdown",
   "id": "ed90b213-aa52-4ddd-a0c9-4c05be125b80",
   "metadata": {},
   "source": [
    "### Brak danych"
   ]
  },
  {
   "cell_type": "code",
   "execution_count": null,
   "id": "829d1285-1e4d-445a-8ff5-c037eb9b6f0f",
   "metadata": {},
   "outputs": [],
   "source": [
    "type(None)"
   ]
  },
  {
   "cell_type": "markdown",
   "id": "94ba662f-3231-4c02-9cd4-0413196da5bb",
   "metadata": {},
   "source": [
    "### Dane binarne"
   ]
  },
  {
   "cell_type": "code",
   "execution_count": null,
   "id": "1f2f2304-1d9f-4728-9499-a1ba2305e86f",
   "metadata": {},
   "outputs": [],
   "source": [
    "type(b'10101')"
   ]
  },
  {
   "cell_type": "markdown",
   "id": "f48f26d2-a94f-4888-88ab-550ba066722d",
   "metadata": {},
   "source": [
    "### Konwersja typów danych\n",
    "\n",
    "Wbudowane funkcje:\n",
    "* [str()](https://docs.python.org/3/library/functions.html#func-str)\n",
    "* [bin()](https://docs.python.org/3/library/functions.html#bin)\n",
    "* [hex()](https://docs.python.org/3/library/functions.html#hex)\n",
    "* [float()](https://docs.python.org/3/library/functions.html#float)\n",
    "* [int()](https://docs.python.org/3/library/functions.html#int)"
   ]
  },
  {
   "cell_type": "code",
   "execution_count": null,
   "id": "5d27f000",
   "metadata": {},
   "outputs": [],
   "source": [
    "str(123)"
   ]
  },
  {
   "cell_type": "code",
   "execution_count": null,
   "id": "416a692d-2f04-4099-95e9-138d67f01693",
   "metadata": {},
   "outputs": [],
   "source": [
    "bin(4)"
   ]
  },
  {
   "cell_type": "code",
   "execution_count": null,
   "id": "a3674c50-d31e-4efd-8aa1-56d091ea4daa",
   "metadata": {},
   "outputs": [],
   "source": [
    "hex(255)"
   ]
  },
  {
   "cell_type": "code",
   "execution_count": null,
   "id": "4680c6f2-99d9-45a8-b6c1-7d95ae27e68c",
   "metadata": {},
   "outputs": [],
   "source": [
    "int(123)"
   ]
  },
  {
   "cell_type": "code",
   "execution_count": null,
   "id": "8f372c5b",
   "metadata": {},
   "outputs": [],
   "source": [
    "int('0xff')"
   ]
  },
  {
   "cell_type": "code",
   "execution_count": null,
   "id": "41d63f8a-1faf-4800-b4ac-800dc1e30448",
   "metadata": {},
   "outputs": [],
   "source": [
    "int('0b100')"
   ]
  },
  {
   "cell_type": "code",
   "execution_count": null,
   "id": "a6ac87f9",
   "metadata": {},
   "outputs": [],
   "source": [
    "float('1.23')"
   ]
  },
  {
   "cell_type": "markdown",
   "id": "462593de-466c-48aa-9db9-77484bad260f",
   "metadata": {},
   "source": [
    "## Operatory"
   ]
  },
  {
   "cell_type": "markdown",
   "id": "14cfa184-4ed0-46f6-9a6c-4b641c1b7870",
   "metadata": {},
   "source": [
    "### Arytmetyczne"
   ]
  },
  {
   "cell_type": "code",
   "execution_count": null,
   "id": "3bb43b7c",
   "metadata": {},
   "outputs": [],
   "source": [
    "2 + 3"
   ]
  },
  {
   "cell_type": "code",
   "execution_count": null,
   "id": "0e0f9f07-8354-46f7-85f1-29813def2dac",
   "metadata": {},
   "outputs": [],
   "source": [
    "2 + 3."
   ]
  },
  {
   "cell_type": "code",
   "execution_count": null,
   "id": "9e3bb4c5",
   "metadata": {},
   "outputs": [],
   "source": [
    "1.1 + 2.2"
   ]
  },
  {
   "cell_type": "code",
   "execution_count": null,
   "id": "4f6e9f48",
   "metadata": {},
   "outputs": [],
   "source": [
    "2 * 3"
   ]
  },
  {
   "cell_type": "code",
   "execution_count": null,
   "id": "195f407d",
   "metadata": {},
   "outputs": [],
   "source": [
    "5 / 2"
   ]
  },
  {
   "cell_type": "code",
   "execution_count": null,
   "id": "3c0882c0-b699-4bc4-b997-a043d5e3b705",
   "metadata": {},
   "outputs": [],
   "source": [
    "4 / 2"
   ]
  },
  {
   "cell_type": "code",
   "execution_count": null,
   "id": "561ce729-7de3-4478-8246-e18725008418",
   "metadata": {},
   "outputs": [],
   "source": [
    "5 // 2"
   ]
  },
  {
   "cell_type": "code",
   "execution_count": null,
   "id": "f13de9e5-2fe2-48de-83ff-dff8d0071108",
   "metadata": {},
   "outputs": [],
   "source": [
    "4 // 2"
   ]
  },
  {
   "cell_type": "code",
   "execution_count": null,
   "id": "d8c8ff29",
   "metadata": {},
   "outputs": [],
   "source": [
    "5 % 2"
   ]
  },
  {
   "cell_type": "code",
   "execution_count": null,
   "id": "ee787b1c",
   "metadata": {},
   "outputs": [],
   "source": [
    "2 ** 8"
   ]
  },
  {
   "cell_type": "code",
   "execution_count": null,
   "id": "830b6b7c",
   "metadata": {},
   "outputs": [],
   "source": [
    "2 ** 1024"
   ]
  },
  {
   "cell_type": "code",
   "execution_count": null,
   "id": "5b855b80",
   "metadata": {},
   "outputs": [],
   "source": [
    "'abc' + 'def'"
   ]
  },
  {
   "cell_type": "code",
   "execution_count": null,
   "id": "4f83684f",
   "metadata": {},
   "outputs": [],
   "source": [
    "'abc' + 123"
   ]
  },
  {
   "cell_type": "code",
   "execution_count": null,
   "id": "c0bb71d3",
   "metadata": {},
   "outputs": [],
   "source": [
    "50 * '='"
   ]
  },
  {
   "cell_type": "markdown",
   "id": "2499b664-687b-45c5-a6de-8b4eba7d531c",
   "metadata": {},
   "source": [
    "### Operatory logiczne"
   ]
  },
  {
   "cell_type": "code",
   "execution_count": null,
   "id": "c145de20",
   "metadata": {},
   "outputs": [],
   "source": [
    "True and True"
   ]
  },
  {
   "cell_type": "code",
   "execution_count": null,
   "id": "33193818",
   "metadata": {},
   "outputs": [],
   "source": [
    "True or False"
   ]
  },
  {
   "cell_type": "code",
   "execution_count": null,
   "id": "58cdf6e7",
   "metadata": {},
   "outputs": [],
   "source": [
    "False + 1"
   ]
  },
  {
   "cell_type": "markdown",
   "id": "478025fb-e8a0-4f11-b85e-c4ba0b0f062e",
   "metadata": {},
   "source": [
    "#### Operatory bitowe"
   ]
  },
  {
   "cell_type": "code",
   "execution_count": null,
   "id": "f1667cbd-525e-43a6-9c99-3018749523a8",
   "metadata": {},
   "outputs": [],
   "source": [
    "0b111 & 0b100"
   ]
  },
  {
   "cell_type": "code",
   "execution_count": null,
   "id": "9564797e-f0c8-4f34-bd27-9f85412805d0",
   "metadata": {},
   "outputs": [],
   "source": [
    "0b111 | 0b100"
   ]
  },
  {
   "cell_type": "code",
   "execution_count": null,
   "id": "6c2280ee-c891-4f24-8bdb-0bc970e05efd",
   "metadata": {},
   "outputs": [],
   "source": [
    "~0b111"
   ]
  },
  {
   "cell_type": "code",
   "execution_count": null,
   "id": "791ccad8-164c-4bd2-8218-dac796cb9215",
   "metadata": {},
   "outputs": [],
   "source": [
    "0b100 >> 2"
   ]
  },
  {
   "cell_type": "code",
   "execution_count": null,
   "id": "911c8325-80d2-423a-8e8d-da14313a6306",
   "metadata": {},
   "outputs": [],
   "source": [
    "0b100 << 2"
   ]
  },
  {
   "cell_type": "markdown",
   "id": "e98d15b8-7fb4-4a58-9f73-1fe82aafd60f",
   "metadata": {},
   "source": [
    "### Operatory porównania"
   ]
  },
  {
   "cell_type": "code",
   "execution_count": null,
   "id": "fc1d3c45",
   "metadata": {},
   "outputs": [],
   "source": [
    "1 > 2"
   ]
  },
  {
   "cell_type": "code",
   "execution_count": null,
   "id": "4e821d58",
   "metadata": {},
   "outputs": [],
   "source": [
    "2 >= 2"
   ]
  },
  {
   "cell_type": "code",
   "execution_count": null,
   "id": "1eab3f81",
   "metadata": {},
   "outputs": [],
   "source": [
    "1 == 1"
   ]
  },
  {
   "cell_type": "markdown",
   "id": "4735fa38-e4cc-4e38-9491-e1311e2c3b46",
   "metadata": {},
   "source": [
    "### Operatory przypisania"
   ]
  },
  {
   "cell_type": "code",
   "execution_count": null,
   "id": "567dd7f8",
   "metadata": {},
   "outputs": [],
   "source": [
    "x = 123\n",
    "type(x)"
   ]
  },
  {
   "cell_type": "code",
   "execution_count": null,
   "id": "0dd68251",
   "metadata": {},
   "outputs": [],
   "source": [
    "x = 1.23\n",
    "type(x)"
   ]
  },
  {
   "cell_type": "code",
   "execution_count": null,
   "id": "1e0181df",
   "metadata": {},
   "outputs": [],
   "source": [
    "x ='abc'\n",
    "type(x)"
   ]
  },
  {
   "cell_type": "code",
   "execution_count": null,
   "id": "be8c2276",
   "metadata": {},
   "outputs": [],
   "source": [
    "x = 1\n",
    "x += 555\n",
    "x"
   ]
  },
  {
   "cell_type": "code",
   "execution_count": null,
   "id": "8784b37b",
   "metadata": {},
   "outputs": [],
   "source": [
    "x = 0.5\n",
    "x *= 10\n",
    "x"
   ]
  },
  {
   "cell_type": "markdown",
   "id": "7f6fdec2-daa5-4c6a-b660-ee3f4f8794ca",
   "metadata": {},
   "source": [
    "### [Priorytety operatorów](https://docs.python.org/3/reference/expressions.html#operator-precedence)"
   ]
  },
  {
   "cell_type": "code",
   "execution_count": null,
   "id": "35a4d441",
   "metadata": {},
   "outputs": [],
   "source": [
    "(1 + 2) * 3"
   ]
  },
  {
   "cell_type": "code",
   "execution_count": null,
   "id": "a37d6ec2",
   "metadata": {},
   "outputs": [],
   "source": [
    "x > 1 and x < 1000"
   ]
  },
  {
   "cell_type": "markdown",
   "id": "ce96d707-b784-4f80-8407-7f95b06d0319",
   "metadata": {},
   "source": [
    "## Instrukcja warunkowa"
   ]
  },
  {
   "cell_type": "code",
   "execution_count": null,
   "id": "f29cb265",
   "metadata": {},
   "outputs": [],
   "source": [
    "a = -123\n",
    "if a > 0:\n",
    "    print(\"liczba dodatnia\")"
   ]
  },
  {
   "cell_type": "code",
   "execution_count": null,
   "id": "5f1246e1",
   "metadata": {},
   "outputs": [],
   "source": [
    "a = -123\n",
    "if a > 0:\n",
    "    print(\"liczba dodatnia\")\n",
    "else:\n",
    "    print(\"liczba ujemna lub zero\")"
   ]
  },
  {
   "cell_type": "code",
   "execution_count": null,
   "id": "f0b2411a",
   "metadata": {},
   "outputs": [],
   "source": [
    "a = 0\n",
    "if a > 0:\n",
    "    print(\"Liczba dodatnia\")\n",
    "elif a < 0:\n",
    "    print(\"Liczba ujemna\")\n",
    "else:\n",
    "    print('zero')\n",
    "    "
   ]
  },
  {
   "cell_type": "markdown",
   "id": "17071bac",
   "metadata": {},
   "source": [
    "## [Structural Pattern Matching](https://docs.python.org/3.10/reference/compound_stmts.html#the-match-statement)"
   ]
  },
  {
   "cell_type": "markdown",
   "id": "cad5cf79-a56a-4878-acdc-ec2b8d28631a",
   "metadata": {},
   "source": [
    "## Pętla `while`"
   ]
  },
  {
   "cell_type": "code",
   "execution_count": null,
   "id": "03a947a5-587c-4ed7-a7af-dfe5073e5868",
   "metadata": {},
   "outputs": [],
   "source": [
    "a = 0\n",
    "while a < 10:\n",
    "    a += 1\n",
    "    print(a)"
   ]
  },
  {
   "cell_type": "code",
   "execution_count": null,
   "id": "21ad9268",
   "metadata": {},
   "outputs": [],
   "source": [
    "a = 0\n",
    "while True:\n",
    "    a += 1\n",
    "    print(a)\n",
    "    if a >= 10:\n",
    "        break"
   ]
  },
  {
   "cell_type": "code",
   "execution_count": null,
   "id": "df857178-4701-490b-a4d6-ace1e9a42032",
   "metadata": {},
   "outputs": [],
   "source": []
  }
 ],
 "metadata": {
  "kernelspec": {
   "display_name": "Python 3 (ipykernel)",
   "language": "python",
   "name": "python3"
  },
  "language_info": {
   "codemirror_mode": {
    "name": "ipython",
    "version": 3
   },
   "file_extension": ".py",
   "mimetype": "text/x-python",
   "name": "python",
   "nbconvert_exporter": "python",
   "pygments_lexer": "ipython3",
   "version": "3.10.13"
  }
 },
 "nbformat": 4,
 "nbformat_minor": 5
}
